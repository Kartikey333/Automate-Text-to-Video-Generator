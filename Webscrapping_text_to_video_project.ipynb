{
 "cells": [
  {
   "cell_type": "code",
   "execution_count": 8,
   "id": "aa0d4929",
   "metadata": {},
   "outputs": [],
   "source": [
    "import requests\n",
    "from bs4 import BeautifulSoup\n",
    "\n",
    "def scrape_pib_website():\n",
    "    url = 'https://pib.gov.in/PressReleasePage.aspx?PRID=1958034'\n",
    "    url = 'https://pib.gov.in/'  # PIB website URL\n",
    "    response = requests.get(url)\n",
    "    soup = BeautifulSoup(response.text, 'html.parser')\n",
    "    \n",
    "    # Extract press release information\n",
    "    press_releases = soup.find_all('div', class_ ='p')\n",
    "    print(press_releases)\n",
    "    \n",
    "    for release in press_releases:\n",
    "        title = release.find('a').text\n",
    "        date = release.find('div', class_='date').text\n",
    "        link = url + release.find('a')['href']\n",
    "        \n",
    "        # Check if this is a new press release (you can use a database to store and compare)\n",
    "        if is_new_press_release(link):\n",
    "            # Notify or process the new press release\n",
    "            print(f\"New press release: {title} ({date}) - {link}\")\n",
    "\n",
    "def is_new_press_release(link):\n",
    "    # Check if the press release link is new by comparing with previously seen links\n",
    "    # You can store seen links in a database or text file\n",
    "    # Return True if it's new, False otherwise\n",
    "    pass\n",
    "\n",
    "# Run the scraping function periodically using a scheduler (e.g., cron)\n"
   ]
  },
  {
   "cell_type": "code",
   "execution_count": 9,
   "id": "5bdb0954",
   "metadata": {},
   "outputs": [
    {
     "name": "stdout",
     "output_type": "stream",
     "text": [
      "[]\n"
     ]
    }
   ],
   "source": [
    "scrape_pib_website()"
   ]
  },
  {
   "cell_type": "code",
   "execution_count": 10,
   "id": "a96bcb05",
   "metadata": {},
   "outputs": [],
   "source": [
    "import pandas as pd\n",
    "import requests\n",
    "from bs4 import BeautifulSoup\n",
    "import numpy as np"
   ]
  },
  {
   "cell_type": "code",
   "execution_count": 14,
   "id": "dbf71586",
   "metadata": {},
   "outputs": [],
   "source": [
    "webpage = requests.get('https://pib.gov.in/PressReleasePage')\n",
    "html = response.content\n",
    "soup = BeautifulSoup(html, \"html.parser\")"
   ]
  },
  {
   "cell_type": "code",
   "execution_count": null,
   "id": "570b6bf2",
   "metadata": {},
   "outputs": [],
   "source": []
  },
  {
   "cell_type": "code",
   "execution_count": 17,
   "id": "7d5bd6ea",
   "metadata": {},
   "outputs": [
    {
     "ename": "TypeError",
     "evalue": "object of type 'Response' has no len()",
     "output_type": "error",
     "traceback": [
      "\u001b[1;31m---------------------------------------------------------------------------\u001b[0m",
      "\u001b[1;31mTypeError\u001b[0m                                 Traceback (most recent call last)",
      "Input \u001b[1;32mIn [17]\u001b[0m, in \u001b[0;36m<cell line: 1>\u001b[1;34m()\u001b[0m\n\u001b[1;32m----> 1\u001b[0m soup \u001b[38;5;241m=\u001b[39m \u001b[43mBeautifulSoup\u001b[49m\u001b[43m(\u001b[49m\u001b[43mwebpage\u001b[49m\u001b[43m,\u001b[49m\u001b[38;5;124;43m'\u001b[39;49m\u001b[38;5;124;43mxml\u001b[39;49m\u001b[38;5;124;43m'\u001b[39;49m\u001b[43m)\u001b[49m\n",
      "File \u001b[1;32mC:\\ProgramData\\Anaconda3\\lib\\site-packages\\bs4\\__init__.py:313\u001b[0m, in \u001b[0;36mBeautifulSoup.__init__\u001b[1;34m(self, markup, features, builder, parse_only, from_encoding, exclude_encodings, element_classes, **kwargs)\u001b[0m\n\u001b[0;32m    311\u001b[0m \u001b[38;5;28;01mif\u001b[39;00m \u001b[38;5;28mhasattr\u001b[39m(markup, \u001b[38;5;124m'\u001b[39m\u001b[38;5;124mread\u001b[39m\u001b[38;5;124m'\u001b[39m):        \u001b[38;5;66;03m# It's a file-type object.\u001b[39;00m\n\u001b[0;32m    312\u001b[0m     markup \u001b[38;5;241m=\u001b[39m markup\u001b[38;5;241m.\u001b[39mread()\n\u001b[1;32m--> 313\u001b[0m \u001b[38;5;28;01melif\u001b[39;00m \u001b[38;5;28;43mlen\u001b[39;49m\u001b[43m(\u001b[49m\u001b[43mmarkup\u001b[49m\u001b[43m)\u001b[49m \u001b[38;5;241m<\u001b[39m\u001b[38;5;241m=\u001b[39m \u001b[38;5;241m256\u001b[39m \u001b[38;5;129;01mand\u001b[39;00m (\n\u001b[0;32m    314\u001b[0m         (\u001b[38;5;28misinstance\u001b[39m(markup, \u001b[38;5;28mbytes\u001b[39m) \u001b[38;5;129;01mand\u001b[39;00m \u001b[38;5;129;01mnot\u001b[39;00m \u001b[38;5;124mb\u001b[39m\u001b[38;5;124m'\u001b[39m\u001b[38;5;124m<\u001b[39m\u001b[38;5;124m'\u001b[39m \u001b[38;5;129;01min\u001b[39;00m markup)\n\u001b[0;32m    315\u001b[0m         \u001b[38;5;129;01mor\u001b[39;00m (\u001b[38;5;28misinstance\u001b[39m(markup, \u001b[38;5;28mstr\u001b[39m) \u001b[38;5;129;01mand\u001b[39;00m \u001b[38;5;129;01mnot\u001b[39;00m \u001b[38;5;124m'\u001b[39m\u001b[38;5;124m<\u001b[39m\u001b[38;5;124m'\u001b[39m \u001b[38;5;129;01min\u001b[39;00m markup)\n\u001b[0;32m    316\u001b[0m ):\n\u001b[0;32m    317\u001b[0m     \u001b[38;5;66;03m# Issue warnings for a couple beginner problems\u001b[39;00m\n\u001b[0;32m    318\u001b[0m     \u001b[38;5;66;03m# involving passing non-markup to Beautiful Soup.\u001b[39;00m\n\u001b[0;32m    319\u001b[0m     \u001b[38;5;66;03m# Beautiful Soup will still parse the input as markup,\u001b[39;00m\n\u001b[0;32m    320\u001b[0m     \u001b[38;5;66;03m# since that is sometimes the intended behavior.\u001b[39;00m\n\u001b[0;32m    321\u001b[0m     \u001b[38;5;28;01mif\u001b[39;00m \u001b[38;5;129;01mnot\u001b[39;00m \u001b[38;5;28mself\u001b[39m\u001b[38;5;241m.\u001b[39m_markup_is_url(markup):\n\u001b[0;32m    322\u001b[0m         \u001b[38;5;28mself\u001b[39m\u001b[38;5;241m.\u001b[39m_markup_resembles_filename(markup)                \n",
      "\u001b[1;31mTypeError\u001b[0m: object of type 'Response' has no len()"
     ]
    }
   ],
   "source": [
    "soup = BeautifulSoup(webpage,'xml')"
   ]
  },
  {
   "cell_type": "code",
   "execution_count": null,
   "id": "475d0f20",
   "metadata": {},
   "outputs": [],
   "source": [
    "import requests\n",
    "\n",
    "url = 'http://vineoftheday.com/?order_by=rating'\n",
    "response = requests.get(url)\n",
    "html = response.content\n",
    "\n",
    "soup = BeautifulSoup(html, \"html.parser\")"
   ]
  },
  {
   "cell_type": "markdown",
   "id": "c20393c0",
   "metadata": {},
   "source": [
    "## Web-Scraping --Working"
   ]
  },
  {
   "cell_type": "code",
   "execution_count": 18,
   "id": "2d79cd9a",
   "metadata": {},
   "outputs": [
    {
     "name": "stdout",
     "output_type": "stream",
     "text": [
      "\n",
      "<!DOCTYPE html PUBLIC \"-//W3C//DTD XHTML 1.0 Transitional//EN\" \"http://www.w3.org/TR/xhtml1/DTD/xhtml1-transitional.dtd\">\n",
      "\n",
      "<html xmlns=\"http://www.w3.org/1999/xhtml\">\n",
      "<head id=\"Head1\"><title>\r\n",
      "\tPress Information Bureau\r\n",
      "</title><link href=\"css/style.css\" rel=\"stylesheet\" type=\"text/css\"/><meta charset=\"utf-8\"/><meta content=\"width=device-width, initial-scale=1\" name=\"viewport\"/><link href=\"css/change.css\" media=\"screen\" rel=\"alternate stylesheet\" title=\"change\"/><link href=\"css/green.css\" media=\"screen\" rel=\"alternate stylesheet\" title=\"green\"/><link href=\"css/yellow.css\" media=\"screen\" rel=\"alternate stylesheet\" title=\"yellow\"/><link href=\"css/prtint.css\" media=\"print\" rel=\"stylesheet\" type=\"text/css\"/>\n",
      "<script src=\"js/jquery.min.js\" type=\"text/javascript\"></script>\n",
      "<script type=\"text/javascript\">\r\n",
      "        $(window).load(function () {\r\n",
      "            // executes when complete page is fully loaded, including all frames, objects and images\r\n",
      "            var varPermId = $('[id*=hydpermid').val();\r\n",
      "            $.ajax({\r\n",
      "                type: \"POST\",\r\n",
      "                url: \"AjaxMethod.aspx/UpdateHitCount\",\r\n",
      "                async: false,\r\n",
      "\r\n",
      "                data: JSON.stringify({ 'PermId': varPermId }),\r\n",
      "                contentType: \"application/json; charset=utf-8\",\r\n",
      "                dataType: \"json\",\r\n",
      "                success: function (response) {\r\n",
      "\r\n",
      "                    // var trecord = JSON.parse(response.d).length;\r\n",
      "\r\n",
      "\r\n",
      "                },\r\n",
      "                failure: function (request, error) {\r\n",
      "\r\n",
      "                    alert(\" Can't do because: \" + error);\r\n",
      "                }\r\n",
      "            });\r\n",
      "\r\n",
      "        });\r\n",
      "\r\n",
      "    </script>\n",
      "<script type=\"text/javascript\">\r\n",
      "        $(function () {\r\n",
      "            $(\"[id*=printPDF]\").click(function () {\r\n",
      "                $(\"[id*=hfGridHtml]\").val($(\"#PdfDiv\").html());\r\n",
      "            });\r\n",
      "        });\r\n",
      "    </script>\n",
      "<script async=\"\" src=\"https://www.googletagmanager.com/gtag/js?id=UA-112591026-1\"></script>\n",
      "<script>\r\n",
      "\r\n",
      "        window.dataLayer = window.dataLayer || [];\r\n",
      "\r\n",
      "        function gtag() { dataLayer.push(arguments); }\r\n",
      "\r\n",
      "        gtag('js', new Date());\r\n",
      "\r\n",
      "\r\n",
      "\r\n",
      "        gtag('config', 'UA-112591026-1');\r\n",
      "\r\n",
      "    </script>\n",
      "<meta content=\"Vice-President confers Sangeet Natak Akademi Amrit Awards\" property=\"og:title\"/><meta content=\"pib.gov.in/Pressreleaseshare.aspx?PRID=1958034\" property=\"og:url\"/><meta content=\"The Vice President, Shri Jagdeep Dhankhar today emphasized the need to promote India’s glorious cult\" property=\"og:description\"/><meta content=\"https://164.100.158.168/images/indian-emblem.png\" property=\"og:image\"/></head>\n",
      "<body>\n",
      "<form action=\"./PressReleasePage.aspx?PRID=1958034\" id=\"form1\" method=\"post\">\n",
      "<input id=\"sc_HiddenField\" name=\"sc_HiddenField\" type=\"hidden\" value=\"\"/>\n",
      "<input id=\"__VIEWSTATE\" name=\"__VIEWSTATE\" type=\"hidden\" value=\"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\"/>\n",
      "<script src=\"/ScriptResource.axd?d=jE99Xk3jc3ItVB6im_n0O_88O4frdmlBMVTZR80B3z-9uNF_xyxvsmWBTXG-GNsoH4zUBz8uZ1q8GJJPuKuAAz0p_LQQk8Me210D5yKnAr1mhQf_zbaJ52DIAFbfWtjKDiJq3A2&amp;t=ffffffffecf8d3f2\" type=\"text/javascript\"></script>\n",
      "<script type=\"text/javascript\">\r\n",
      "//<![CDATA[\r\n",
      "if (typeof(Sys) === 'undefined') throw new Error('ASP.NET Ajax client-side framework failed to load.');\r\n",
      "//]]>\r\n",
      "</script>\n",
      "<script src=\"/PressReleasePage.aspx?_TSM_HiddenField_=sc_HiddenField&amp;_TSM_CombinedScripts_=%3b%3bAjaxControlToolkit%2c+Version%3d3.5.7.123%2c+Culture%3dneutral%2c+PublicKeyToken%3d28f01b0e84b6d53e%3aen-US%3a5a4df314-b4a2-4da2-a207-9284f1b1e96c%3ade1feab2%3af2c8e708%3a720a52bf%3af9cec9bc%3a589eaa30%3aa67c2700%3aab09e3fe%3a87104b7c%3a8613aea7%3a3202a5a2%3abe6fb298\" type=\"text/javascript\"></script>\n",
      "<input id=\"__VIEWSTATEGENERATOR\" name=\"__VIEWSTATEGENERATOR\" type=\"hidden\" value=\"59B53027\"/>\n",
      "<input id=\"__VIEWSTATEENCRYPTED\" name=\"__VIEWSTATEENCRYPTED\" type=\"hidden\" value=\"\"/>\n",
      "<input id=\"__EVENTVALIDATION\" name=\"__EVENTVALIDATION\" type=\"hidden\" value=\"H4C4BOBxh9m3A8rxXmebiClFsTZRmVwMpJRd7gZUzaXr4p8mLQlI7DCL+XFMnqEfLUKhtHF1cNkyVGc+80+BPMjDV0p8GH0IzGZAD3BuaGN27Yh3ei4C1qTjWcvc885GsJNQF+ZWoqHMNs0FB2BNVM37cJ2uCRhKdvJomZUDH0cZUpyorIe7hBLnoupdf07vmA2UTE5Tk/QFVixZtXdXNpNzTdD6dolBKPNFuuFb6qtucqci7bEhrdSRBhnUhIi6LvswghNAhsPsOCL60Fad6g2SF4MtIU3hmvxUw6qorWN13TCs4YXXZj+ovKG20o/tP6vUiQ==\"/>\n",
      "<input id=\"hfGridHtml\" name=\"hfGridHtml\" type=\"hidden\"/>\n",
      "<div class=\"container\" style=\"margin-bottom: 50px;\">\n",
      "<input alt=\"pdf\" id=\"printPDF\" name=\"printPDF\" src=\"images/downloadicon1.png\" title=\"Download in PDF\" type=\"image\"/>\n",
      "<div class=\"pull-right\" style=\"display: flex\">\n",
      "<div id=\"voll\"></div>\n",
      "<div id=\"vollDT\"></div>\n",
      "<div class=\"print-icons\">\n",
      "<input id=\"Print1_print\" name=\"Print1$print\" src=\"images/printer_icon.png\" type=\"image\"/>\n",
      "</div>\n",
      "</div>\n",
      "<input id=\"hydpermid\" name=\"hydpermid\" type=\"hidden\" value=\"1958034\"/>\n",
      "<div class=\"innner-page-main-about-us-content-right-part\">\n",
      "<div class=\"MinistryNameSubhead text-center\">\r\n",
      "                    Vice President's Secretariat\r\n",
      "                </div>\n",
      "<div id=\"lg_g\"><div class=\"log_oo\"> <img alt=\"azadi ka amrit mahotsav\" src=\"https://static.pib.gov.in/WriteReadData/specificdocs/photo/2021/aug/ph202183101.png\"/> <img alt=\"g20-india-2023\" src=\"https://static.pib.gov.in/WriteReadData/specificdocs/photo/2022/nov/ph20221121131401.png\"/> </div></div>\n",
      "<div class=\"text-center\">\n",
      "<h2>\r\n",
      "                        Vice-President confers Sangeet Natak Akademi Amrit Awards<br/>\n",
      "</h2>\n",
      "<h3>\n",
      "<span id=\"ltrSubtitle\"><br/>VP calls upon media to recognize our cultural heritage and promote our talented artists<br/><br/> VP highlights historical disparities in acknowledging the achievements of distinguished personalities<br/><br/> India will reach its pinnacle on the global stage in 2047, Said Shri Dhankhar<br/><br/>VP lauds the resplendent display of Indian culture on the global stage during the G-20 summit</span>\n",
      "</h3>\n",
      "</div>\n",
      "<div class=\"ReleaseDateSubHeaddateTime text-center pt20\">\r\n",
      "                Posted On:\r\n",
      "                16 SEP 2023 7:18PM by PIB Delhi\r\n",
      "            </div>\n",
      "<div class=\"pt20\">\n",
      "</div>\n",
      "<input id=\"hydphotoUrl\" name=\"hydphotoUrl\" type=\"hidden\"/>\n",
      "<p style=\"margin-left:0in; margin-right:0in; text-align:justify\"><span style='color:#222222; font-family:\"Times New Roman\",Times,serif; font-size:16px'>The Vice President, Shri Jagdeep Dhankhar today emphasized the need to promote India’s glorious cultural heritage of India, spanning over 5000 years. He called upon the media to recognize our cultural heritage and expressed the need to protect, support and nurture our artists in a structured manner.</span></p>\n",
      "<center><blockquote class=\"twitter-tweet\"><p dir=\"ltr\" lang=\"hi\">हमारी संस्कृति 5 हजार साल पुरानी है, ऐसे दुनिया में बहुत कम देश हैं।<br/><br/>हमारे लिए आवश्यक है की हम हमारे artists की कद्र करें, उनका ध्यान रखें, उनका संरक्षण करें, उनको सींचे।<br/><br/>एक structured manner में उनकी सहायता करें। <a href=\"https://twitter.com/sangeetnatak?ref_src=twsrc%5Etfw\">@sangeetnatak</a> <a href=\"https://twitter.com/MinOfCultureGoI?ref_src=twsrc%5Etfw\">@MinOfCultureGoI</a> <a href=\"https://twitter.com/hashtag/AmritMahotsav?src=hash&amp;ref_src=twsrc%5Etfw\">#AmritMahotsav</a> <a href=\"https://t.co/hGQIy2I5ot\">pic.twitter.com/hGQIy2I5ot</a></p>— Vice President of India (@VPIndia) <a href=\"https://twitter.com/VPIndia/status/1702976269166751838?ref_src=twsrc%5Etfw\">September 16, 2023</a></blockquote> <script async=\"\" charset=\"utf-8\" src=\"https://platform.twitter.com/widgets.js\"></script>\n",
      "<blockquote class=\"twitter-tweet\"><p dir=\"ltr\" lang=\"hi\">आज में बहुत ऋणी हो कर जा रहा हूं कि मुझे ऐसे महानुभावों का आशीर्वाद प्राप्त हुआ है। <br/><br/>हमने जिनको सम्मानित किया है, उन्होंने उस कला को जीवित रखा है जिस पर सदियों तक आक्रमण होता रहा। <br/><br/>My salutations to them! <a href=\"https://twitter.com/sangeetnatak?ref_src=twsrc%5Etfw\">@sangeetnatak</a> <a href=\"https://twitter.com/MinOfCultureGoI?ref_src=twsrc%5Etfw\">@MinOfCultureGoI</a> <a href=\"https://twitter.com/hashtag/AmritMahotsav?src=hash&amp;ref_src=twsrc%5Etfw\">#AmritMahotsav</a> <a href=\"https://t.co/xkPg4Jl6Fo\">pic.twitter.com/xkPg4Jl6Fo</a></p>— Vice President of India (@VPIndia) <a href=\"https://twitter.com/VPIndia/status/1702976699372286324?ref_src=twsrc%5Etfw\">September 16, 2023</a></blockquote> <script async=\"\" charset=\"utf-8\" src=\"https://platform.twitter.com/widgets.js\"></script></center>\n",
      "<p style=\"margin-left:0in; margin-right:0in; text-align:justify\"><span style=\"font-family:Times New Roman,Times,serif\"><span style=\"font-size:16px\"><span style=\"color:#222222\"><span style=\"background-color:#ffffff\">Addressing a gathering after conferring the Sangeet Natak Akademi Amrit Awards at Vigyan Bhawan, in New Delhi today, the Vice President expressed his happiness in honoring the individuals whose contributions uphold the cultural heritage and pride of the nation.</span></span></span></span></p>\n",
      "<p style=\"margin-left:0in; margin-right:0in; text-align:justify\"><span style=\"font-family:Times New Roman,Times,serif\"><span style=\"font-size:16px\"><span style=\"color:#222222\"><span style=\"background-color:#ffffff\">Expressing his profound admiration for individuals, all above 75 years of age, awarded today, Shri Dhankhar highlighted the historical disparity in acknowledging the achievements of these distinguished personalities. Referring to many unsung heroes whose contributions have been recognised through Padma Awards in recent years, he noted the massive public approval of Awards to such individuals.</span></span></span></span></p>\n",
      "<center><blockquote class=\"twitter-tweet\"><p dir=\"ltr\" lang=\"hi\">आज के दिन कि सबसे महत्वपूर्ण बात यह है कि उनका सम्मान किया जा रहा है, जिनकी वजह से भारत की संस्कृति सम्मानित होती है, भारत का गौरव बढ़ता है! <a href=\"https://twitter.com/sangeetnatak?ref_src=twsrc%5Etfw\">@sangeetnatak</a> <a href=\"https://twitter.com/MinOfCultureGoI?ref_src=twsrc%5Etfw\">@MinOfCultureGoI</a> <a href=\"https://twitter.com/hashtag/AmritMahotsav?src=hash&amp;ref_src=twsrc%5Etfw\">#AmritMahotsav</a> <a href=\"https://t.co/Brvw6Zl1wT\">pic.twitter.com/Brvw6Zl1wT</a></p>— Vice President of India (@VPIndia) <a href=\"https://twitter.com/VPIndia/status/1702975316539678771?ref_src=twsrc%5Etfw\">September 16, 2023</a></blockquote> <script async=\"\" charset=\"utf-8\" src=\"https://platform.twitter.com/widgets.js\"></script></center>\n",
      "<p style=\"margin-left:0in; margin-right:0in; text-align:justify\"><span style=\"font-family:Times New Roman,Times,serif\"><span style=\"font-size:16px\"><span style=\"color:#222222\"><span style=\"background-color:#ffffff\">While describing veteran artists as the true defenders and architects of our cultural heritage, Shri Dhankhar stated that their invaluable contributions should have been recognized long ago. He also lauded the resplendent display of Indian culture on the global stage during the G-20 summit, and expressed confidence that with right leadership in place, India will reach its pinnacle on the global stage in 2047.</span></span></span></span></p>\n",
      "<center><blockquote class=\"twitter-tweet\"><p dir=\"ltr\" lang=\"hi\">हमारी जो सांस्कृतिक झलक <a href=\"https://twitter.com/hashtag/G20?src=hash&amp;ref_src=twsrc%5Etfw\">#G20</a> में देखने को मिली... हर कोई दंग रह गया! <a href=\"https://twitter.com/sangeetnatak?ref_src=twsrc%5Etfw\">@sangeetnatak</a> <a href=\"https://twitter.com/MinOfCultureGoI?ref_src=twsrc%5Etfw\">@MinOfCultureGoI</a> <a href=\"https://twitter.com/hashtag/AmritMahotsav?src=hash&amp;ref_src=twsrc%5Etfw\">#AmritMahotsav</a> <a href=\"https://t.co/K8usWb4Dvj\">pic.twitter.com/K8usWb4Dvj</a></p>— Vice President of India (@VPIndia) <a href=\"https://twitter.com/VPIndia/status/1702975544856653964?ref_src=twsrc%5Etfw\">September 16, 2023</a></blockquote> <script async=\"\" charset=\"utf-8\" src=\"https://platform.twitter.com/widgets.js\"></script></center>\n",
      "<p style=\"margin-left:0in; margin-right:0in; text-align:justify\"><span style=\"font-family:Times New Roman,Times,serif\"><span style=\"font-size:16px\"><span style=\"color:#222222\"><span style=\"background-color:#ffffff\"><span style=\"color:black\">Quoting from Justice Ansaria's judgment, the Vice President recounted a conversation between a soldier and a professor  and underlined that these individuals who have been honoured today are the real protectors of our cultural heritage.</span></span></span></span></span></p>\n",
      "<p style=\"margin-left:0in; margin-right:0in; text-align:justify\"><span style=\"font-family:Times New Roman,Times,serif\"><span style=\"font-size:16px\"><span style=\"color:#222222\"><span style=\"background-color:#ffffff\"><span style=\"color:black\">Shri Arjun Ram Meghwal, Minister of Law and Justice of India, Smt. Meenakshi Lekhi, MoS External Affairs and Culture, Dr Sandhya Purecha, Chairman, Sangeet Natak Akademi, senior officials from the Ministry of Culture, eminent artists from across the country and other dignitaries were present on the occasion.</span></span></span></span></span></p>\n",
      "<p style=\"margin-left:0in; margin-right:0in; text-align:justify\"><span style=\"font-family:Times New Roman,Times,serif\"><span style=\"font-size:16px\"><span style=\"color:#222222\"><span style=\"background-color:#ffffff\"><strong><u>Full text of the Vice President’s speech</u></strong><u>:</u></span></span></span></span></p>\n",
      "<p style=\"margin-left:0in; margin-right:0in; text-align:justify\"><span style=\"font-family:Times New Roman,Times,serif\"><span style=\"font-size:16px\"><span style=\"color:#222222\"><span style=\"background-color:#ffffff\"><a href=\"https://pib.gov.in/PressReleasePage.aspx?PRID=1957973\" style=\"color:#0563c1\" target=\"_blank\">https://pib.gov.in/PressReleasePage.aspx?PRID=1957973</a></span></span></span></span></p>\n",
      "<p style=\"margin-left:0in; margin-right:0in; text-align:center\">*****</p>\n",
      "<p style=\"margin-left:0in; margin-right:0in; text-align:justify\"><strong><span style=\"font-family:Times New Roman,Times,serif\"><span style=\"font-size:16px\"><span style=\"color:#222222\"><span style=\"background-color:#ffffff\">MS/RC</span></span></span></span></strong></p>\n",
      "<br>\n",
      "<br>\n",
      "<span id=\"ReleaseId\">(Release ID: 1958034)</span>\n",
      "<span id=\"lblViews\">Visitor Counter : 105</span>\n",
      "<br>\n",
      "<span id=\"lblRefPhoto\"></span><br>\n",
      "<br>\n",
      "<div class=\"BackgroundRelease\">\n",
      "</div>\n",
      "<div>\n",
      "</div>\n",
      "<br>\n",
      "<div class=\"RelTag\">\n",
      "<ul>\n",
      "</ul>\n",
      "</div>\n",
      "<div class=\"clear\">\n",
      "</div>\n",
      "<div class=\"RelLink\">\n",
      "<ul>\n",
      "</ul>\n",
      "</div>\n",
      "</br></br></br></br></br></br></div>\n",
      "<div id=\"update12\">\n",
      "<input id=\"Hidden\" name=\"Hidden\" type=\"hidden\"/>\n",
      "<div class=\"ModalWindow\" id=\"P_CategoryManagement\" style=\"display: none\">\n",
      "<div>\n",
      "<input id=\"btnClose\" name=\"btnClose\" src=\"images/close_flat_icon.png\" type=\"image\"/>\n",
      "</div>\n",
      "<div id=\"description\">\n",
      "</div>\n",
      "<div class=\"text-center\">\n",
      "<h2>\n",
      "<br/>\n",
      "</h2>\n",
      "</div>\n",
      "<br>\n",
      "<div class=\"clear\">\n",
      "</div>\n",
      "</br></div>\n",
      "</div>\n",
      "</div>\n",
      "<div id=\"PdfDiv\" style=\"display: none;\">\n",
      "<table width=\"100%\">\n",
      "<tr>\n",
      "<td style=\"font-weight: 200; text-align: center\">\r\n",
      "                        Vice President's Secretariat\r\n",
      "                        <div style=\"height: 30px; width: 100%;\">\n",
      "</div>\n",
      "<div style=\"font-weight: 200; text-align: center; font-size: 30px;\">\r\n",
      "                            Vice-President confers Sangeet Natak Akademi Amrit Awards\r\n",
      "                        </div>\n",
      "<div style=\"height: 30px; width: 100%;\">\n",
      "</div>\n",
      "<div style=\"font-weight: 200; text-align: center; font-size: 30px;\">\n",
      "<div style=\"height:30px;width:100%;\"></div>VP calls upon media to recognize our cultural heritage and promote our talented artists<div style=\"height:30px;width:100%;\"></div><div style=\"height:30px;width:100%;\"></div> VP highlights historical disparities in acknowledging the achievements of distinguished personalities<div style=\"height:30px;width:100%;\"></div><div style=\"height:30px;width:100%;\"></div> India will reach its pinnacle on the global stage in 2047, Said Shri Dhankhar<div style=\"height:30px;width:100%;\"></div><div style=\"height:30px;width:100%;\"></div>VP lauds the resplendent display of Indian culture on the global stage during the G-20 summit\r\n",
      "                        </div>\n",
      "<div style=\"height: 30px; width: 100%;\">\n",
      "</div>\n",
      "<div style=\"text-align: center; font-size: 14px;\">\r\n",
      "                            Posted On:\r\n",
      "                        16 SEP 2023 7:18PM by PIB Delhi\r\n",
      "                        </div>\n",
      "<div style=\"height: 30px; width: 100%;\">\n",
      "</div>\n",
      "<div style=\"font-weight: 200; text-align: left; font-size: 16px;\">\n",
      "<p style=\"margin-left:0in; margin-right:0in; text-align:justify\"><span style='color:#222222; font-family:\"Times New Roman\",Times,serif; font-size:16px'>The Vice President, Shri Jagdeep Dhankhar today emphasized the need to promote India’s glorious cultural heritage of India, spanning over 5000 years. He called upon the media to recognize our cultural heritage and expressed the need to protect, support and nurture our artists in a structured manner.</span></p>\n",
      "<center><blockquote class=\"twitter-tweet\"><p dir=\"ltr\" lang=\"hi\">हमारी संस्कृति 5 हजार साल पुरानी है, ऐसे दुनिया में बहुत कम देश हैं।<br/><br/>हमारे लिए आवश्यक है की हम हमारे artists की कद्र करें, उनका ध्यान रखें, उनका संरक्षण करें, उनको सींचे।<br/><br/>एक structured manner में उनकी सहायता करें। <a href=\"https://twitter.com/sangeetnatak?ref_src=twsrc%5Etfw\">@sangeetnatak</a> <a href=\"https://twitter.com/MinOfCultureGoI?ref_src=twsrc%5Etfw\">@MinOfCultureGoI</a> <a href=\"https://twitter.com/hashtag/AmritMahotsav?src=hash&amp;ref_src=twsrc%5Etfw\">#AmritMahotsav</a> <a href=\"https://t.co/hGQIy2I5ot\">pic.twitter.com/hGQIy2I5ot</a></p>— Vice President of India (@VPIndia) <a href=\"https://twitter.com/VPIndia/status/1702976269166751838?ref_src=twsrc%5Etfw\">September 16, 2023</a></blockquote> <script async=\"\" charset=\"utf-8\" src=\"https://platform.twitter.com/widgets.js\"></script>\n",
      "<blockquote class=\"twitter-tweet\"><p dir=\"ltr\" lang=\"hi\">आज में बहुत ऋणी हो कर जा रहा हूं कि मुझे ऐसे महानुभावों का आशीर्वाद प्राप्त हुआ है। <br/><br/>हमने जिनको सम्मानित किया है, उन्होंने उस कला को जीवित रखा है जिस पर सदियों तक आक्रमण होता रहा। <br/><br/>My salutations to them! <a href=\"https://twitter.com/sangeetnatak?ref_src=twsrc%5Etfw\">@sangeetnatak</a> <a href=\"https://twitter.com/MinOfCultureGoI?ref_src=twsrc%5Etfw\">@MinOfCultureGoI</a> <a href=\"https://twitter.com/hashtag/AmritMahotsav?src=hash&amp;ref_src=twsrc%5Etfw\">#AmritMahotsav</a> <a href=\"https://t.co/xkPg4Jl6Fo\">pic.twitter.com/xkPg4Jl6Fo</a></p>— Vice President of India (@VPIndia) <a href=\"https://twitter.com/VPIndia/status/1702976699372286324?ref_src=twsrc%5Etfw\">September 16, 2023</a></blockquote> <script async=\"\" charset=\"utf-8\" src=\"https://platform.twitter.com/widgets.js\"></script></center>\n",
      "<p style=\"margin-left:0in; margin-right:0in; text-align:justify\"><span style=\"font-family:Times New Roman,Times,serif\"><span style=\"font-size:16px\"><span style=\"color:#222222\"><span style=\"background-color:#ffffff\">Addressing a gathering after conferring the Sangeet Natak Akademi Amrit Awards at Vigyan Bhawan, in New Delhi today, the Vice President expressed his happiness in honoring the individuals whose contributions uphold the cultural heritage and pride of the nation.</span></span></span></span></p>\n",
      "<p style=\"margin-left:0in; margin-right:0in; text-align:justify\"><span style=\"font-family:Times New Roman,Times,serif\"><span style=\"font-size:16px\"><span style=\"color:#222222\"><span style=\"background-color:#ffffff\">Expressing his profound admiration for individuals, all above 75 years of age, awarded today, Shri Dhankhar highlighted the historical disparity in acknowledging the achievements of these distinguished personalities. Referring to many unsung heroes whose contributions have been recognised through Padma Awards in recent years, he noted the massive public approval of Awards to such individuals.</span></span></span></span></p>\n",
      "<center><blockquote class=\"twitter-tweet\"><p dir=\"ltr\" lang=\"hi\">आज के दिन कि सबसे महत्वपूर्ण बात यह है कि उनका सम्मान किया जा रहा है, जिनकी वजह से भारत की संस्कृति सम्मानित होती है, भारत का गौरव बढ़ता है! <a href=\"https://twitter.com/sangeetnatak?ref_src=twsrc%5Etfw\">@sangeetnatak</a> <a href=\"https://twitter.com/MinOfCultureGoI?ref_src=twsrc%5Etfw\">@MinOfCultureGoI</a> <a href=\"https://twitter.com/hashtag/AmritMahotsav?src=hash&amp;ref_src=twsrc%5Etfw\">#AmritMahotsav</a> <a href=\"https://t.co/Brvw6Zl1wT\">pic.twitter.com/Brvw6Zl1wT</a></p>— Vice President of India (@VPIndia) <a href=\"https://twitter.com/VPIndia/status/1702975316539678771?ref_src=twsrc%5Etfw\">September 16, 2023</a></blockquote> <script async=\"\" charset=\"utf-8\" src=\"https://platform.twitter.com/widgets.js\"></script></center>\n",
      "<p style=\"margin-left:0in; margin-right:0in; text-align:justify\"><span style=\"font-family:Times New Roman,Times,serif\"><span style=\"font-size:16px\"><span style=\"color:#222222\"><span style=\"background-color:#ffffff\">While describing veteran artists as the true defenders and architects of our cultural heritage, Shri Dhankhar stated that their invaluable contributions should have been recognized long ago. He also lauded the resplendent display of Indian culture on the global stage during the G-20 summit, and expressed confidence that with right leadership in place, India will reach its pinnacle on the global stage in 2047.</span></span></span></span></p>\n",
      "<center><blockquote class=\"twitter-tweet\"><p dir=\"ltr\" lang=\"hi\">हमारी जो सांस्कृतिक झलक <a href=\"https://twitter.com/hashtag/G20?src=hash&amp;ref_src=twsrc%5Etfw\">#G20</a> में देखने को मिली... हर कोई दंग रह गया! <a href=\"https://twitter.com/sangeetnatak?ref_src=twsrc%5Etfw\">@sangeetnatak</a> <a href=\"https://twitter.com/MinOfCultureGoI?ref_src=twsrc%5Etfw\">@MinOfCultureGoI</a> <a href=\"https://twitter.com/hashtag/AmritMahotsav?src=hash&amp;ref_src=twsrc%5Etfw\">#AmritMahotsav</a> <a href=\"https://t.co/K8usWb4Dvj\">pic.twitter.com/K8usWb4Dvj</a></p>— Vice President of India (@VPIndia) <a href=\"https://twitter.com/VPIndia/status/1702975544856653964?ref_src=twsrc%5Etfw\">September 16, 2023</a></blockquote> <script async=\"\" charset=\"utf-8\" src=\"https://platform.twitter.com/widgets.js\"></script></center>\n",
      "<p style=\"margin-left:0in; margin-right:0in; text-align:justify\"><span style=\"font-family:Times New Roman,Times,serif\"><span style=\"font-size:16px\"><span style=\"color:#222222\"><span style=\"background-color:#ffffff\"><span style=\"color:black\">Quoting from Justice Ansaria's judgment, the Vice President recounted a conversation between a soldier and a professor  and underlined that these individuals who have been honoured today are the real protectors of our cultural heritage.</span></span></span></span></span></p>\n",
      "<p style=\"margin-left:0in; margin-right:0in; text-align:justify\"><span style=\"font-family:Times New Roman,Times,serif\"><span style=\"font-size:16px\"><span style=\"color:#222222\"><span style=\"background-color:#ffffff\"><span style=\"color:black\">Shri Arjun Ram Meghwal, Minister of Law and Justice of India, Smt. Meenakshi Lekhi, MoS External Affairs and Culture, Dr Sandhya Purecha, Chairman, Sangeet Natak Akademi, senior officials from the Ministry of Culture, eminent artists from across the country and other dignitaries were present on the occasion.</span></span></span></span></span></p>\n",
      "<p style=\"margin-left:0in; margin-right:0in; text-align:justify\"><span style=\"font-family:Times New Roman,Times,serif\"><span style=\"font-size:16px\"><span style=\"color:#222222\"><span style=\"background-color:#ffffff\"><strong><u>Full text of the Vice President’s speech</u></strong><u>:</u></span></span></span></span></p>\n",
      "<p style=\"margin-left:0in; margin-right:0in; text-align:justify\"><span style=\"font-family:Times New Roman,Times,serif\"><span style=\"font-size:16px\"><span style=\"color:#222222\"><span style=\"background-color:#ffffff\"><a href=\"https://pib.gov.in/PressReleasePage.aspx?PRID=1957973\" style=\"color:#0563c1\" target=\"_blank\">https://pib.gov.in/PressReleasePage.aspx?PRID=1957973</a></span></span></span></span></p>\n",
      "<p style=\"margin-left:0in; margin-right:0in; text-align:center\">*****</p>\n",
      "<p style=\"margin-left:0in; margin-right:0in; text-align:justify\"><strong><span style=\"font-family:Times New Roman,Times,serif\"><span style=\"font-size:16px\"><span style=\"color:#222222\"><span style=\"background-color:#ffffff\">MS/RC</span></span></span></span></strong></p>\n",
      "</div>\n",
      "<div style=\"height: 30px; width: 100%;\">\n",
      "</div>\n",
      "<div style=\"height: 30px; width: 100%;\">\n",
      "</div>\n",
      "<div style=\"font-weight: 100; text-align: left; font-size: 16px;\">\r\n",
      "                            (Release ID: 1958034)\r\n",
      "                        </div>\n",
      "<div style=\"height: 30px; width: 100%;\">\n",
      "</div>\n",
      "</td>\n",
      "</tr>\n",
      "<tr>\n",
      "<td style=\"font-weight: 200; text-align: center; font-size: 24px;\"></td>\n",
      "</tr>\n",
      "</table>\n",
      "</div>\n",
      "<div class=\"clearfix\">\n",
      "</div>\n",
      "<div class=\"section1\">\n",
      "<div id=\"frst_t\">\n",
      "<div id=\"arr_rm\"><div class=\"sticky-social_mb\"><ul class=\"social_mb\"><a href=\"http://www.facebook.com/share.php?u=https://pib.gov.in/PressReleasePage.aspx?PRID=1958034\" target=\"_blank\"><li class=\"fb_b\"><img alt=\"Share on facebook\" src=\"https://static.pib.gov.in/WriteReadData/userfiles/socialmedianew/facebook.jpg\" width=\"40\"/></li></a><a href=\"https://twitter.com/intent/tweet?url=https://pib.gov.in/PressReleasePage.aspx?PRID=1958034&amp;text=Vice-President confers Sangeet Natak Akademi Amrit Awards\" target=\"_blank\"><li class=\"twitter_r\"><img alt=\"Share on twitter\" src=\"https://static.pib.gov.in/WriteReadData/specificdocs/photo/2023/aug/ph2023818240601.jpg\" width=\"40\"/> </li></a><a href=\"https://api.whatsapp.com/send?text=https://pib.gov.in/PressReleasePage.aspx?PRID=1958034\" target=\"_blank\"><li class=\"whatsapp_r\"><img alt=\"Share on whatsapp\" src=\"https://static.pib.gov.in/WriteReadData/userfiles/socialmedianew/whatsapp1.png\" width=\"40\"/></li></a><a href=\"https://mail.google.com/mail/?view=cm&amp;fs=1&amp;tf=1&amp;to=&amp;su=Vice-President confers Sangeet Natak Akademi Amrit Awards&amp;body=https://pib.gov.in/PressReleasePage.aspx?PRID=1958034&amp;ui=2&amp;tf=1&amp;pli=1\" target=\"_blank\" title=\"Share by Email\"><li class=\"fa-envelope_r\"><img alt=\"Share on email\" src=\"https://static.pib.gov.in/WriteReadData/userfiles/socialmedianew/email1.png\" width=\"40\"/></li></a><a href=\"https://www.linkedin.com/shareArticle?mini=true&amp;url=https://pib.gov.in/PressReleasePage.aspx?PRID=1958034&amp;title=Vice-President confers Sangeet Natak Akademi Amrit Awards&amp;summary=My%20favorite%20developer%20program&amp;source=LinkedIn\" target=\"_blank\"><li class=\"fa-linkedin_r\"><img alt=\"Share on linkedin\" src=\"https://static.pib.gov.in/WriteReadData/userfiles/socialmedianew/linkedin.png\" width=\"40\"/></li></a></ul></div></div>\n",
      "</div>\n",
      "<div id=\"second_t\">\n",
      "<div id=\"sndr_rm\"><div class=\"sticky-social\"><ul class=\"social\"><a href=\"http://www.facebook.com/share.php?u=https://pib.gov.in/PressReleasePage.aspx?PRID=1958034\" target=\"_blank\"><li class=\"fb_b\"><img alt=\"Share on facebook\" src=\"https://static.pib.gov.in/WriteReadData/userfiles/socialmedianew/facebook.jpg\" width=\"35\"/></li></a><a href=\"https://twitter.com/intent/tweet?url=https://pib.gov.in/PressReleasePage.aspx?PRID=1958034&amp;text=Vice-President confers Sangeet Natak Akademi Amrit Awards\" target=\"_blank\"><li class=\"twitter_r\"><img alt=\"Share on twitter\" src=\"https://static.pib.gov.in/WriteReadData/specificdocs/photo/2023/aug/ph2023818240601.jpg\" width=\"35\"/> </li></a><a href=\"https://api.whatsapp.com/send?text=https://pib.gov.in/PressReleasePage.aspx?PRID=1958034\" target=\"_blank\"><li class=\"whatsapp_r\"><img alt=\"Share on whatsapp\" src=\"https://static.pib.gov.in/WriteReadData/userfiles/socialmedianew/whatsapp1.png\" width=\"35\"/></li></a><a href=\"https://mail.google.com/mail/?view=cm&amp;fs=1&amp;tf=1&amp;to=&amp;su=Vice-President confers Sangeet Natak Akademi Amrit Awards&amp;body=https://pib.gov.in/PressReleasePage.aspx?PRID=1958034&amp;ui=2&amp;tf=1&amp;pli=1\" target=\"_blank\" title=\"Share by Email\"><li class=\"fa-envelope_r\"><img alt=\"Share on email\" src=\"https://static.pib.gov.in/WriteReadData/userfiles/socialmedianew/email1.png\" width=\"35\"/></li></a><a href=\"https://www.linkedin.com/shareArticle?mini=true&amp;url=https://pib.gov.in/PressReleasePage.aspx?PRID=1958034&amp;title=Vice-President confers Sangeet Natak Akademi Amrit Awards&amp;summary=My%20favorite%20developer%20program&amp;source=LinkedIn\" target=\"_blank\"><li class=\"fa-linkedin_r\"><img alt=\"Share on linkedin\" src=\"https://static.pib.gov.in/WriteReadData/userfiles/socialmedianew/linkedin.png\" width=\"35\"/></li></a></ul></div></div>\n",
      "</div>\n",
      "</div>\n",
      "<input id=\"ltrTitlee\" name=\"ltrTitlee\" type=\"hidden\" value=\"Vice-President confers Sangeet Natak Akademi Amrit Awards\"/>\n",
      "<input id=\"ltrSubtitlee\" name=\"ltrSubtitlee\" type=\"hidden\" value=\"&lt;br/&gt;VP calls upon media to recognize our cultural heritage and promote our talented artists&lt;br/&gt;&lt;br/&gt; VP highlights historical disparities in acknowledging the achievements of distinguished personalities&lt;br/&gt;&lt;br/&gt; India will reach its pinnacle on the global stage in 2047, Said Shri Dhankhar&lt;br/&gt;&lt;br/&gt;VP lauds the resplendent display of Indian culture on the global stage during the G-20 summit\"/>\n",
      "<input id=\"ltrDescriptionn\" name=\"ltrDescriptionn\" type=\"hidden\" value='&lt;p style=\"margin-left:0in; margin-right:0in; text-align:justify\"&gt;&lt;span style=\"color:#222222; font-family:&amp;quot;Times New Roman&amp;quot;,Times,serif; font-size:16px\"&gt;The Vice President, Shri Jagdeep Dhankhar today emphasized the need to promote India&amp;rsquo;s glorious cultural heritage of India, spanning over 5000 years. He called upon the media to recognize our cultural heritage and expressed the need to protect, support and nurture our artists in a structured manner.&lt;/span&gt;&lt;/p&gt;\r\n",
      "\r\n",
      "&lt;center&gt;&lt;blockquote class=\"twitter-tweet\"&gt;&lt;p lang=\"hi\" dir=\"ltr\"&gt;हमारी संस्कृति 5 हजार साल पुरानी है, ऐसे दुनिया में बहुत कम देश हैं।&lt;br&gt;&lt;br&gt;हमारे लिए आवश्यक है की हम हमारे artists की कद्र करें, उनका ध्यान रखें, उनका संरक्षण करें, उनको सींचे।&lt;br&gt;&lt;br&gt;एक structured manner में उनकी सहायता करें। &lt;a href=\"https://twitter.com/sangeetnatak?ref_src=twsrc%5Etfw\"&gt;@sangeetnatak&lt;/a&gt; &lt;a href=\"https://twitter.com/MinOfCultureGoI?ref_src=twsrc%5Etfw\"&gt;@MinOfCultureGoI&lt;/a&gt; &lt;a href=\"https://twitter.com/hashtag/AmritMahotsav?src=hash&amp;amp;ref_src=twsrc%5Etfw\"&gt;#AmritMahotsav&lt;/a&gt; &lt;a href=\"https://t.co/hGQIy2I5ot\"&gt;pic.twitter.com/hGQIy2I5ot&lt;/a&gt;&lt;/p&gt;&amp;mdash; Vice President of India (@VPIndia) &lt;a href=\"https://twitter.com/VPIndia/status/1702976269166751838?ref_src=twsrc%5Etfw\"&gt;September 16, 2023&lt;/a&gt;&lt;/blockquote&gt; &lt;script async src=\"https://platform.twitter.com/widgets.js\" charset=\"utf-8\"&gt;&lt;/script&gt;\r\n",
      "&lt;blockquote class=\"twitter-tweet\"&gt;&lt;p lang=\"hi\" dir=\"ltr\"&gt;आज में बहुत ऋणी हो कर जा रहा हूं कि मुझे ऐसे महानुभावों का आशीर्वाद प्राप्त हुआ है। &lt;br&gt;&lt;br&gt;हमने जिनको सम्मानित किया है, उन्होंने उस कला को जीवित रखा है जिस पर सदियों तक आक्रमण होता रहा। &lt;br&gt;&lt;br&gt;My salutations to them! &lt;a href=\"https://twitter.com/sangeetnatak?ref_src=twsrc%5Etfw\"&gt;@sangeetnatak&lt;/a&gt; &lt;a href=\"https://twitter.com/MinOfCultureGoI?ref_src=twsrc%5Etfw\"&gt;@MinOfCultureGoI&lt;/a&gt; &lt;a href=\"https://twitter.com/hashtag/AmritMahotsav?src=hash&amp;amp;ref_src=twsrc%5Etfw\"&gt;#AmritMahotsav&lt;/a&gt; &lt;a href=\"https://t.co/xkPg4Jl6Fo\"&gt;pic.twitter.com/xkPg4Jl6Fo&lt;/a&gt;&lt;/p&gt;&amp;mdash; Vice President of India (@VPIndia) &lt;a href=\"https://twitter.com/VPIndia/status/1702976699372286324?ref_src=twsrc%5Etfw\"&gt;September 16, 2023&lt;/a&gt;&lt;/blockquote&gt; &lt;script async src=\"https://platform.twitter.com/widgets.js\" charset=\"utf-8\"&gt;&lt;/script&gt;&lt;/center&gt;\r\n",
      "&lt;p style=\"margin-left:0in; margin-right:0in; text-align:justify\"&gt;&lt;span style=\"font-family:Times New Roman,Times,serif\"&gt;&lt;span style=\"font-size:16px\"&gt;&lt;span style=\"color:#222222\"&gt;&lt;span style=\"background-color:#ffffff\"&gt;Addressing a gathering after conferring the Sangeet Natak Akademi Amrit Awards at Vigyan Bhawan, in New Delhi today, the Vice President expressed his happiness in honoring the individuals whose contributions uphold the cultural heritage and pride of the nation.&lt;/span&gt;&lt;/span&gt;&lt;/span&gt;&lt;/span&gt;&lt;/p&gt;\r\n",
      "\r\n",
      "&lt;p style=\"margin-left:0in; margin-right:0in; text-align:justify\"&gt;&lt;span style=\"font-family:Times New Roman,Times,serif\"&gt;&lt;span style=\"font-size:16px\"&gt;&lt;span style=\"color:#222222\"&gt;&lt;span style=\"background-color:#ffffff\"&gt;Expressing his profound admiration for individuals, all above 75 years of age, awarded today, Shri Dhankhar highlighted the historical disparity in acknowledging the achievements of these distinguished personalities. Referring to many unsung heroes whose contributions have been recognised through Padma Awards in recent years, he noted the massive public approval of Awards to such individuals.&lt;/span&gt;&lt;/span&gt;&lt;/span&gt;&lt;/span&gt;&lt;/p&gt;\r\n",
      "\r\n",
      "&lt;center&gt;&lt;blockquote class=\"twitter-tweet\"&gt;&lt;p lang=\"hi\" dir=\"ltr\"&gt;आज के दिन कि सबसे महत्वपूर्ण बात यह है कि उनका सम्मान किया जा रहा है, जिनकी वजह से भारत की संस्कृति सम्मानित होती है, भारत का गौरव बढ़ता है! &lt;a href=\"https://twitter.com/sangeetnatak?ref_src=twsrc%5Etfw\"&gt;@sangeetnatak&lt;/a&gt; &lt;a href=\"https://twitter.com/MinOfCultureGoI?ref_src=twsrc%5Etfw\"&gt;@MinOfCultureGoI&lt;/a&gt; &lt;a href=\"https://twitter.com/hashtag/AmritMahotsav?src=hash&amp;amp;ref_src=twsrc%5Etfw\"&gt;#AmritMahotsav&lt;/a&gt; &lt;a href=\"https://t.co/Brvw6Zl1wT\"&gt;pic.twitter.com/Brvw6Zl1wT&lt;/a&gt;&lt;/p&gt;&amp;mdash; Vice President of India (@VPIndia) &lt;a href=\"https://twitter.com/VPIndia/status/1702975316539678771?ref_src=twsrc%5Etfw\"&gt;September 16, 2023&lt;/a&gt;&lt;/blockquote&gt; &lt;script async src=\"https://platform.twitter.com/widgets.js\" charset=\"utf-8\"&gt;&lt;/script&gt;&lt;/center&gt;\r\n",
      "&lt;p style=\"margin-left:0in; margin-right:0in; text-align:justify\"&gt;&lt;span style=\"font-family:Times New Roman,Times,serif\"&gt;&lt;span style=\"font-size:16px\"&gt;&lt;span style=\"color:#222222\"&gt;&lt;span style=\"background-color:#ffffff\"&gt;While describing veteran artists as the true defenders and architects of our cultural heritage, Shri Dhankhar stated that their invaluable contributions should have been recognized long ago. He also lauded the resplendent display of Indian culture on the global stage during the G-20 summit, and expressed confidence that with right leadership in place, India will reach its pinnacle on the global stage in 2047.&lt;/span&gt;&lt;/span&gt;&lt;/span&gt;&lt;/span&gt;&lt;/p&gt;\r\n",
      "\r\n",
      "&lt;center&gt;&lt;blockquote class=\"twitter-tweet\"&gt;&lt;p lang=\"hi\" dir=\"ltr\"&gt;हमारी जो सांस्कृतिक झलक &lt;a href=\"https://twitter.com/hashtag/G20?src=hash&amp;amp;ref_src=twsrc%5Etfw\"&gt;#G20&lt;/a&gt; में देखने को मिली... हर कोई दंग रह गया! &lt;a href=\"https://twitter.com/sangeetnatak?ref_src=twsrc%5Etfw\"&gt;@sangeetnatak&lt;/a&gt; &lt;a href=\"https://twitter.com/MinOfCultureGoI?ref_src=twsrc%5Etfw\"&gt;@MinOfCultureGoI&lt;/a&gt; &lt;a href=\"https://twitter.com/hashtag/AmritMahotsav?src=hash&amp;amp;ref_src=twsrc%5Etfw\"&gt;#AmritMahotsav&lt;/a&gt; &lt;a href=\"https://t.co/K8usWb4Dvj\"&gt;pic.twitter.com/K8usWb4Dvj&lt;/a&gt;&lt;/p&gt;&amp;mdash; Vice President of India (@VPIndia) &lt;a href=\"https://twitter.com/VPIndia/status/1702975544856653964?ref_src=twsrc%5Etfw\"&gt;September 16, 2023&lt;/a&gt;&lt;/blockquote&gt; &lt;script async src=\"https://platform.twitter.com/widgets.js\" charset=\"utf-8\"&gt;&lt;/script&gt;&lt;/center&gt;\r\n",
      "&lt;p style=\"margin-left:0in; margin-right:0in; text-align:justify\"&gt;&lt;span style=\"font-family:Times New Roman,Times,serif\"&gt;&lt;span style=\"font-size:16px\"&gt;&lt;span style=\"color:#222222\"&gt;&lt;span style=\"background-color:#ffffff\"&gt;&lt;span style=\"color:black\"&gt;Quoting from Justice Ansaria&amp;#39;s judgment, the Vice President recounted a conversation between a soldier and a professor &amp;nbsp;and underlined that these individuals who have been honoured today are the real protectors of our cultural heritage.&lt;/span&gt;&lt;/span&gt;&lt;/span&gt;&lt;/span&gt;&lt;/span&gt;&lt;/p&gt;\r\n",
      "\r\n",
      "&lt;p style=\"margin-left:0in; margin-right:0in; text-align:justify\"&gt;&lt;span style=\"font-family:Times New Roman,Times,serif\"&gt;&lt;span style=\"font-size:16px\"&gt;&lt;span style=\"color:#222222\"&gt;&lt;span style=\"background-color:#ffffff\"&gt;&lt;span style=\"color:black\"&gt;Shri Arjun Ram Meghwal, Minister of Law and Justice of India, Smt. Meenakshi Lekhi, MoS External Affairs and Culture, Dr Sandhya Purecha, Chairman, Sangeet Natak Akademi, senior officials from the Ministry of Culture, eminent artists from across the country and other dignitaries were present on the occasion.&lt;/span&gt;&lt;/span&gt;&lt;/span&gt;&lt;/span&gt;&lt;/span&gt;&lt;/p&gt;\r\n",
      "\r\n",
      "&lt;p style=\"margin-left:0in; margin-right:0in; text-align:justify\"&gt;&lt;span style=\"font-family:Times New Roman,Times,serif\"&gt;&lt;span style=\"font-size:16px\"&gt;&lt;span style=\"color:#222222\"&gt;&lt;span style=\"background-color:#ffffff\"&gt;&lt;strong&gt;&lt;u&gt;Full text of the Vice President&amp;rsquo;s speech&lt;/u&gt;&lt;/strong&gt;&lt;u&gt;:&lt;/u&gt;&lt;/span&gt;&lt;/span&gt;&lt;/span&gt;&lt;/span&gt;&lt;/p&gt;\r\n",
      "\r\n",
      "&lt;p style=\"margin-left:0in; margin-right:0in; text-align:justify\"&gt;&lt;span style=\"font-family:Times New Roman,Times,serif\"&gt;&lt;span style=\"font-size:16px\"&gt;&lt;span style=\"color:#222222\"&gt;&lt;span style=\"background-color:#ffffff\"&gt;&lt;a href=\"https://pib.gov.in/PressReleasePage.aspx?PRID=1957973\" style=\"color:#0563c1\" target=\"_blank\"&gt;https://pib.gov.in/PressReleasePage.aspx?PRID=1957973&lt;/a&gt;&lt;/span&gt;&lt;/span&gt;&lt;/span&gt;&lt;/span&gt;&lt;/p&gt;\r\n",
      "\r\n",
      "&lt;p style=\"margin-left:0in; margin-right:0in; text-align:center\"&gt;*****&lt;/p&gt;\r\n",
      "\r\n",
      "&lt;p style=\"margin-left:0in; margin-right:0in; text-align:justify\"&gt;&lt;strong&gt;&lt;span style=\"font-family:Times New Roman,Times,serif\"&gt;&lt;span style=\"font-size:16px\"&gt;&lt;span style=\"color:#222222\"&gt;&lt;span style=\"background-color:#ffffff\"&gt;MS/RC&lt;/span&gt;&lt;/span&gt;&lt;/span&gt;&lt;/span&gt;&lt;/strong&gt;&lt;/p&gt;\r\n",
      "'/>\n",
      "<script type=\"text/javascript\">\r\n",
      "            var mPlayer = document.getElementById(\"background_music\");\r\n",
      "            var mPlayAction = document.getElementById(\"playbutton\");\r\n",
      "\r\n",
      "            var isPlaying = false;\r\n",
      "\r\n",
      "            function playAudio() {\r\n",
      "                mPlayer.play();\r\n",
      "                isPlaying = true;\r\n",
      "                document.getElementById('stopA').style.display = \"block\";\r\n",
      "                document.getElementById('playA').style.display = \"none\";\r\n",
      "            }\r\n",
      "\r\n",
      "            function pauseAudio() {\r\n",
      "                mPlayer.pause();\r\n",
      "                isPlaying = false;\r\n",
      "                document.getElementById('playA').style.display = \"block\";\r\n",
      "                document.getElementById('stopA').style.display = \"none\";\r\n",
      "            }\r\n",
      "            //function HandleAudio() {\r\n",
      "            //    if (isPlaying == true) {\r\n",
      "            //        //Playing already Pause it\r\n",
      "            //        pauseAudio();\r\n",
      "            //    } else {\r\n",
      "            //        //Play the music\r\n",
      "            //        playAudio();\r\n",
      "            //    }\r\n",
      "            //}\r\n",
      "        </script>\n",
      "<script type=\"text/javascript\">\r\n",
      "            var synth = window.speechSynthesis;\r\n",
      "\r\n",
      "            \r\n",
      "            function stripHtml(html) {\r\n",
      "                let tmp = document.createElement(\"DIV\");\r\n",
      "                tmp.innerHTML = html;\r\n",
      "                return tmp.textContent || tmp.innerText || \"\";\r\n",
      "            }\r\n",
      "        </script>\n",
      "<script type=\"text/javascript\">\r\n",
      "            $(document).ready(function () {\r\n",
      "                var width = $(window).width();\r\n",
      "                if (width < 768) {\r\n",
      "\r\n",
      "                    // Extra Small Device\r\n",
      "                    document.getElementById('frst_t').style.display = \"block\";\r\n",
      "                    document.getElementById('second_t').style.display = \"none\";\r\n",
      "\r\n",
      "                } else if (width < 991) {\r\n",
      "                    document.getElementById('frst_t').style.display = \"block\";\r\n",
      "                    document.getElementById('second_t').style.display = \"none\";\r\n",
      "                    // Small Device\r\n",
      "\r\n",
      "                } else if (width < 1199) {\r\n",
      "                    document.getElementById('frst_t').style.display = \"none\";\r\n",
      "                    document.getElementById('second_t').style.display = \"block\";\r\n",
      "                    // Medium Device\r\n",
      "\r\n",
      "                } else {\r\n",
      "                    document.getElementById('frst_t').style.display = \"none\";\r\n",
      "                    document.getElementById('second_t').style.display = \"block\";\r\n",
      "                    // Large Device\r\n",
      "\r\n",
      "                }\r\n",
      "            });\r\n",
      "        </script>\n",
      "<script type=\"text/javascript\">\r\n",
      "            $(document).ready(function () {\r\n",
      "                var width = $(window).width();\r\n",
      "                if (width < 768) {\r\n",
      "\r\n",
      "                    // Extra Small Device\r\n",
      "                    document.getElementById('frst_t').style.display = \"block\";\r\n",
      "                    document.getElementById('second_t').style.display = \"none\";\r\n",
      "\r\n",
      "                } else if (width < 991) {\r\n",
      "                    document.getElementById('frst_t').style.display = \"block\";\r\n",
      "                    document.getElementById('second_t').style.display = \"none\";\r\n",
      "                    // Small Device\r\n",
      "\r\n",
      "                } else if (width < 1199) {\r\n",
      "                    document.getElementById('frst_t').style.display = \"none\";\r\n",
      "                    document.getElementById('second_t').style.display = \"block\";\r\n",
      "                    // Medium Device\r\n",
      "\r\n",
      "                } else {\r\n",
      "                    document.getElementById('frst_t').style.display = \"none\";\r\n",
      "                    document.getElementById('second_t').style.display = \"block\";\r\n",
      "                    // Large Device\r\n",
      "\r\n",
      "                }\r\n",
      "            });\r\n",
      "        </script>\n",
      "<style type=\"text/css\">\r\n",
      "            .f_vl {\r\n",
      "                padding-right: 30px;\r\n",
      "                font-size: 17px;\r\n",
      "                cursor: pointer;\r\n",
      "            }\r\n",
      "\r\n",
      "            .log_oo {\r\n",
      "               // width: 20%;\r\n",
      "                display: flex;\r\n",
      "                justify-content:space-between;\r\n",
      "            }\r\n",
      "\r\n",
      "                .log_oo img {\r\n",
      "                    width: 150px;\r\n",
      "                    /*width: 100%;\r\n",
      "                    height: auto;*/\r\n",
      "                }\r\n",
      "\r\n",
      "            .sticky-social_mb {\r\n",
      "                position: fixed;\r\n",
      "                bottom: 0px;\r\n",
      "                padding: 0px;\r\n",
      "                margin: 0px;\r\n",
      "                width: 100%;\r\n",
      "            }\r\n",
      "\r\n",
      "            .social_mb {\r\n",
      "                list-style: none;\r\n",
      "                display: flex;\r\n",
      "                width: 100%;\r\n",
      "                margin-bottom: -8px;\r\n",
      "            }\r\n",
      "\r\n",
      "                .social_mb a {\r\n",
      "                    padding: 8px 0px;\r\n",
      "                    font-size: 30px;\r\n",
      "                    transition: all 0.8s ease-in-out;\r\n",
      "                    width: 20% !important;\r\n",
      "                    text-align: center;\r\n",
      "                }\r\n",
      "        </style>\n",
      "<style type=\"text/css\">\r\n",
      "            .section1 {\r\n",
      "                position: relative;\r\n",
      "                padding: 10px 0px;\r\n",
      "                width: 100%;\r\n",
      "            }\r\n",
      "\r\n",
      "\r\n",
      "\r\n",
      "            .sticky-social {\r\n",
      "                position: fixed;\r\n",
      "                top: 20px;\r\n",
      "                left: 0px;\r\n",
      "                padding: 0px;\r\n",
      "                margin: 0px;\r\n",
      "            }\r\n",
      "\r\n",
      "            .social {\r\n",
      "                list-style: none;\r\n",
      "            }\r\n",
      "\r\n",
      "                .social a li {\r\n",
      "                    padding: 8px 12px;\r\n",
      "                    font-size: 25px;\r\n",
      "                    transition: all 0.8s ease-in-out;\r\n",
      "                }\r\n",
      "\r\n",
      "                    .social a li:hover {\r\n",
      "                        margin-right: -30px;\r\n",
      "                        box-shadow: 2px 5px 10px grey;\r\n",
      "                    }\r\n",
      "\r\n",
      "                        .social a li:hover .fa {\r\n",
      "                            margin-left: 20px;\r\n",
      "                        }\r\n",
      "\r\n",
      "            .fb_b {\r\n",
      "                /* background-color: rgb(59, 89, 152);*/\r\n",
      "                background-color: rgba(65,103,178,255);\r\n",
      "            }\r\n",
      "\r\n",
      "            .twitter_r {\r\n",
      "                /* background-color: rgb(29, 161, 242);*/\r\n",
      "                background-color: #000000;\r\n",
      "            }\r\n",
      "\r\n",
      "            .whatsapp_r {\r\n",
      "                /* background-color: rgb(77, 194, 71);*/\r\n",
      "                background-color: rgba(13,191,67,255);\r\n",
      "            }\r\n",
      "\r\n",
      "            .fa-envelope_r {\r\n",
      "                /* background-color: rgb(219, 68, 55);*/\r\n",
      "                background-color: #e2123d;\r\n",
      "            }\r\n",
      "\r\n",
      "            .fa-linkedin_r {\r\n",
      "                background-color: rgb(0, 119, 181);\r\n",
      "            }\r\n",
      "        </style>\n",
      "<style type=\"text/css\">\r\n",
      "            @media only screen and (max-device-width: 767px) {\r\n",
      "                p span img {\r\n",
      "                    width: 90% !important;\r\n",
      "                    height: auto !important;\r\n",
      "                }\r\n",
      "\r\n",
      "                p img {\r\n",
      "                    width: 90% !important;\r\n",
      "                    height: auto !important;\r\n",
      "                }\r\n",
      "\r\n",
      "                h2 {\r\n",
      "                    font-size: 20px !important;\r\n",
      "                    font-weight: 600 !important;\r\n",
      "                }\r\n",
      "               h3 {\r\n",
      "                    font-size: 18px !important;\r\n",
      "                    font-weight: 600 !important;\r\n",
      "                }\r\n",
      "            }\r\n",
      "        </style>\n",
      "<script type=\"text/javascript\">\r\n",
      "//<![CDATA[\r\n",
      "(function() {var fn = function() {$get(\"sc_HiddenField\").value = '';Sys.Application.remove_init(fn);};Sys.Application.add_init(fn);})();Sys.Application.add_init(function() {\r\n",
      "    $create(Sys.Extended.UI.ModalPopupBehavior, {\"BackgroundCssClass\":\"modalBackground\",\"PopupControlID\":\"P_CategoryManagement\",\"dynamicServicePath\":\"/PressReleasePage.aspx\",\"id\":\"mpe\"}, null, null, $get(\"Hidden\"));\r\n",
      "});\r\n",
      "//]]>\r\n",
      "</script>\n",
      "<input name=\"__ncforminfo\" type=\"hidden\" value=\"Acz6Du6Lzcw6tQkyHSsMGh1TNFDJuxS9puFaDw0btzhXF5WYvRDqBXyjKpY2fhRJ5zhRSNwX34bPApzJrcHWcg==\"/></form>\n",
      "</body>\n",
      "</html>\n",
      "\n"
     ]
    }
   ],
   "source": [
    "\n",
    "\n",
    "from bs4 import BeautifulSoup\n",
    "import requests\n",
    "\n",
    "\n",
    "\n",
    "url = 'https://pib.gov.in/PressReleasePage.aspx?PRID=1958034'\n",
    "response = requests.get(url)\n",
    "html = response.content\n",
    "\n",
    "soup = BeautifulSoup(html, \"html.parser\")\n",
    "print(soup)"
   ]
  },
  {
   "cell_type": "code",
   "execution_count": 23,
   "id": "140e4e61",
   "metadata": {},
   "outputs": [
    {
     "name": "stdout",
     "output_type": "stream",
     "text": [
      "The Vice President, Shri Jagdeep Dhankhar today emphasized the need to promote India’s glorious cultural heritage of India, spanning over 5000 years. He called upon the media to recognize our cultural heritage and expressed the need to protect, support and nurture our artists in a structured manner.\n",
      "******\n",
      "हमारी संस्कृति 5 हजार साल पुरानी है, ऐसे दुनिया में बहुत कम देश हैं।हमारे लिए आवश्यक है की हम हमारे artists की कद्र करें, उनका ध्यान रखें, उनका संरक्षण करें, उनको सींचे।एक structured manner में उनकी सहायता करें। @sangeetnatak @MinOfCultureGoI #AmritMahotsav pic.twitter.com/hGQIy2I5ot\n",
      "******\n",
      "आज में बहुत ऋणी हो कर जा रहा हूं कि मुझे ऐसे महानुभावों का आशीर्वाद प्राप्त हुआ है। हमने जिनको सम्मानित किया है, उन्होंने उस कला को जीवित रखा है जिस पर सदियों तक आक्रमण होता रहा। My salutations to them! @sangeetnatak @MinOfCultureGoI #AmritMahotsav pic.twitter.com/xkPg4Jl6Fo\n",
      "******\n",
      "Addressing a gathering after conferring the Sangeet Natak Akademi Amrit Awards at Vigyan Bhawan, in New Delhi today, the Vice President expressed his happiness in honoring the individuals whose contributions uphold the cultural heritage and pride of the nation.\n",
      "******\n",
      "Expressing his profound admiration for individuals, all above 75 years of age, awarded today, Shri Dhankhar highlighted the historical disparity in acknowledging the achievements of these distinguished personalities. Referring to many unsung heroes whose contributions have been recognised through Padma Awards in recent years, he noted the massive public approval of Awards to such individuals.\n",
      "******\n",
      "आज के दिन कि सबसे महत्वपूर्ण बात यह है कि उनका सम्मान किया जा रहा है, जिनकी वजह से भारत की संस्कृति सम्मानित होती है, भारत का गौरव बढ़ता है! @sangeetnatak @MinOfCultureGoI #AmritMahotsav pic.twitter.com/Brvw6Zl1wT\n",
      "******\n",
      "While describing veteran artists as the true defenders and architects of our cultural heritage, Shri Dhankhar stated that their invaluable contributions should have been recognized long ago. He also lauded the resplendent display of Indian culture on the global stage during the G-20 summit, and expressed confidence that with right leadership in place, India will reach its pinnacle on the global stage in 2047.\n",
      "******\n",
      "हमारी जो सांस्कृतिक झलक #G20 में देखने को मिली... हर कोई दंग रह गया! @sangeetnatak @MinOfCultureGoI #AmritMahotsav pic.twitter.com/K8usWb4Dvj\n",
      "******\n",
      "Quoting from Justice Ansaria's judgment, the Vice President recounted a conversation between a soldier and a professor  and underlined that these individuals who have been honoured today are the real protectors of our cultural heritage.\n",
      "******\n",
      "Shri Arjun Ram Meghwal, Minister of Law and Justice of India, Smt. Meenakshi Lekhi, MoS External Affairs and Culture, Dr Sandhya Purecha, Chairman, Sangeet Natak Akademi, senior officials from the Ministry of Culture, eminent artists from across the country and other dignitaries were present on the occasion.\n",
      "******\n",
      "Full text of the Vice President’s speech:\n",
      "******\n",
      "https://pib.gov.in/PressReleasePage.aspx?PRID=1957973\n",
      "******\n",
      "*****\n",
      "******\n",
      "MS/RC\n",
      "******\n",
      "The Vice President, Shri Jagdeep Dhankhar today emphasized the need to promote India’s glorious cultural heritage of India, spanning over 5000 years. He called upon the media to recognize our cultural heritage and expressed the need to protect, support and nurture our artists in a structured manner.\n",
      "******\n",
      "हमारी संस्कृति 5 हजार साल पुरानी है, ऐसे दुनिया में बहुत कम देश हैं।हमारे लिए आवश्यक है की हम हमारे artists की कद्र करें, उनका ध्यान रखें, उनका संरक्षण करें, उनको सींचे।एक structured manner में उनकी सहायता करें। @sangeetnatak @MinOfCultureGoI #AmritMahotsav pic.twitter.com/hGQIy2I5ot\n",
      "******\n",
      "आज में बहुत ऋणी हो कर जा रहा हूं कि मुझे ऐसे महानुभावों का आशीर्वाद प्राप्त हुआ है। हमने जिनको सम्मानित किया है, उन्होंने उस कला को जीवित रखा है जिस पर सदियों तक आक्रमण होता रहा। My salutations to them! @sangeetnatak @MinOfCultureGoI #AmritMahotsav pic.twitter.com/xkPg4Jl6Fo\n",
      "******\n",
      "Addressing a gathering after conferring the Sangeet Natak Akademi Amrit Awards at Vigyan Bhawan, in New Delhi today, the Vice President expressed his happiness in honoring the individuals whose contributions uphold the cultural heritage and pride of the nation.\n",
      "******\n",
      "Expressing his profound admiration for individuals, all above 75 years of age, awarded today, Shri Dhankhar highlighted the historical disparity in acknowledging the achievements of these distinguished personalities. Referring to many unsung heroes whose contributions have been recognised through Padma Awards in recent years, he noted the massive public approval of Awards to such individuals.\n",
      "******\n",
      "आज के दिन कि सबसे महत्वपूर्ण बात यह है कि उनका सम्मान किया जा रहा है, जिनकी वजह से भारत की संस्कृति सम्मानित होती है, भारत का गौरव बढ़ता है! @sangeetnatak @MinOfCultureGoI #AmritMahotsav pic.twitter.com/Brvw6Zl1wT\n",
      "******\n",
      "While describing veteran artists as the true defenders and architects of our cultural heritage, Shri Dhankhar stated that their invaluable contributions should have been recognized long ago. He also lauded the resplendent display of Indian culture on the global stage during the G-20 summit, and expressed confidence that with right leadership in place, India will reach its pinnacle on the global stage in 2047.\n",
      "******\n",
      "हमारी जो सांस्कृतिक झलक #G20 में देखने को मिली... हर कोई दंग रह गया! @sangeetnatak @MinOfCultureGoI #AmritMahotsav pic.twitter.com/K8usWb4Dvj\n",
      "******\n",
      "Quoting from Justice Ansaria's judgment, the Vice President recounted a conversation between a soldier and a professor  and underlined that these individuals who have been honoured today are the real protectors of our cultural heritage.\n",
      "******\n",
      "Shri Arjun Ram Meghwal, Minister of Law and Justice of India, Smt. Meenakshi Lekhi, MoS External Affairs and Culture, Dr Sandhya Purecha, Chairman, Sangeet Natak Akademi, senior officials from the Ministry of Culture, eminent artists from across the country and other dignitaries were present on the occasion.\n",
      "******\n",
      "Full text of the Vice President’s speech:\n",
      "******\n",
      "https://pib.gov.in/PressReleasePage.aspx?PRID=1957973\n",
      "******\n",
      "*****\n",
      "******\n",
      "MS/RC\n",
      "******\n"
     ]
    }
   ],
   "source": [
    "for i in soup.find_all(\"p\"):\n",
    "    print(i.text.strip())\n",
    "    print(\"******\")"
   ]
  },
  {
   "cell_type": "markdown",
   "id": "f3525349",
   "metadata": {},
   "source": [
    "# Final with diffbot"
   ]
  },
  {
   "cell_type": "code",
   "execution_count": 36,
   "id": "29160bcf",
   "metadata": {},
   "outputs": [
    {
     "name": "stdout",
     "output_type": "stream",
     "text": [
      "Title - Vice-President hoists the national flag at the Gaja Dwar of the New Parliament Building\n",
      "\n",
      "Article -  VP describes it as a \"historic moment & a milestone development\"\n",
      "Bharat is witnessing epochal change - Vice-President\n",
      "\"The world is in total recognition of might, power and contribution of Bharat\" - Vice President\n",
      "Heralding a new beginning, from one glorious legacy to a new chapter in Bharat’s Amrit Kaal, the Vice-President & Chairman, Rajya Sabha, Shri Jagdeep Dhankhar hoisted the national flag at the Gaja Dwar of the New Parliament Building today. Speaker of Lok Sabha, Shri Om Birla also graced the occasion.\n",
      "Describing it as a \"historic moment & a milestone development,\" the Vice-President said that Bharat is witnessing epochal change and the world is in total recognition of might, power and contribution of Bharat.\n",
      "\"We are living in times where we are witnessing development & achievements which we never dreamt of. Our ground reality today is being reflected globally in the most affirmative manner,\" he added while speaking to media.\n",
      "Union ministers, Members of Parliament across the political spectrum, Secretary Generals of Rajya Sabha & Lok Sabha were also present to witness this historic moment.\n",
      "***\n",
      "MS/RC\n",
      "(Release ID: 1958149) Visitor Counter : 407\n"
     ]
    }
   ],
   "source": [
    "import requests\n",
    "import json\n",
    "\n",
    "# Replace 'YOUR_API_KEY' with your actual Diffbot API key\n",
    "api_key = '3142fab5eb8554f36dc522b2f9a5fae3'\n",
    "api_url = 'https://api.diffbot.com/v3/article'\n",
    "\n",
    "# URL of the web page you want to extract data from\n",
    "url = 'https://pib.gov.in/PressReleasePage.aspx?PRID=1958149'\n",
    "\n",
    "# Create the request headers with your API key\n",
    "headers = {'Content-Type': 'application/json'}\n",
    "params = {'token': api_key, 'url': url}\n",
    "\n",
    "# Send the request to Diffbot's API\n",
    "response = requests.get(api_url, params=params, headers=headers)\n",
    "\n",
    "# Check for a successful response\n",
    "if response.status_code == 200:\n",
    "    # Parse the JSON response\n",
    "    data = json.loads(response.text)\n",
    "#     print(type(data))\n",
    "# #     print(data)\n",
    "#     print()\n",
    "#     print(data.keys())\n",
    "#     print(data.get(\"objects\")\n",
    "# #     print(data.values())\n",
    "    \n",
    "    # Access and process the extracted data fields\n",
    "#     title = data['title']\n",
    "    title = data['objects'][0]['title']\n",
    "    article = data['objects'][0]['text']\n",
    "    # ... (access other relevant fields)\n",
    "\n",
    "    # Perform further processing or storage of the data as needed\n",
    "else:\n",
    "    print(f\"Failed to fetch data. Status code: {response.status_code}\")\n",
    "    \n",
    "print(\"Title -\", title)\n",
    "print()\n",
    "print(\"Article - \", article)"
   ]
  },
  {
   "cell_type": "code",
   "execution_count": 33,
   "id": "5dc0191f",
   "metadata": {},
   "outputs": [
    {
     "name": "stdout",
     "output_type": "stream",
     "text": [
      "Vice-President hoists the national flag at the Gaja Dwar of the New Parliament Building\n"
     ]
    }
   ],
   "source": [
    "print(title)"
   ]
  },
  {
   "cell_type": "code",
   "execution_count": 138,
   "id": "5646d35f",
   "metadata": {},
   "outputs": [],
   "source": [
    "import requests\n",
    "import json\n",
    "\n",
    "# Replace 'YOUR_API_KEY' with your actual Diffbot API key\n",
    "api_key = '3142fab5eb8554f36dc522b2f9a5fae3'\n",
    "api_url = 'https://api.diffbot.com/v3/article'\n",
    "\n",
    "# URL of the web page you want to extract data from\n",
    "url = 'https://pib.gov.in/allRel.aspx'\n",
    "\n",
    "# Create the request headers with your API key\n",
    "headers = {'Content-Type': 'application/json'}\n",
    "params = {'token': api_key, 'url': url}\n",
    "\n",
    "# Send the request to Diffbot's API\n",
    "response = requests.get(api_url, params=params, headers=headers)\n",
    "\n",
    "# Check for a successful response\n",
    "if response.status_code == 200:\n",
    "    # Parse the JSON response\n",
    "    data = json.loads(response.text)\n",
    "#     print(type(data))\n",
    "# #     print(data)\n",
    "#     print()\n",
    "#     print(data.keys())\n",
    "#     print(data.get(\"objects\")\n",
    "# #     print(data.values())\n",
    "    \n",
    "    # Access and process the extracted data fields\n",
    "#     title = data['title']\n",
    "#     title = data['objects'][0]['title']\n",
    "#     article = data['objects'][0]['text']\n",
    "    # ... (access other relevant fields)\n",
    "\n",
    "    # Perform further processing or storage of the data as needed\n",
    "else:\n",
    "    print(f\"Failed to fetch data. Status code: {response.status_code}\")\n",
    "    \n",
    "# print(\"Title -\", title)\n",
    "# print()\n",
    "# print(\"Article - \", article)"
   ]
  },
  {
   "cell_type": "code",
   "execution_count": 140,
   "id": "84a7fda9",
   "metadata": {},
   "outputs": [
    {
     "data": {
      "text/plain": [
       "dict_keys(['request', 'objects'])"
      ]
     },
     "execution_count": 140,
     "metadata": {},
     "output_type": "execute_result"
    }
   ],
   "source": [
    "data.keys()"
   ]
  },
  {
   "cell_type": "code",
   "execution_count": 142,
   "id": "ab676dab",
   "metadata": {},
   "outputs": [
    {
     "data": {
      "text/plain": [
       "dict_keys(['sentiment', 'publisherRegion', 'icon', 'diffbotUri', 'siteName', 'type', 'title', 'tags', 'publisherCountry', 'breadcrumb', 'humanLanguage', 'pageUrl', 'html', 'text'])"
      ]
     },
     "execution_count": 142,
     "metadata": {},
     "output_type": "execute_result"
    }
   ],
   "source": [
    "data[\"objects\"][0].keys()"
   ]
  },
  {
   "cell_type": "code",
   "execution_count": 143,
   "id": "0a7a744c",
   "metadata": {},
   "outputs": [
    {
     "data": {
      "text/plain": [
       "\"Ministry :\\nAll Ministry Cabinet Committee on Economic Affairs (CCEA)Cabinet Committee on Economic Affairs (CCEA) Cabinet SecretariatCabinet Secretariat Cabinet Committee on InfrastructureCabinet Committee on Infrastructure Cabinet Committee on PriceCabinet Committee on Price Cabinet Committee on InvestmentCabinet Committee on Investment AYUSHAYUSH Other Cabinet CommitteesOther Cabinet Committees Department of SpaceDepartment of Space Department of Ocean DevelopmentDepartment of Ocean Development Department of Atomic EnergyDepartment of Atomic Energy Election CommissionElection Commission Finance CommissionFinance Commission Ministry of Agriculture & Farmers WelfareMinistry of Agriculture & Farmers Welfare Ministry of Agro & Rural IndustriesMinistry of Agro & Rural Industries Ministry of Chemicals and FertilizersMinistry of Chemicals and Fertilizers Ministry of Civil AviationMinistry of Civil Aviation Ministry of CoalMinistry of Coal Ministry of Commerce & IndustryMinistry of Commerce & Industry Ministry of CommunicationsMinistry of Communications Ministry of Company AffairsMinistry of Company Affairs Ministry of Consumer Affairs, Food & Public DistributionMinistry of Consumer Affairs, Food & Public Distribution Ministry of CooperationMinistry of Cooperation Ministry of Corporate AffairsMinistry of Corporate Affairs Ministry of CultureMinistry of Culture Ministry of DefenceMinistry of Defence Ministry of Development of North-East RegionMinistry of Development of North-East Region Ministry of DisinvestmentMinistry of Disinvestment Ministry of Drinking Water & SanitationMinistry of Drinking Water & Sanitation Ministry of Earth SciencesMinistry of Earth Sciences Ministry of EducationMinistry of Education Ministry of Electronics & ITMinistry of Electronics & IT Ministry of Environment, Forest and Climate ChangeMinistry of Environment, Forest and Climate Change Ministry of External AffairsMinistry of External Affairs Ministry of FinanceMinistry of Finance Ministry of Fisheries, Animal Husbandry & DairyingMinistry of Fisheries, Animal Husbandry & Dairying Ministry of Food Processing IndustriesMinistry of Food Processing Industries Ministry of Health and Family WelfareMinistry of Health and Family Welfare Ministry of Heavy IndustriesMinistry of Heavy Industries Ministry of Home AffairsMinistry of Home Affairs Ministry of Housing & Urban AffairsMinistry of Housing & Urban Affairs Ministry of Information & BroadcastingMinistry of Information & Broadcasting Ministry of Jal ShaktiMinistry of Jal Shakti Ministry of Labour & EmploymentMinistry of Labour & Employment Ministry of Law and JusticeMinistry of Law and Justice Ministry of Micro,Small & Medium EnterprisesMinistry of Micro,Small & Medium Enterprises Ministry of MinesMinistry of Mines Ministry of Minority AffairsMinistry of Minority Affairs Ministry of New and Renewable EnergyMinistry of New and Renewable Energy Ministry of Overseas Indian AffairsMinistry of Overseas Indian Affairs Ministry of Panchayati RajMinistry of Panchayati Raj Ministry of Parliamentary AffairsMinistry of Parliamentary Affairs Ministry of Personnel, Public Grievances & PensionsMinistry of Personnel, Public Grievances & Pensions Ministry of Petroleum & Natural GasMinistry of Petroleum & Natural Gas Ministry of PlanningMinistry of Planning Ministry of PowerMinistry of Power Ministry of RailwaysMinistry of Railways Ministry of Road Transport & HighwaysMinistry of Road Transport & Highways Ministry of Rural DevelopmentMinistry of Rural Development Ministry of Science & TechnologyMinistry of Science & Technology Ministry of Ports, Shipping and WaterwaysMinistry of Ports, Shipping and Waterways Ministry of Skill Development and EntrepreneurshipMinistry of Skill Development and Entrepreneurship Ministry of Social Justice & EmpowermentMinistry of Social Justice & Empowerment Ministry of Statistics & Programme ImplementationMinistry of Statistics & Programme Implementation Ministry of SteelMinistry of Steel Ministry of Surface TransportMinistry of Surface Transport Ministry of TextilesMinistry of Textiles Ministry of TourismMinistry of Tourism Ministry of Tribal AffairsMinistry of Tribal Affairs Ministry of Urban DevelopmentMinistry of Urban Development Ministry of Water Resources, River Development and Ganga RejuvenationMinistry of Water Resources, River Development and Ganga Rejuvenation Ministry of Women and Child DevelopmentMinistry of Women and Child Development Ministry of Youth Affairs and SportsMinistry of Youth Affairs and Sports NITI AayogNITI Aayog PM SpeechPM Speech EAC-PMEAC-PM UPSCUPSC Special Service and FeaturesSpecial Service and Features PIB HeadquartersPIB Headquarters Office of Principal Scientific Advisor to GoIOffice of Principal Scientific Advisor to GoI National Financial Reporting AuthorityNational Financial Reporting Authority Competition Commission of IndiaCompetition Commission of India IFSC AuthorityIFSC Authority National Security Council SecretariatNational Security Council Secretariat\\nDate:\\n17 AllAll 11 22 33 44 55 66 77 88 99 1010 1111 1212 1313 1414 1515 1616 1717 1818 1919 2020 2121 2222 2323 2424 2525 2626 2727 2828 2929 3030 3131\\nSeptember JanuaryJanuary FebruaryFebruary MarchMarch AprilApril MayMay JuneJune JulyJuly AugustAugust SeptemberSeptember OctoberOctober NovemberNovember DecemberDecember\\n2023 20232023 20222022 20212021 20202020 20192019 20182018 20172017\\nDisplaying 22 Press Releases\\nVice President's Secretariat\\nVice-President hoists the national flag at the Gaja Dwar of the New Parliament Building\\nVice President greets Prime Minister on his Birthday\\nPrime Minister's Office\\nPrime Minister extends best wishes on Marathwada Liberation Day\\nPM pays obeisance to Bhagwan Vishwakarma on the occasion of Vishwakarma Jayanti\\nText of PM’s address at the dedication of Yashobhoomi to the Nation & launch of PM Vishwakarma Scheme\\nPM inaugurates extension of Airport Metro Express Line Station from Dwarka Sector 21 to ‘Yashobhoomi Dwarka Sector 25’\\nPM dedicates Phase 1 of India International Convention and Expo Centre - ‘Yashobhoomi’ to the nation in New Delhi\\nPM greets people on Vishwakarma Jayanti\\nPrime Minister condoles the demise of eminent author and Odisha Chief Minister’s sister, Smt. Gita Mehta\\nMinistry of Commerce & Industry\\nPM dedicates to the nation Yashobhoomi, Phase 1 of India International Convention and Expo Centre at Dwarka, launches PM Vishwakarma Yojna for artisans\\nMinistry of Defence\\nIndian Coast Guard conducts International Coastal Clean-up Day – 2023 across coastal states and UTs\\nMinistry of Earth Sciences\\nSwachh Sagar Surkashit Sagar - mega beach clean-up drives by Ministry of Earth Sciences at 79 locations on International Coastal Cleanup Day.\\nMinistry of Environment, Forest and Climate Change\\nCommemorating one year of successful implementation of Project Cheetah in India\\nMinistry of Finance\\nRaipur in Chhattisgarh to host 4th meeting of the G20 Framework Working Group from September 18-19 2023\\nMinistry of Fisheries, Animal Husbandry & Dairying\\nPrime Minister Shri Narendra Modi launches PM Vishwakarma Scheme at New Delhi today\\nMinistry of Health and Family Welfare\\nOn the start of Sewa Pakhwada, Dr. RML Hospital inaugurates India’s first dedicated OPD for Transgenders\""
      ]
     },
     "execution_count": 143,
     "metadata": {},
     "output_type": "execute_result"
    }
   ],
   "source": [
    "data[\"objects\"][0][\"text\"]"
   ]
  },
  {
   "cell_type": "code",
   "execution_count": null,
   "id": "210ee788",
   "metadata": {},
   "outputs": [],
   "source": []
  },
  {
   "cell_type": "code",
   "execution_count": null,
   "id": "240f1636",
   "metadata": {},
   "outputs": [],
   "source": [
    "https://pib.gov.in/PressReleasePage.aspx?PRID=1958169"
   ]
  },
  {
   "cell_type": "markdown",
   "id": "0a12049a",
   "metadata": {},
   "source": [
    "## Testing"
   ]
  },
  {
   "cell_type": "code",
   "execution_count": 120,
   "id": "0d5767a0",
   "metadata": {},
   "outputs": [
    {
     "ename": "TypeError",
     "evalue": "list indices must be integers or slices, not str",
     "output_type": "error",
     "traceback": [
      "\u001b[1;31m---------------------------------------------------------------------------\u001b[0m",
      "\u001b[1;31mTypeError\u001b[0m                                 Traceback (most recent call last)",
      "Input \u001b[1;32mIn [120]\u001b[0m, in \u001b[0;36m<cell line: 20>\u001b[1;34m()\u001b[0m\n\u001b[0;32m     22\u001b[0m     data \u001b[38;5;241m=\u001b[39m json\u001b[38;5;241m.\u001b[39mloads(response\u001b[38;5;241m.\u001b[39mtext)\n\u001b[0;32m     23\u001b[0m \u001b[38;5;66;03m#     print(type(data))\u001b[39;00m\n\u001b[0;32m     24\u001b[0m \u001b[38;5;66;03m# #     print(data)\u001b[39;00m\n\u001b[0;32m     25\u001b[0m \u001b[38;5;66;03m#     print()\u001b[39;00m\n\u001b[1;32m   (...)\u001b[0m\n\u001b[0;32m     30\u001b[0m     \u001b[38;5;66;03m# Access and process the extracted data fields\u001b[39;00m\n\u001b[0;32m     31\u001b[0m \u001b[38;5;66;03m#     title = data['title']\u001b[39;00m\n\u001b[1;32m---> 32\u001b[0m     title \u001b[38;5;241m=\u001b[39m \u001b[43mdata\u001b[49m\u001b[43m[\u001b[49m\u001b[38;5;124;43m'\u001b[39;49m\u001b[38;5;124;43mobjects\u001b[39;49m\u001b[38;5;124;43m'\u001b[39;49m\u001b[43m]\u001b[49m[\u001b[38;5;241m0\u001b[39m][\u001b[38;5;124m'\u001b[39m\u001b[38;5;124mtitle\u001b[39m\u001b[38;5;124m'\u001b[39m]\n\u001b[0;32m     33\u001b[0m     article \u001b[38;5;241m=\u001b[39m data[\u001b[38;5;124m'\u001b[39m\u001b[38;5;124mobjects\u001b[39m\u001b[38;5;124m'\u001b[39m][\u001b[38;5;241m0\u001b[39m][\u001b[38;5;124m'\u001b[39m\u001b[38;5;124mtext\u001b[39m\u001b[38;5;124m'\u001b[39m]\n\u001b[0;32m     34\u001b[0m     \u001b[38;5;66;03m# ... (access other relevant fields)\u001b[39;00m\n\u001b[0;32m     35\u001b[0m \n\u001b[0;32m     36\u001b[0m     \u001b[38;5;66;03m# Perform further processing or storage of the data as needed\u001b[39;00m\n\u001b[0;32m     37\u001b[0m \u001b[38;5;28;01melse\u001b[39;00m:\n",
      "\u001b[1;31mTypeError\u001b[0m: list indices must be integers or slices, not str"
     ]
    }
   ],
   "source": [
    "import requests\n",
    "import json\n",
    "\n",
    "# Replace 'YOUR_API_KEY' with your actual Diffbot API key\n",
    "api_key = '3142fab5eb8554f36dc522b2f9a5fae3'\n",
    "custom_template_url = '(http(s)?://)?(.*\\.)?pib.gov.in.*'\n",
    "api_url = 'https://api.diffbot.com/v3/custom'\n",
    "\n",
    "# URL of the web page you want to extract data from\n",
    "url = 'https://pib.gov.in/PressReleasePage.aspx?PRID=1958149'\n",
    "\n",
    "# Create the request headers with your API key\n",
    "headers = {'Content-Type': 'application/json'}\n",
    "params = {'token': api_key, 'url': url, 'custom_url': custom_template_url}\n",
    "\n",
    "# Send the request to Diffbot's API\n",
    "response = requests.get(api_url, params=params, headers=headers)\n",
    "\n",
    "# Check for a successful response\n",
    "if response.status_code == 200:\n",
    "    # Parse the JSON response\n",
    "    data = json.loads(response.text)\n",
    "#     print(type(data))\n",
    "# #     print(data)\n",
    "#     print()\n",
    "#     print(data.keys())\n",
    "#     print(data.get(\"objects\")\n",
    "# #     print(data.values())\n",
    "    \n",
    "    # Access and process the extracted data fields\n",
    "#     title = data['title']\n",
    "    title = data['objects'][0]['title']\n",
    "    article = data['objects'][0]['text']\n",
    "    # ... (access other relevant fields)\n",
    "\n",
    "    # Perform further processing or storage of the data as needed\n",
    "else:\n",
    "    print(f\"Failed to fetch data. Status code: {response.status_code}\")\n",
    "    \n",
    "print(\"Title -\", title)\n",
    "print()\n",
    "print(\"Article - \", article)"
   ]
  },
  {
   "cell_type": "code",
   "execution_count": 121,
   "id": "e5d1460f",
   "metadata": {},
   "outputs": [
    {
     "data": {
      "text/plain": [
       "[{'rules': [{'name': 'items',\n",
       "    'selector': 'li .font104',\n",
       "    'filters': [{'args': ['href'], 'type': 'attribute'}]},\n",
       "   {'name': 'Title', 'selector': 'li a', 'rules': []}],\n",
       "  'api': '/api/list',\n",
       "  'urlPattern': '(http(s)?://)?(.*\\\\.)?pib.gov.in.*',\n",
       "  'testUrl': 'https://pib.gov.in/allRel.aspx'},\n",
       " {'rules': [{'name': 'type',\n",
       "    'selector': '.innner-page-main-about-us-content-right-part .ReleaseLang'}],\n",
       "  'api': '/api/analyze',\n",
       "  'urlPattern': '(http(s)?://)?(.*\\\\.)?pib.gov.in.*',\n",
       "  'testUrl': 'https://pib.gov.in/PressReleasePage.aspx?PRID=1957426'}]"
      ]
     },
     "execution_count": 121,
     "metadata": {},
     "output_type": "execute_result"
    }
   ],
   "source": [
    "data"
   ]
  },
  {
   "cell_type": "code",
   "execution_count": 15,
   "id": "30b0d006",
   "metadata": {},
   "outputs": [
    {
     "data": {
      "text/plain": [
       "{'request': {'pageUrl': 'https://pib.gov.in/PressReleasePage.aspx?PRID=1958149',\n",
       "  'api': 'article',\n",
       "  'version': 3},\n",
       " 'objects': [{'date': 'Sun, 17 Sep 2023 07:56:00 GMT',\n",
       "   'sentiment': 0.863,\n",
       "   'images': [{'naturalHeight': 0,\n",
       "     'width': 601,\n",
       "     'diffbotUri': 'image|3|-128747037',\n",
       "     'url': 'https://static.pib.gov.in/WriteReadData/userfiles/image/image00180R9.jpg',\n",
       "     'naturalWidth': 0,\n",
       "     'primary': True,\n",
       "     'height': 401},\n",
       "    {'naturalHeight': 0,\n",
       "     'width': 601,\n",
       "     'diffbotUri': 'image|3|1005019902',\n",
       "     'url': 'https://static.pib.gov.in/WriteReadData/userfiles/image/image002B43Z.jpg',\n",
       "     'naturalWidth': 0,\n",
       "     'height': 401}],\n",
       "   'estimatedDate': 'Sun, 17 Sep 2023 07:56:00 GMT',\n",
       "   'publisherRegion': 'India',\n",
       "   'diffbotUri': 'article|3|-206109688',\n",
       "   'siteName': 'pib.gov.in',\n",
       "   'type': 'article',\n",
       "   'title': 'Vice-President hoists the national flag at the Gaja Dwar of the New Parliament Building',\n",
       "   'tags': [{'score': 0.7562642097473145,\n",
       "     'sentiment': 0,\n",
       "     'count': 5,\n",
       "     'label': 'Vice President of India',\n",
       "     'uri': 'https://diffbot.com/entity/EDUW1hN3POeO7PdqhkTpBOw',\n",
       "     'rdfTypes': ['http://dbpedia.org/ontology/Award',\n",
       "      'http://dbpedia.org/ontology/PersonFunction',\n",
       "      'http://dbpedia.org/ontology/Profession']},\n",
       "    {'score': 0.6917625069618225,\n",
       "     'sentiment': 0,\n",
       "     'count': 1,\n",
       "     'label': 'Jagdeep Dhankhar',\n",
       "     'uri': 'https://diffbot.com/entity/Eb6TfFnu4PWGtQkfhD_cLxg',\n",
       "     'rdfTypes': ['http://dbpedia.org/ontology/Person']}],\n",
       "   'publisherCountry': 'India',\n",
       "   'humanLanguage': 'en',\n",
       "   'pageUrl': 'https://pib.gov.in/PressReleasePage.aspx?PRID=1958149',\n",
       "   'html': '<h3> <br>VP describes it as a &quot;historic moment &amp; a milestone development&quot;<br><br>Bharat is witnessing epochal change - Vice-President<br><br>&quot;The world is in total recognition of might, power and contribution of Bharat&quot; - Vice President </h3>\\n<p>Heralding a new beginning, from one glorious legacy to a new chapter in Bharat&rsquo;s Amrit Kaal, the Vice-President &amp; Chairman, Rajya Sabha, Shri Jagdeep Dhankhar hoisted the national flag at the Gaja Dwar of the New Parliament Building today. Speaker of Lok Sabha, Shri Om Birla also graced the occasion.</p>\\n<p>Describing it as a &quot;historic moment &amp; a milestone development,&quot; the Vice-President said that Bharat is witnessing epochal change and the world is in total recognition of might, power and contribution of Bharat.</p>\\n<p>&quot;We are living in times where we are witnessing development &amp; achievements which we never dreamt of. Our ground reality today is being reflected globally in the most affirmative manner,&quot; he added while speaking to media.</p>\\n<p>Union ministers, Members of Parliament across the political spectrum, Secretary Generals of Rajya Sabha &amp; Lok Sabha were also present to witness this historic moment.</p>\\n<figure><img alt=\"\" src=\"https://static.pib.gov.in/WriteReadData/userfiles/image/image00180R9.jpg\"></img></figure>\\n<figure><img alt=\"\" src=\"https://static.pib.gov.in/WriteReadData/userfiles/image/image002B43Z.jpg\"></img></figure>\\n<p>***</p>\\n<p><strong>MS/RC</strong></p>\\n<p>(Release ID: 1958149) Visitor Counter : 401</p>',\n",
       "   'categories': [{'score': 0.995,\n",
       "     'name': 'Historic Site and Landmark Tours',\n",
       "     'id': 'iabv2-153'},\n",
       "    {'score': 0.995, 'name': 'Events and Attractions', 'id': 'iabv2-150'}],\n",
       "   'text': 'VP describes it as a \"historic moment & a milestone development\"\\nBharat is witnessing epochal change - Vice-President\\n\"The world is in total recognition of might, power and contribution of Bharat\" - Vice President\\nHeralding a new beginning, from one glorious legacy to a new chapter in Bharat’s Amrit Kaal, the Vice-President & Chairman, Rajya Sabha, Shri Jagdeep Dhankhar hoisted the national flag at the Gaja Dwar of the New Parliament Building today. Speaker of Lok Sabha, Shri Om Birla also graced the occasion.\\nDescribing it as a \"historic moment & a milestone development,\" the Vice-President said that Bharat is witnessing epochal change and the world is in total recognition of might, power and contribution of Bharat.\\n\"We are living in times where we are witnessing development & achievements which we never dreamt of. Our ground reality today is being reflected globally in the most affirmative manner,\" he added while speaking to media.\\nUnion ministers, Members of Parliament across the political spectrum, Secretary Generals of Rajya Sabha & Lok Sabha were also present to witness this historic moment.\\n***\\nMS/RC\\n(Release ID: 1958149) Visitor Counter : 401'}]}"
      ]
     },
     "execution_count": 15,
     "metadata": {},
     "output_type": "execute_result"
    }
   ],
   "source": [
    "data"
   ]
  },
  {
   "cell_type": "code",
   "execution_count": null,
   "id": "ee974225",
   "metadata": {},
   "outputs": [],
   "source": []
  },
  {
   "cell_type": "code",
   "execution_count": 16,
   "id": "e4eee0de",
   "metadata": {},
   "outputs": [
    {
     "data": {
      "text/plain": [
       "dict_keys(['request', 'objects'])"
      ]
     },
     "execution_count": 16,
     "metadata": {},
     "output_type": "execute_result"
    }
   ],
   "source": [
    "data.keys()"
   ]
  },
  {
   "cell_type": "code",
   "execution_count": 19,
   "id": "59ebc420",
   "metadata": {},
   "outputs": [
    {
     "data": {
      "text/plain": [
       "[{'date': 'Sun, 17 Sep 2023 07:56:00 GMT',\n",
       "  'sentiment': 0.863,\n",
       "  'images': [{'naturalHeight': 0,\n",
       "    'width': 601,\n",
       "    'diffbotUri': 'image|3|-128747037',\n",
       "    'url': 'https://static.pib.gov.in/WriteReadData/userfiles/image/image00180R9.jpg',\n",
       "    'naturalWidth': 0,\n",
       "    'primary': True,\n",
       "    'height': 401},\n",
       "   {'naturalHeight': 0,\n",
       "    'width': 601,\n",
       "    'diffbotUri': 'image|3|1005019902',\n",
       "    'url': 'https://static.pib.gov.in/WriteReadData/userfiles/image/image002B43Z.jpg',\n",
       "    'naturalWidth': 0,\n",
       "    'height': 401}],\n",
       "  'estimatedDate': 'Sun, 17 Sep 2023 07:56:00 GMT',\n",
       "  'publisherRegion': 'India',\n",
       "  'diffbotUri': 'article|3|-206109688',\n",
       "  'siteName': 'pib.gov.in',\n",
       "  'type': 'article',\n",
       "  'title': 'Vice-President hoists the national flag at the Gaja Dwar of the New Parliament Building',\n",
       "  'tags': [{'score': 0.7562642097473145,\n",
       "    'sentiment': 0,\n",
       "    'count': 5,\n",
       "    'label': 'Vice President of India',\n",
       "    'uri': 'https://diffbot.com/entity/EDUW1hN3POeO7PdqhkTpBOw',\n",
       "    'rdfTypes': ['http://dbpedia.org/ontology/Award',\n",
       "     'http://dbpedia.org/ontology/PersonFunction',\n",
       "     'http://dbpedia.org/ontology/Profession']},\n",
       "   {'score': 0.6917625069618225,\n",
       "    'sentiment': 0,\n",
       "    'count': 1,\n",
       "    'label': 'Jagdeep Dhankhar',\n",
       "    'uri': 'https://diffbot.com/entity/Eb6TfFnu4PWGtQkfhD_cLxg',\n",
       "    'rdfTypes': ['http://dbpedia.org/ontology/Person']}],\n",
       "  'publisherCountry': 'India',\n",
       "  'humanLanguage': 'en',\n",
       "  'pageUrl': 'https://pib.gov.in/PressReleasePage.aspx?PRID=1958149',\n",
       "  'html': '<h3> <br>VP describes it as a &quot;historic moment &amp; a milestone development&quot;<br><br>Bharat is witnessing epochal change - Vice-President<br><br>&quot;The world is in total recognition of might, power and contribution of Bharat&quot; - Vice President </h3>\\n<p>Heralding a new beginning, from one glorious legacy to a new chapter in Bharat&rsquo;s Amrit Kaal, the Vice-President &amp; Chairman, Rajya Sabha, Shri Jagdeep Dhankhar hoisted the national flag at the Gaja Dwar of the New Parliament Building today. Speaker of Lok Sabha, Shri Om Birla also graced the occasion.</p>\\n<p>Describing it as a &quot;historic moment &amp; a milestone development,&quot; the Vice-President said that Bharat is witnessing epochal change and the world is in total recognition of might, power and contribution of Bharat.</p>\\n<p>&quot;We are living in times where we are witnessing development &amp; achievements which we never dreamt of. Our ground reality today is being reflected globally in the most affirmative manner,&quot; he added while speaking to media.</p>\\n<p>Union ministers, Members of Parliament across the political spectrum, Secretary Generals of Rajya Sabha &amp; Lok Sabha were also present to witness this historic moment.</p>\\n<figure><img alt=\"\" src=\"https://static.pib.gov.in/WriteReadData/userfiles/image/image00180R9.jpg\"></img></figure>\\n<figure><img alt=\"\" src=\"https://static.pib.gov.in/WriteReadData/userfiles/image/image002B43Z.jpg\"></img></figure>\\n<p>***</p>\\n<p><strong>MS/RC</strong></p>\\n<p>(Release ID: 1958149) Visitor Counter : 401</p>',\n",
       "  'categories': [{'score': 0.995,\n",
       "    'name': 'Historic Site and Landmark Tours',\n",
       "    'id': 'iabv2-153'},\n",
       "   {'score': 0.995, 'name': 'Events and Attractions', 'id': 'iabv2-150'}],\n",
       "  'text': 'VP describes it as a \"historic moment & a milestone development\"\\nBharat is witnessing epochal change - Vice-President\\n\"The world is in total recognition of might, power and contribution of Bharat\" - Vice President\\nHeralding a new beginning, from one glorious legacy to a new chapter in Bharat’s Amrit Kaal, the Vice-President & Chairman, Rajya Sabha, Shri Jagdeep Dhankhar hoisted the national flag at the Gaja Dwar of the New Parliament Building today. Speaker of Lok Sabha, Shri Om Birla also graced the occasion.\\nDescribing it as a \"historic moment & a milestone development,\" the Vice-President said that Bharat is witnessing epochal change and the world is in total recognition of might, power and contribution of Bharat.\\n\"We are living in times where we are witnessing development & achievements which we never dreamt of. Our ground reality today is being reflected globally in the most affirmative manner,\" he added while speaking to media.\\nUnion ministers, Members of Parliament across the political spectrum, Secretary Generals of Rajya Sabha & Lok Sabha were also present to witness this historic moment.\\n***\\nMS/RC\\n(Release ID: 1958149) Visitor Counter : 401'}]"
      ]
     },
     "execution_count": 19,
     "metadata": {},
     "output_type": "execute_result"
    }
   ],
   "source": [
    "data[\"objects\"]"
   ]
  },
  {
   "cell_type": "code",
   "execution_count": 22,
   "id": "6565e45f",
   "metadata": {},
   "outputs": [],
   "source": [
    "p = data[\"objects\"]"
   ]
  },
  {
   "cell_type": "code",
   "execution_count": 24,
   "id": "97b7856b",
   "metadata": {},
   "outputs": [
    {
     "data": {
      "text/plain": [
       "list"
      ]
     },
     "execution_count": 24,
     "metadata": {},
     "output_type": "execute_result"
    }
   ],
   "source": [
    "type(p)"
   ]
  },
  {
   "cell_type": "code",
   "execution_count": 26,
   "id": "4b3485f5",
   "metadata": {},
   "outputs": [
    {
     "data": {
      "text/plain": [
       "'Vice-President hoists the national flag at the Gaja Dwar of the New Parliament Building'"
      ]
     },
     "execution_count": 26,
     "metadata": {},
     "output_type": "execute_result"
    }
   ],
   "source": [
    "p[0][\"title\"]"
   ]
  },
  {
   "cell_type": "code",
   "execution_count": 28,
   "id": "5e15dbcd",
   "metadata": {},
   "outputs": [
    {
     "data": {
      "text/plain": [
       "'VP describes it as a \"historic moment & a milestone development\"\\nBharat is witnessing epochal change - Vice-President\\n\"The world is in total recognition of might, power and contribution of Bharat\" - Vice President\\nHeralding a new beginning, from one glorious legacy to a new chapter in Bharat’s Amrit Kaal, the Vice-President & Chairman, Rajya Sabha, Shri Jagdeep Dhankhar hoisted the national flag at the Gaja Dwar of the New Parliament Building today. Speaker of Lok Sabha, Shri Om Birla also graced the occasion.\\nDescribing it as a \"historic moment & a milestone development,\" the Vice-President said that Bharat is witnessing epochal change and the world is in total recognition of might, power and contribution of Bharat.\\n\"We are living in times where we are witnessing development & achievements which we never dreamt of. Our ground reality today is being reflected globally in the most affirmative manner,\" he added while speaking to media.\\nUnion ministers, Members of Parliament across the political spectrum, Secretary Generals of Rajya Sabha & Lok Sabha were also present to witness this historic moment.\\n***\\nMS/RC\\n(Release ID: 1958149) Visitor Counter : 401'"
      ]
     },
     "execution_count": 28,
     "metadata": {},
     "output_type": "execute_result"
    }
   ],
   "source": [
    "p[0][\"text\"]"
   ]
  },
  {
   "cell_type": "markdown",
   "id": "7e0515e0",
   "metadata": {},
   "source": [
    "## New Checking"
   ]
  },
  {
   "cell_type": "code",
   "execution_count": 115,
   "id": "242e0b8c",
   "metadata": {
    "scrolled": false
   },
   "outputs": [
    {
     "name": "stdout",
     "output_type": "stream",
     "text": [
      "[{'rules': [{'name': 'items', 'selector': 'li .font104', 'filters': [{'args': ['href'], 'type': 'attribute'}]}, {'name': 'Title', 'selector': 'li a', 'rules': []}], 'api': '/api/list', 'urlPattern': '(http(s)?://)?(.*\\\\.)?pib.gov.in.*', 'testUrl': 'https://pib.gov.in/allRel.aspx'}, {'rules': [{'name': 'type', 'selector': 'li a', 'filters': [{'args': ['href'], 'type': 'attribute'}]}], 'api': '/api/analyze', 'urlPattern': '(http(s)?://)?(.*\\\\.)?pib.gov.in.*', 'testUrl': 'https://pib.gov.in/allRel.aspx'}]\n",
      "<class 'list'>\n",
      "[{'rules': [{'name': 'items', 'selector': 'li .font104', 'filters': [{'args': ['href'], 'type': 'attribute'}]}, {'name': 'Title', 'selector': 'li a', 'rules': []}], 'api': '/api/list', 'urlPattern': '(http(s)?://)?(.*\\\\.)?pib.gov.in.*', 'testUrl': 'https://pib.gov.in/allRel.aspx'}, {'rules': [{'name': 'type', 'selector': 'li a', 'filters': [{'args': ['href'], 'type': 'attribute'}]}], 'api': '/api/analyze', 'urlPattern': '(http(s)?://)?(.*\\\\.)?pib.gov.in.*', 'testUrl': 'https://pib.gov.in/allRel.aspx'}]\n",
      "\n"
     ]
    }
   ],
   "source": [
    "import requests\n",
    "import json\n",
    "\n",
    "# Replace 'YOUR_API_KEY' with your actual Diffbot API key\n",
    "api_key = '3142fab5eb8554f36dc522b2f9a5fae3'\n",
    "api_url = 'https://api.diffbot.com/v3/custom'\n",
    "custom_template_url = '\t(http(s)?://)?(.*\\.)?pib.gov.in.*'\n",
    "\n",
    "# URL of the web page you want to extract data from\n",
    "url = 'https://pib.gov.in/allRel.aspx'\n",
    "\n",
    "# Create the request headers with your API key\n",
    "headers = {'Content-Type': 'application/json'}\n",
    "params = {'token': api_key, 'url': url, 'custom_url' : custom_template_url}\n",
    "\n",
    "# Send the request to Diffbot's API\n",
    "response = requests.get(api_url, params=params, headers=headers)\n",
    "\n",
    "# Check for a successful response\n",
    "if response.status_code == 200:\n",
    "    # Parse the JSON response\n",
    "    print(json.loads(response.text))\n",
    "    data = json.loads(response.text)\n",
    "    print(type(data))\n",
    "    print(data)\n",
    "    print()\n",
    "#     print(data.keys())\n",
    "#     print(data.get(\"objects\")\n",
    "# #     print(data.values())\n",
    "    \n",
    "    # Access and process the extracted data fields\n",
    "#     title = data['title']\n",
    "#     item = data['objects']\n",
    "#     article = data['objects'][0]['text']\n",
    "    # ... (access other relevant fields)\n",
    "\n",
    "    # Perform further processing or storage of the data as needed\n",
    "else:\n",
    "    print(f\"Failed to fetch data. Status code: {response.status_code}\")\n",
    "    \n",
    "# print(\"Title -\", title)\n",
    "# print()\n",
    "# print(\"Article - \", article)"
   ]
  },
  {
   "cell_type": "code",
   "execution_count": 116,
   "id": "3f706cc3",
   "metadata": {},
   "outputs": [
    {
     "data": {
      "text/plain": [
       "list"
      ]
     },
     "execution_count": 116,
     "metadata": {},
     "output_type": "execute_result"
    }
   ],
   "source": [
    "type(data)"
   ]
  },
  {
   "cell_type": "code",
   "execution_count": 117,
   "id": "3b9ee069",
   "metadata": {},
   "outputs": [
    {
     "data": {
      "text/plain": [
       "[{'rules': [{'name': 'items',\n",
       "    'selector': 'li .font104',\n",
       "    'filters': [{'args': ['href'], 'type': 'attribute'}]},\n",
       "   {'name': 'Title', 'selector': 'li a', 'rules': []}],\n",
       "  'api': '/api/list',\n",
       "  'urlPattern': '(http(s)?://)?(.*\\\\.)?pib.gov.in.*',\n",
       "  'testUrl': 'https://pib.gov.in/allRel.aspx'},\n",
       " {'rules': [{'name': 'type',\n",
       "    'selector': 'li a',\n",
       "    'filters': [{'args': ['href'], 'type': 'attribute'}]}],\n",
       "  'api': '/api/analyze',\n",
       "  'urlPattern': '(http(s)?://)?(.*\\\\.)?pib.gov.in.*',\n",
       "  'testUrl': 'https://pib.gov.in/allRel.aspx'}]"
      ]
     },
     "execution_count": 117,
     "metadata": {},
     "output_type": "execute_result"
    }
   ],
   "source": [
    "data"
   ]
  },
  {
   "cell_type": "code",
   "execution_count": 118,
   "id": "d70f03e4",
   "metadata": {},
   "outputs": [
    {
     "ename": "AttributeError",
     "evalue": "'list' object has no attribute 'keys'",
     "output_type": "error",
     "traceback": [
      "\u001b[1;31m---------------------------------------------------------------------------\u001b[0m",
      "\u001b[1;31mAttributeError\u001b[0m                            Traceback (most recent call last)",
      "Input \u001b[1;32mIn [118]\u001b[0m, in \u001b[0;36m<cell line: 1>\u001b[1;34m()\u001b[0m\n\u001b[1;32m----> 1\u001b[0m \u001b[43mdata\u001b[49m\u001b[38;5;241;43m.\u001b[39;49m\u001b[43mkeys\u001b[49m()\n",
      "\u001b[1;31mAttributeError\u001b[0m: 'list' object has no attribute 'keys'"
     ]
    }
   ],
   "source": [
    "data.keys()"
   ]
  },
  {
   "cell_type": "code",
   "execution_count": 106,
   "id": "c1b9f2d1",
   "metadata": {},
   "outputs": [
    {
     "data": {
      "text/plain": [
       "{'pageUrl': 'https://pib.gov.in/allRel.aspx', 'api': 'frontpage', 'version': 3}"
      ]
     },
     "execution_count": 106,
     "metadata": {},
     "output_type": "execute_result"
    }
   ],
   "source": [
    "data[\"request\"]"
   ]
  },
  {
   "cell_type": "code",
   "execution_count": 87,
   "id": "26d6b587",
   "metadata": {},
   "outputs": [
    {
     "data": {
      "text/plain": [
       "[{'sentiment': 0,\n",
       "  'publisherRegion': 'India',\n",
       "  'icon': 'https://static.pib.gov.in/WriteReadData/specificdocs/photo/2022/apr/ph20224636301.jpg',\n",
       "  'diffbotUri': 'article|3|-550405451',\n",
       "  'siteName': 'pib.gov.in',\n",
       "  'type': 'article',\n",
       "  'title': 'Press Information Bureau',\n",
       "  'tags': [{'score': 0.8212187886238098,\n",
       "    'sentiment': 0,\n",
       "    'count': 1,\n",
       "    'label': 'Press Information Bureau',\n",
       "    'uri': 'https://diffbot.com/entity/EColQ6ntmPj-qrs9cYmmETw',\n",
       "    'rdfTypes': ['http://dbpedia.org/ontology/Organisation']}],\n",
       "  'publisherCountry': 'India',\n",
       "  'breadcrumb': [{'link': 'https://pib.gov.in/index.aspx', 'name': 'Home'},\n",
       "   {'link': 'https://pib.gov.in/allRel.aspx', 'name': 'All  Press Release'}],\n",
       "  'humanLanguage': 'en',\n",
       "  'pageUrl': 'https://pib.gov.in/allRel.aspx',\n",
       "  'html': '<p> Ministry :</p>\\n<p>All Ministry       Cabinet Committee on Economic Affairs (CCEA)Cabinet Committee on Economic Affairs (CCEA) Cabinet SecretariatCabinet Secretariat Cabinet Committee on InfrastructureCabinet Committee on Infrastructure Cabinet Committee on PriceCabinet Committee on Price Cabinet Committee on InvestmentCabinet Committee on Investment AYUSHAYUSH Other Cabinet CommitteesOther Cabinet Committees Department of SpaceDepartment of Space Department of Ocean DevelopmentDepartment of Ocean Development Department of Atomic EnergyDepartment of Atomic Energy Election CommissionElection Commission Finance CommissionFinance Commission  Ministry of Agriculture &amp; Farmers WelfareMinistry of Agriculture &amp; Farmers Welfare Ministry of Agro &amp; Rural IndustriesMinistry of Agro &amp; Rural Industries Ministry of Chemicals and FertilizersMinistry of Chemicals and Fertilizers Ministry of Civil AviationMinistry of Civil Aviation Ministry of CoalMinistry of Coal Ministry of Commerce &amp; IndustryMinistry of Commerce &amp; Industry Ministry of CommunicationsMinistry of Communications Ministry of Company AffairsMinistry of Company Affairs Ministry of Consumer Affairs, Food &amp; Public DistributionMinistry of Consumer Affairs, Food &amp; Public Distribution Ministry of CooperationMinistry of Cooperation Ministry of Corporate AffairsMinistry of Corporate Affairs Ministry of CultureMinistry of Culture Ministry of DefenceMinistry of Defence Ministry of Development of North-East RegionMinistry of Development of North-East Region Ministry of DisinvestmentMinistry of Disinvestment Ministry of Drinking Water &amp; SanitationMinistry of Drinking Water &amp; Sanitation Ministry of Earth SciencesMinistry of Earth Sciences Ministry of EducationMinistry of Education Ministry of Electronics &amp; ITMinistry of Electronics &amp; IT Ministry of Environment, Forest and Climate ChangeMinistry of Environment, Forest and Climate Change Ministry of External AffairsMinistry of External Affairs Ministry of FinanceMinistry of Finance Ministry of Fisheries, Animal Husbandry &amp; DairyingMinistry of Fisheries, Animal Husbandry &amp; Dairying Ministry of Food Processing IndustriesMinistry of Food Processing Industries Ministry of Health and Family WelfareMinistry of Health and Family Welfare Ministry of Heavy IndustriesMinistry of Heavy Industries  Ministry of Home AffairsMinistry of Home Affairs Ministry of Housing &amp; Urban AffairsMinistry of Housing &amp; Urban Affairs Ministry of Information &amp; BroadcastingMinistry of Information &amp; Broadcasting Ministry of Jal ShaktiMinistry of Jal Shakti Ministry of Labour &amp; EmploymentMinistry of Labour &amp; Employment Ministry of Law and JusticeMinistry of Law and Justice Ministry of Micro,Small &amp; Medium EnterprisesMinistry of Micro,Small &amp; Medium Enterprises Ministry of MinesMinistry of Mines  Ministry of Minority AffairsMinistry of Minority Affairs Ministry of New and Renewable EnergyMinistry of New and Renewable Energy  Ministry of Overseas Indian AffairsMinistry of Overseas Indian Affairs Ministry of Panchayati RajMinistry of Panchayati Raj Ministry of Parliamentary AffairsMinistry of Parliamentary Affairs Ministry of Personnel, Public Grievances &amp; PensionsMinistry of Personnel, Public Grievances &amp; Pensions Ministry of Petroleum &amp; Natural GasMinistry of Petroleum &amp; Natural Gas Ministry of PlanningMinistry of Planning Ministry of PowerMinistry of Power Ministry of RailwaysMinistry of Railways Ministry of Road Transport &amp; HighwaysMinistry of Road Transport &amp; Highways Ministry of Rural DevelopmentMinistry of Rural Development Ministry of Science &amp; TechnologyMinistry of Science &amp; Technology Ministry of Ports, Shipping and WaterwaysMinistry of Ports, Shipping and Waterways Ministry of Skill Development and EntrepreneurshipMinistry of Skill Development and Entrepreneurship Ministry of Social Justice &amp; EmpowermentMinistry of Social Justice &amp; Empowerment Ministry of Statistics &amp; Programme ImplementationMinistry of Statistics &amp; Programme Implementation Ministry of SteelMinistry of Steel Ministry of Surface TransportMinistry of Surface Transport Ministry of TextilesMinistry of Textiles Ministry of TourismMinistry of Tourism Ministry of Tribal AffairsMinistry of Tribal Affairs Ministry of Urban DevelopmentMinistry of Urban Development Ministry of Water Resources, River Development and Ganga RejuvenationMinistry of Water Resources, River Development and Ganga Rejuvenation Ministry of Women and Child DevelopmentMinistry of Women and Child Development Ministry of Youth Affairs and SportsMinistry of Youth Affairs and Sports NITI AayogNITI Aayog PM SpeechPM Speech EAC-PMEAC-PM UPSCUPSC Special Service and FeaturesSpecial Service and Features PIB HeadquartersPIB Headquarters Office of Principal Scientific Advisor to GoIOffice of Principal Scientific Advisor to GoI National Financial Reporting AuthorityNational Financial Reporting Authority Competition Commission of IndiaCompetition Commission of India IFSC AuthorityIFSC Authority National Security Council SecretariatNational Security Council Secretariat  </p>\\n<p>Date: </p>\\n<p>17 AllAll 11 22 33 44 55 66 77 88 99 1010 1111 1212 1313 1414 1515 1616 1717 1818 1919 2020 2121 2222 2323 2424 2525 2626 2727 2828 2929 3030 3131 </p>\\n<p>September JanuaryJanuary FebruaryFebruary MarchMarch AprilApril MayMay JuneJune JulyJuly AugustAugust SeptemberSeptember OctoberOctober NovemberNovember DecemberDecember </p>\\n<p>2023 20232023 20222022 20212021 20202020 20192019 20182018 20172017 </p>\\n<p>Displaying 22 Press Releases </p>\\n<ul><li><h3>Vice President\\'s Secretariat</h3><ul><li><a href=\"https://pib.gov.in/PressReleasePage.aspx?PRID=1958149\">Vice-President hoists the national flag at the Gaja Dwar of the New Parliament Building </a></li><li><a href=\"https://pib.gov.in/PressReleasePage.aspx?PRID=1958099\">Vice President greets Prime Minister on his Birthday </a></li></ul></li></ul>\\n<ul><li><h3>Prime Minister\\'s Office</h3><ul><li><a href=\"https://pib.gov.in/PressReleasePage.aspx?PRID=1958274\">Prime Minister extends best wishes on Marathwada Liberation Day </a></li><li><a href=\"https://pib.gov.in/PressReleasePage.aspx?PRID=1958272\">PM pays obeisance to Bhagwan Vishwakarma on the occasion of Vishwakarma Jayanti </a></li><li><a href=\"https://pib.gov.in/PressReleasePage.aspx?PRID=1958219\">Text of PM&rsquo;s address at the dedication of Yashobhoomi to the Nation &amp; launch of PM Vishwakarma Scheme </a></li><li><a href=\"https://pib.gov.in/PressReleasePage.aspx?PRID=1958199\">PM inaugurates extension of Airport Metro Express Line Station from Dwarka Sector 21 to &lsquo;Yashobhoomi Dwarka Sector 25&rsquo; </a></li><li><a href=\"https://pib.gov.in/PressReleasePage.aspx?PRID=1958169\">PM dedicates Phase 1 of India International Convention and Expo Centre - &lsquo;Yashobhoomi&rsquo; to the nation in New Delhi </a></li><li><a href=\"https://pib.gov.in/PressReleasePage.aspx?PRID=1958095\">PM greets people on Vishwakarma Jayanti </a></li><li><a href=\"https://pib.gov.in/PressReleasePage.aspx?PRID=1958094\">Prime Minister condoles the demise of eminent author and Odisha Chief Minister&rsquo;s sister, Smt. Gita Mehta </a></li></ul></li></ul>\\n<ul><li><h3>Ministry of Commerce &amp; Industry</h3><ul><li><a href=\"https://pib.gov.in/PressReleasePage.aspx?PRID=1958188\">PM dedicates to the nation Yashobhoomi, Phase 1 of India International Convention and Expo Centre at Dwarka, launches PM Vishwakarma Yojna for artisans </a></li></ul></li></ul>\\n<ul><li><h3>Ministry of Defence</h3><ul><li><a href=\"https://pib.gov.in/PressReleasePage.aspx?PRID=1958261\">Indian Coast Guard conducts International Coastal Clean-up Day &ndash; 2023 across coastal states and UTs </a></li></ul></li></ul>\\n<ul><li><h3>Ministry of Earth Sciences</h3><ul><li><a href=\"https://pib.gov.in/PressReleasePage.aspx?PRID=1958223\">Swachh Sagar Surkashit Sagar - mega beach clean-up drives by Ministry of Earth Sciences at 79 locations on International Coastal Cleanup Day. </a></li></ul></li></ul>\\n<ul><li><h3>Ministry of Environment, Forest and Climate Change</h3><ul><li><a href=\"https://pib.gov.in/PressReleasePage.aspx?PRID=1958158\">Commemorating one year of successful implementation of Project Cheetah in India </a></li></ul></li></ul>\\n<ul><li><h3>Ministry of Finance</h3><ul><li><a href=\"https://pib.gov.in/PressReleasePage.aspx?PRID=1958258\">Raipur in Chhattisgarh to host 4th meeting of the G20 Framework Working Group from September 18-19 2023 </a></li></ul></li></ul>\\n<ul><li><h3>Ministry of Fisheries, Animal Husbandry &amp; Dairying</h3><ul><li><a href=\"https://pib.gov.in/PressReleasePage.aspx?PRID=1958203\">Prime Minister Shri Narendra Modi launches PM Vishwakarma Scheme at New Delhi today </a></li></ul></li></ul>\\n<ul><li><h3>Ministry of Health and Family Welfare</h3><ul><li><a href=\"https://pib.gov.in/PressReleasePage.aspx?PRID=1958206\"> On the start of Sewa Pakhwada, Dr. RML Hospital inaugurates India&rsquo;s first dedicated OPD for Transgenders </a></li></ul></li></ul>',\n",
       "  'text': \"Ministry :\\nAll Ministry Cabinet Committee on Economic Affairs (CCEA)Cabinet Committee on Economic Affairs (CCEA) Cabinet SecretariatCabinet Secretariat Cabinet Committee on InfrastructureCabinet Committee on Infrastructure Cabinet Committee on PriceCabinet Committee on Price Cabinet Committee on InvestmentCabinet Committee on Investment AYUSHAYUSH Other Cabinet CommitteesOther Cabinet Committees Department of SpaceDepartment of Space Department of Ocean DevelopmentDepartment of Ocean Development Department of Atomic EnergyDepartment of Atomic Energy Election CommissionElection Commission Finance CommissionFinance Commission Ministry of Agriculture & Farmers WelfareMinistry of Agriculture & Farmers Welfare Ministry of Agro & Rural IndustriesMinistry of Agro & Rural Industries Ministry of Chemicals and FertilizersMinistry of Chemicals and Fertilizers Ministry of Civil AviationMinistry of Civil Aviation Ministry of CoalMinistry of Coal Ministry of Commerce & IndustryMinistry of Commerce & Industry Ministry of CommunicationsMinistry of Communications Ministry of Company AffairsMinistry of Company Affairs Ministry of Consumer Affairs, Food & Public DistributionMinistry of Consumer Affairs, Food & Public Distribution Ministry of CooperationMinistry of Cooperation Ministry of Corporate AffairsMinistry of Corporate Affairs Ministry of CultureMinistry of Culture Ministry of DefenceMinistry of Defence Ministry of Development of North-East RegionMinistry of Development of North-East Region Ministry of DisinvestmentMinistry of Disinvestment Ministry of Drinking Water & SanitationMinistry of Drinking Water & Sanitation Ministry of Earth SciencesMinistry of Earth Sciences Ministry of EducationMinistry of Education Ministry of Electronics & ITMinistry of Electronics & IT Ministry of Environment, Forest and Climate ChangeMinistry of Environment, Forest and Climate Change Ministry of External AffairsMinistry of External Affairs Ministry of FinanceMinistry of Finance Ministry of Fisheries, Animal Husbandry & DairyingMinistry of Fisheries, Animal Husbandry & Dairying Ministry of Food Processing IndustriesMinistry of Food Processing Industries Ministry of Health and Family WelfareMinistry of Health and Family Welfare Ministry of Heavy IndustriesMinistry of Heavy Industries Ministry of Home AffairsMinistry of Home Affairs Ministry of Housing & Urban AffairsMinistry of Housing & Urban Affairs Ministry of Information & BroadcastingMinistry of Information & Broadcasting Ministry of Jal ShaktiMinistry of Jal Shakti Ministry of Labour & EmploymentMinistry of Labour & Employment Ministry of Law and JusticeMinistry of Law and Justice Ministry of Micro,Small & Medium EnterprisesMinistry of Micro,Small & Medium Enterprises Ministry of MinesMinistry of Mines Ministry of Minority AffairsMinistry of Minority Affairs Ministry of New and Renewable EnergyMinistry of New and Renewable Energy Ministry of Overseas Indian AffairsMinistry of Overseas Indian Affairs Ministry of Panchayati RajMinistry of Panchayati Raj Ministry of Parliamentary AffairsMinistry of Parliamentary Affairs Ministry of Personnel, Public Grievances & PensionsMinistry of Personnel, Public Grievances & Pensions Ministry of Petroleum & Natural GasMinistry of Petroleum & Natural Gas Ministry of PlanningMinistry of Planning Ministry of PowerMinistry of Power Ministry of RailwaysMinistry of Railways Ministry of Road Transport & HighwaysMinistry of Road Transport & Highways Ministry of Rural DevelopmentMinistry of Rural Development Ministry of Science & TechnologyMinistry of Science & Technology Ministry of Ports, Shipping and WaterwaysMinistry of Ports, Shipping and Waterways Ministry of Skill Development and EntrepreneurshipMinistry of Skill Development and Entrepreneurship Ministry of Social Justice & EmpowermentMinistry of Social Justice & Empowerment Ministry of Statistics & Programme ImplementationMinistry of Statistics & Programme Implementation Ministry of SteelMinistry of Steel Ministry of Surface TransportMinistry of Surface Transport Ministry of TextilesMinistry of Textiles Ministry of TourismMinistry of Tourism Ministry of Tribal AffairsMinistry of Tribal Affairs Ministry of Urban DevelopmentMinistry of Urban Development Ministry of Water Resources, River Development and Ganga RejuvenationMinistry of Water Resources, River Development and Ganga Rejuvenation Ministry of Women and Child DevelopmentMinistry of Women and Child Development Ministry of Youth Affairs and SportsMinistry of Youth Affairs and Sports NITI AayogNITI Aayog PM SpeechPM Speech EAC-PMEAC-PM UPSCUPSC Special Service and FeaturesSpecial Service and Features PIB HeadquartersPIB Headquarters Office of Principal Scientific Advisor to GoIOffice of Principal Scientific Advisor to GoI National Financial Reporting AuthorityNational Financial Reporting Authority Competition Commission of IndiaCompetition Commission of India IFSC AuthorityIFSC Authority National Security Council SecretariatNational Security Council Secretariat\\nDate:\\n17 AllAll 11 22 33 44 55 66 77 88 99 1010 1111 1212 1313 1414 1515 1616 1717 1818 1919 2020 2121 2222 2323 2424 2525 2626 2727 2828 2929 3030 3131\\nSeptember JanuaryJanuary FebruaryFebruary MarchMarch AprilApril MayMay JuneJune JulyJuly AugustAugust SeptemberSeptember OctoberOctober NovemberNovember DecemberDecember\\n2023 20232023 20222022 20212021 20202020 20192019 20182018 20172017\\nDisplaying 22 Press Releases\\nVice President's Secretariat\\nVice-President hoists the national flag at the Gaja Dwar of the New Parliament Building\\nVice President greets Prime Minister on his Birthday\\nPrime Minister's Office\\nPrime Minister extends best wishes on Marathwada Liberation Day\\nPM pays obeisance to Bhagwan Vishwakarma on the occasion of Vishwakarma Jayanti\\nText of PM’s address at the dedication of Yashobhoomi to the Nation & launch of PM Vishwakarma Scheme\\nPM inaugurates extension of Airport Metro Express Line Station from Dwarka Sector 21 to ‘Yashobhoomi Dwarka Sector 25’\\nPM dedicates Phase 1 of India International Convention and Expo Centre - ‘Yashobhoomi’ to the nation in New Delhi\\nPM greets people on Vishwakarma Jayanti\\nPrime Minister condoles the demise of eminent author and Odisha Chief Minister’s sister, Smt. Gita Mehta\\nMinistry of Commerce & Industry\\nPM dedicates to the nation Yashobhoomi, Phase 1 of India International Convention and Expo Centre at Dwarka, launches PM Vishwakarma Yojna for artisans\\nMinistry of Defence\\nIndian Coast Guard conducts International Coastal Clean-up Day – 2023 across coastal states and UTs\\nMinistry of Earth Sciences\\nSwachh Sagar Surkashit Sagar - mega beach clean-up drives by Ministry of Earth Sciences at 79 locations on International Coastal Cleanup Day.\\nMinistry of Environment, Forest and Climate Change\\nCommemorating one year of successful implementation of Project Cheetah in India\\nMinistry of Finance\\nRaipur in Chhattisgarh to host 4th meeting of the G20 Framework Working Group from September 18-19 2023\\nMinistry of Fisheries, Animal Husbandry & Dairying\\nPrime Minister Shri Narendra Modi launches PM Vishwakarma Scheme at New Delhi today\\nMinistry of Health and Family Welfare\\nOn the start of Sewa Pakhwada, Dr. RML Hospital inaugurates India’s first dedicated OPD for Transgenders\"}]"
      ]
     },
     "execution_count": 87,
     "metadata": {},
     "output_type": "execute_result"
    }
   ],
   "source": [
    "data[\"objects\"]"
   ]
  },
  {
   "cell_type": "code",
   "execution_count": 88,
   "id": "064f48d1",
   "metadata": {},
   "outputs": [],
   "source": [
    "a = data[\"objects\"][0].keys()"
   ]
  },
  {
   "cell_type": "code",
   "execution_count": 89,
   "id": "b3a37661",
   "metadata": {},
   "outputs": [
    {
     "data": {
      "text/plain": [
       "dict_keys(['sentiment', 'publisherRegion', 'icon', 'diffbotUri', 'siteName', 'type', 'title', 'tags', 'publisherCountry', 'breadcrumb', 'humanLanguage', 'pageUrl', 'html', 'text'])"
      ]
     },
     "execution_count": 89,
     "metadata": {},
     "output_type": "execute_result"
    }
   ],
   "source": [
    "a"
   ]
  },
  {
   "cell_type": "code",
   "execution_count": 90,
   "id": "96bfdb16",
   "metadata": {},
   "outputs": [],
   "source": [
    "b = list(a)"
   ]
  },
  {
   "cell_type": "code",
   "execution_count": 91,
   "id": "5f05d34c",
   "metadata": {},
   "outputs": [
    {
     "data": {
      "text/plain": [
       "['sentiment',\n",
       " 'publisherRegion',\n",
       " 'icon',\n",
       " 'diffbotUri',\n",
       " 'siteName',\n",
       " 'type',\n",
       " 'title',\n",
       " 'tags',\n",
       " 'publisherCountry',\n",
       " 'breadcrumb',\n",
       " 'humanLanguage',\n",
       " 'pageUrl',\n",
       " 'html',\n",
       " 'text']"
      ]
     },
     "execution_count": 91,
     "metadata": {},
     "output_type": "execute_result"
    }
   ],
   "source": [
    "b"
   ]
  },
  {
   "cell_type": "code",
   "execution_count": 92,
   "id": "13730415",
   "metadata": {},
   "outputs": [
    {
     "name": "stdout",
     "output_type": "stream",
     "text": [
      "0\n",
      "\n",
      "India\n",
      "\n",
      "https://static.pib.gov.in/WriteReadData/specificdocs/photo/2022/apr/ph20224636301.jpg\n",
      "\n",
      "article|3|-550405451\n",
      "\n",
      "pib.gov.in\n",
      "\n",
      "article\n",
      "\n",
      "Press Information Bureau\n",
      "\n",
      "[{'score': 0.8212187886238098, 'sentiment': 0, 'count': 1, 'label': 'Press Information Bureau', 'uri': 'https://diffbot.com/entity/EColQ6ntmPj-qrs9cYmmETw', 'rdfTypes': ['http://dbpedia.org/ontology/Organisation']}]\n",
      "\n",
      "India\n",
      "\n",
      "[{'link': 'https://pib.gov.in/index.aspx', 'name': 'Home'}, {'link': 'https://pib.gov.in/allRel.aspx', 'name': 'All  Press Release'}]\n",
      "\n",
      "en\n",
      "\n",
      "https://pib.gov.in/allRel.aspx\n",
      "\n",
      "<p> Ministry :</p>\n",
      "<p>All Ministry       Cabinet Committee on Economic Affairs (CCEA)Cabinet Committee on Economic Affairs (CCEA) Cabinet SecretariatCabinet Secretariat Cabinet Committee on InfrastructureCabinet Committee on Infrastructure Cabinet Committee on PriceCabinet Committee on Price Cabinet Committee on InvestmentCabinet Committee on Investment AYUSHAYUSH Other Cabinet CommitteesOther Cabinet Committees Department of SpaceDepartment of Space Department of Ocean DevelopmentDepartment of Ocean Development Department of Atomic EnergyDepartment of Atomic Energy Election CommissionElection Commission Finance CommissionFinance Commission  Ministry of Agriculture &amp; Farmers WelfareMinistry of Agriculture &amp; Farmers Welfare Ministry of Agro &amp; Rural IndustriesMinistry of Agro &amp; Rural Industries Ministry of Chemicals and FertilizersMinistry of Chemicals and Fertilizers Ministry of Civil AviationMinistry of Civil Aviation Ministry of CoalMinistry of Coal Ministry of Commerce &amp; IndustryMinistry of Commerce &amp; Industry Ministry of CommunicationsMinistry of Communications Ministry of Company AffairsMinistry of Company Affairs Ministry of Consumer Affairs, Food &amp; Public DistributionMinistry of Consumer Affairs, Food &amp; Public Distribution Ministry of CooperationMinistry of Cooperation Ministry of Corporate AffairsMinistry of Corporate Affairs Ministry of CultureMinistry of Culture Ministry of DefenceMinistry of Defence Ministry of Development of North-East RegionMinistry of Development of North-East Region Ministry of DisinvestmentMinistry of Disinvestment Ministry of Drinking Water &amp; SanitationMinistry of Drinking Water &amp; Sanitation Ministry of Earth SciencesMinistry of Earth Sciences Ministry of EducationMinistry of Education Ministry of Electronics &amp; ITMinistry of Electronics &amp; IT Ministry of Environment, Forest and Climate ChangeMinistry of Environment, Forest and Climate Change Ministry of External AffairsMinistry of External Affairs Ministry of FinanceMinistry of Finance Ministry of Fisheries, Animal Husbandry &amp; DairyingMinistry of Fisheries, Animal Husbandry &amp; Dairying Ministry of Food Processing IndustriesMinistry of Food Processing Industries Ministry of Health and Family WelfareMinistry of Health and Family Welfare Ministry of Heavy IndustriesMinistry of Heavy Industries  Ministry of Home AffairsMinistry of Home Affairs Ministry of Housing &amp; Urban AffairsMinistry of Housing &amp; Urban Affairs Ministry of Information &amp; BroadcastingMinistry of Information &amp; Broadcasting Ministry of Jal ShaktiMinistry of Jal Shakti Ministry of Labour &amp; EmploymentMinistry of Labour &amp; Employment Ministry of Law and JusticeMinistry of Law and Justice Ministry of Micro,Small &amp; Medium EnterprisesMinistry of Micro,Small &amp; Medium Enterprises Ministry of MinesMinistry of Mines  Ministry of Minority AffairsMinistry of Minority Affairs Ministry of New and Renewable EnergyMinistry of New and Renewable Energy  Ministry of Overseas Indian AffairsMinistry of Overseas Indian Affairs Ministry of Panchayati RajMinistry of Panchayati Raj Ministry of Parliamentary AffairsMinistry of Parliamentary Affairs Ministry of Personnel, Public Grievances &amp; PensionsMinistry of Personnel, Public Grievances &amp; Pensions Ministry of Petroleum &amp; Natural GasMinistry of Petroleum &amp; Natural Gas Ministry of PlanningMinistry of Planning Ministry of PowerMinistry of Power Ministry of RailwaysMinistry of Railways Ministry of Road Transport &amp; HighwaysMinistry of Road Transport &amp; Highways Ministry of Rural DevelopmentMinistry of Rural Development Ministry of Science &amp; TechnologyMinistry of Science &amp; Technology Ministry of Ports, Shipping and WaterwaysMinistry of Ports, Shipping and Waterways Ministry of Skill Development and EntrepreneurshipMinistry of Skill Development and Entrepreneurship Ministry of Social Justice &amp; EmpowermentMinistry of Social Justice &amp; Empowerment Ministry of Statistics &amp; Programme ImplementationMinistry of Statistics &amp; Programme Implementation Ministry of SteelMinistry of Steel Ministry of Surface TransportMinistry of Surface Transport Ministry of TextilesMinistry of Textiles Ministry of TourismMinistry of Tourism Ministry of Tribal AffairsMinistry of Tribal Affairs Ministry of Urban DevelopmentMinistry of Urban Development Ministry of Water Resources, River Development and Ganga RejuvenationMinistry of Water Resources, River Development and Ganga Rejuvenation Ministry of Women and Child DevelopmentMinistry of Women and Child Development Ministry of Youth Affairs and SportsMinistry of Youth Affairs and Sports NITI AayogNITI Aayog PM SpeechPM Speech EAC-PMEAC-PM UPSCUPSC Special Service and FeaturesSpecial Service and Features PIB HeadquartersPIB Headquarters Office of Principal Scientific Advisor to GoIOffice of Principal Scientific Advisor to GoI National Financial Reporting AuthorityNational Financial Reporting Authority Competition Commission of IndiaCompetition Commission of India IFSC AuthorityIFSC Authority National Security Council SecretariatNational Security Council Secretariat  </p>\n",
      "<p>Date: </p>\n",
      "<p>17 AllAll 11 22 33 44 55 66 77 88 99 1010 1111 1212 1313 1414 1515 1616 1717 1818 1919 2020 2121 2222 2323 2424 2525 2626 2727 2828 2929 3030 3131 </p>\n",
      "<p>September JanuaryJanuary FebruaryFebruary MarchMarch AprilApril MayMay JuneJune JulyJuly AugustAugust SeptemberSeptember OctoberOctober NovemberNovember DecemberDecember </p>\n",
      "<p>2023 20232023 20222022 20212021 20202020 20192019 20182018 20172017 </p>\n",
      "<p>Displaying 22 Press Releases </p>\n",
      "<ul><li><h3>Vice President's Secretariat</h3><ul><li><a href=\"https://pib.gov.in/PressReleasePage.aspx?PRID=1958149\">Vice-President hoists the national flag at the Gaja Dwar of the New Parliament Building </a></li><li><a href=\"https://pib.gov.in/PressReleasePage.aspx?PRID=1958099\">Vice President greets Prime Minister on his Birthday </a></li></ul></li></ul>\n",
      "<ul><li><h3>Prime Minister's Office</h3><ul><li><a href=\"https://pib.gov.in/PressReleasePage.aspx?PRID=1958274\">Prime Minister extends best wishes on Marathwada Liberation Day </a></li><li><a href=\"https://pib.gov.in/PressReleasePage.aspx?PRID=1958272\">PM pays obeisance to Bhagwan Vishwakarma on the occasion of Vishwakarma Jayanti </a></li><li><a href=\"https://pib.gov.in/PressReleasePage.aspx?PRID=1958219\">Text of PM&rsquo;s address at the dedication of Yashobhoomi to the Nation &amp; launch of PM Vishwakarma Scheme </a></li><li><a href=\"https://pib.gov.in/PressReleasePage.aspx?PRID=1958199\">PM inaugurates extension of Airport Metro Express Line Station from Dwarka Sector 21 to &lsquo;Yashobhoomi Dwarka Sector 25&rsquo; </a></li><li><a href=\"https://pib.gov.in/PressReleasePage.aspx?PRID=1958169\">PM dedicates Phase 1 of India International Convention and Expo Centre - &lsquo;Yashobhoomi&rsquo; to the nation in New Delhi </a></li><li><a href=\"https://pib.gov.in/PressReleasePage.aspx?PRID=1958095\">PM greets people on Vishwakarma Jayanti </a></li><li><a href=\"https://pib.gov.in/PressReleasePage.aspx?PRID=1958094\">Prime Minister condoles the demise of eminent author and Odisha Chief Minister&rsquo;s sister, Smt. Gita Mehta </a></li></ul></li></ul>\n",
      "<ul><li><h3>Ministry of Commerce &amp; Industry</h3><ul><li><a href=\"https://pib.gov.in/PressReleasePage.aspx?PRID=1958188\">PM dedicates to the nation Yashobhoomi, Phase 1 of India International Convention and Expo Centre at Dwarka, launches PM Vishwakarma Yojna for artisans </a></li></ul></li></ul>\n",
      "<ul><li><h3>Ministry of Defence</h3><ul><li><a href=\"https://pib.gov.in/PressReleasePage.aspx?PRID=1958261\">Indian Coast Guard conducts International Coastal Clean-up Day &ndash; 2023 across coastal states and UTs </a></li></ul></li></ul>\n",
      "<ul><li><h3>Ministry of Earth Sciences</h3><ul><li><a href=\"https://pib.gov.in/PressReleasePage.aspx?PRID=1958223\">Swachh Sagar Surkashit Sagar - mega beach clean-up drives by Ministry of Earth Sciences at 79 locations on International Coastal Cleanup Day. </a></li></ul></li></ul>\n",
      "<ul><li><h3>Ministry of Environment, Forest and Climate Change</h3><ul><li><a href=\"https://pib.gov.in/PressReleasePage.aspx?PRID=1958158\">Commemorating one year of successful implementation of Project Cheetah in India </a></li></ul></li></ul>\n",
      "<ul><li><h3>Ministry of Finance</h3><ul><li><a href=\"https://pib.gov.in/PressReleasePage.aspx?PRID=1958258\">Raipur in Chhattisgarh to host 4th meeting of the G20 Framework Working Group from September 18-19 2023 </a></li></ul></li></ul>\n",
      "<ul><li><h3>Ministry of Fisheries, Animal Husbandry &amp; Dairying</h3><ul><li><a href=\"https://pib.gov.in/PressReleasePage.aspx?PRID=1958203\">Prime Minister Shri Narendra Modi launches PM Vishwakarma Scheme at New Delhi today </a></li></ul></li></ul>\n",
      "<ul><li><h3>Ministry of Health and Family Welfare</h3><ul><li><a href=\"https://pib.gov.in/PressReleasePage.aspx?PRID=1958206\"> On the start of Sewa Pakhwada, Dr. RML Hospital inaugurates India&rsquo;s first dedicated OPD for Transgenders </a></li></ul></li></ul>\n",
      "\n",
      "Ministry :\n",
      "All Ministry Cabinet Committee on Economic Affairs (CCEA)Cabinet Committee on Economic Affairs (CCEA) Cabinet SecretariatCabinet Secretariat Cabinet Committee on InfrastructureCabinet Committee on Infrastructure Cabinet Committee on PriceCabinet Committee on Price Cabinet Committee on InvestmentCabinet Committee on Investment AYUSHAYUSH Other Cabinet CommitteesOther Cabinet Committees Department of SpaceDepartment of Space Department of Ocean DevelopmentDepartment of Ocean Development Department of Atomic EnergyDepartment of Atomic Energy Election CommissionElection Commission Finance CommissionFinance Commission Ministry of Agriculture & Farmers WelfareMinistry of Agriculture & Farmers Welfare Ministry of Agro & Rural IndustriesMinistry of Agro & Rural Industries Ministry of Chemicals and FertilizersMinistry of Chemicals and Fertilizers Ministry of Civil AviationMinistry of Civil Aviation Ministry of CoalMinistry of Coal Ministry of Commerce & IndustryMinistry of Commerce & Industry Ministry of CommunicationsMinistry of Communications Ministry of Company AffairsMinistry of Company Affairs Ministry of Consumer Affairs, Food & Public DistributionMinistry of Consumer Affairs, Food & Public Distribution Ministry of CooperationMinistry of Cooperation Ministry of Corporate AffairsMinistry of Corporate Affairs Ministry of CultureMinistry of Culture Ministry of DefenceMinistry of Defence Ministry of Development of North-East RegionMinistry of Development of North-East Region Ministry of DisinvestmentMinistry of Disinvestment Ministry of Drinking Water & SanitationMinistry of Drinking Water & Sanitation Ministry of Earth SciencesMinistry of Earth Sciences Ministry of EducationMinistry of Education Ministry of Electronics & ITMinistry of Electronics & IT Ministry of Environment, Forest and Climate ChangeMinistry of Environment, Forest and Climate Change Ministry of External AffairsMinistry of External Affairs Ministry of FinanceMinistry of Finance Ministry of Fisheries, Animal Husbandry & DairyingMinistry of Fisheries, Animal Husbandry & Dairying Ministry of Food Processing IndustriesMinistry of Food Processing Industries Ministry of Health and Family WelfareMinistry of Health and Family Welfare Ministry of Heavy IndustriesMinistry of Heavy Industries Ministry of Home AffairsMinistry of Home Affairs Ministry of Housing & Urban AffairsMinistry of Housing & Urban Affairs Ministry of Information & BroadcastingMinistry of Information & Broadcasting Ministry of Jal ShaktiMinistry of Jal Shakti Ministry of Labour & EmploymentMinistry of Labour & Employment Ministry of Law and JusticeMinistry of Law and Justice Ministry of Micro,Small & Medium EnterprisesMinistry of Micro,Small & Medium Enterprises Ministry of MinesMinistry of Mines Ministry of Minority AffairsMinistry of Minority Affairs Ministry of New and Renewable EnergyMinistry of New and Renewable Energy Ministry of Overseas Indian AffairsMinistry of Overseas Indian Affairs Ministry of Panchayati RajMinistry of Panchayati Raj Ministry of Parliamentary AffairsMinistry of Parliamentary Affairs Ministry of Personnel, Public Grievances & PensionsMinistry of Personnel, Public Grievances & Pensions Ministry of Petroleum & Natural GasMinistry of Petroleum & Natural Gas Ministry of PlanningMinistry of Planning Ministry of PowerMinistry of Power Ministry of RailwaysMinistry of Railways Ministry of Road Transport & HighwaysMinistry of Road Transport & Highways Ministry of Rural DevelopmentMinistry of Rural Development Ministry of Science & TechnologyMinistry of Science & Technology Ministry of Ports, Shipping and WaterwaysMinistry of Ports, Shipping and Waterways Ministry of Skill Development and EntrepreneurshipMinistry of Skill Development and Entrepreneurship Ministry of Social Justice & EmpowermentMinistry of Social Justice & Empowerment Ministry of Statistics & Programme ImplementationMinistry of Statistics & Programme Implementation Ministry of SteelMinistry of Steel Ministry of Surface TransportMinistry of Surface Transport Ministry of TextilesMinistry of Textiles Ministry of TourismMinistry of Tourism Ministry of Tribal AffairsMinistry of Tribal Affairs Ministry of Urban DevelopmentMinistry of Urban Development Ministry of Water Resources, River Development and Ganga RejuvenationMinistry of Water Resources, River Development and Ganga Rejuvenation Ministry of Women and Child DevelopmentMinistry of Women and Child Development Ministry of Youth Affairs and SportsMinistry of Youth Affairs and Sports NITI AayogNITI Aayog PM SpeechPM Speech EAC-PMEAC-PM UPSCUPSC Special Service and FeaturesSpecial Service and Features PIB HeadquartersPIB Headquarters Office of Principal Scientific Advisor to GoIOffice of Principal Scientific Advisor to GoI National Financial Reporting AuthorityNational Financial Reporting Authority Competition Commission of IndiaCompetition Commission of India IFSC AuthorityIFSC Authority National Security Council SecretariatNational Security Council Secretariat\n",
      "Date:\n",
      "17 AllAll 11 22 33 44 55 66 77 88 99 1010 1111 1212 1313 1414 1515 1616 1717 1818 1919 2020 2121 2222 2323 2424 2525 2626 2727 2828 2929 3030 3131\n",
      "September JanuaryJanuary FebruaryFebruary MarchMarch AprilApril MayMay JuneJune JulyJuly AugustAugust SeptemberSeptember OctoberOctober NovemberNovember DecemberDecember\n",
      "2023 20232023 20222022 20212021 20202020 20192019 20182018 20172017\n",
      "Displaying 22 Press Releases\n",
      "Vice President's Secretariat\n",
      "Vice-President hoists the national flag at the Gaja Dwar of the New Parliament Building\n",
      "Vice President greets Prime Minister on his Birthday\n",
      "Prime Minister's Office\n",
      "Prime Minister extends best wishes on Marathwada Liberation Day\n",
      "PM pays obeisance to Bhagwan Vishwakarma on the occasion of Vishwakarma Jayanti\n",
      "Text of PM’s address at the dedication of Yashobhoomi to the Nation & launch of PM Vishwakarma Scheme\n",
      "PM inaugurates extension of Airport Metro Express Line Station from Dwarka Sector 21 to ‘Yashobhoomi Dwarka Sector 25’\n",
      "PM dedicates Phase 1 of India International Convention and Expo Centre - ‘Yashobhoomi’ to the nation in New Delhi\n",
      "PM greets people on Vishwakarma Jayanti\n",
      "Prime Minister condoles the demise of eminent author and Odisha Chief Minister’s sister, Smt. Gita Mehta\n",
      "Ministry of Commerce & Industry\n",
      "PM dedicates to the nation Yashobhoomi, Phase 1 of India International Convention and Expo Centre at Dwarka, launches PM Vishwakarma Yojna for artisans\n",
      "Ministry of Defence\n",
      "Indian Coast Guard conducts International Coastal Clean-up Day – 2023 across coastal states and UTs\n",
      "Ministry of Earth Sciences\n",
      "Swachh Sagar Surkashit Sagar - mega beach clean-up drives by Ministry of Earth Sciences at 79 locations on International Coastal Cleanup Day.\n",
      "Ministry of Environment, Forest and Climate Change\n",
      "Commemorating one year of successful implementation of Project Cheetah in India\n",
      "Ministry of Finance\n",
      "Raipur in Chhattisgarh to host 4th meeting of the G20 Framework Working Group from September 18-19 2023\n",
      "Ministry of Fisheries, Animal Husbandry & Dairying\n",
      "Prime Minister Shri Narendra Modi launches PM Vishwakarma Scheme at New Delhi today\n",
      "Ministry of Health and Family Welfare\n",
      "On the start of Sewa Pakhwada, Dr. RML Hospital inaugurates India’s first dedicated OPD for Transgenders\n",
      "\n"
     ]
    }
   ],
   "source": [
    "for x in b:\n",
    "    print(data[\"objects\"][0][x])\n",
    "    print()"
   ]
  },
  {
   "cell_type": "code",
   "execution_count": 93,
   "id": "0e3485b4",
   "metadata": {},
   "outputs": [],
   "source": [
    "o = data[\"objects\"][0][\"text\"]"
   ]
  },
  {
   "cell_type": "code",
   "execution_count": 94,
   "id": "35d20af3",
   "metadata": {},
   "outputs": [
    {
     "data": {
      "text/plain": [
       "str"
      ]
     },
     "execution_count": 94,
     "metadata": {},
     "output_type": "execute_result"
    }
   ],
   "source": [
    "type(o)"
   ]
  },
  {
   "cell_type": "code",
   "execution_count": 95,
   "id": "9aac5a33",
   "metadata": {},
   "outputs": [
    {
     "data": {
      "text/plain": [
       "{'sentiment': 0,\n",
       " 'publisherRegion': 'India',\n",
       " 'icon': 'https://static.pib.gov.in/WriteReadData/specificdocs/photo/2022/apr/ph20224636301.jpg',\n",
       " 'diffbotUri': 'article|3|-550405451',\n",
       " 'siteName': 'pib.gov.in',\n",
       " 'type': 'article',\n",
       " 'title': 'Press Information Bureau',\n",
       " 'tags': [{'score': 0.8212187886238098,\n",
       "   'sentiment': 0,\n",
       "   'count': 1,\n",
       "   'label': 'Press Information Bureau',\n",
       "   'uri': 'https://diffbot.com/entity/EColQ6ntmPj-qrs9cYmmETw',\n",
       "   'rdfTypes': ['http://dbpedia.org/ontology/Organisation']}],\n",
       " 'publisherCountry': 'India',\n",
       " 'breadcrumb': [{'link': 'https://pib.gov.in/index.aspx', 'name': 'Home'},\n",
       "  {'link': 'https://pib.gov.in/allRel.aspx', 'name': 'All  Press Release'}],\n",
       " 'humanLanguage': 'en',\n",
       " 'pageUrl': 'https://pib.gov.in/allRel.aspx',\n",
       " 'html': '<p> Ministry :</p>\\n<p>All Ministry       Cabinet Committee on Economic Affairs (CCEA)Cabinet Committee on Economic Affairs (CCEA) Cabinet SecretariatCabinet Secretariat Cabinet Committee on InfrastructureCabinet Committee on Infrastructure Cabinet Committee on PriceCabinet Committee on Price Cabinet Committee on InvestmentCabinet Committee on Investment AYUSHAYUSH Other Cabinet CommitteesOther Cabinet Committees Department of SpaceDepartment of Space Department of Ocean DevelopmentDepartment of Ocean Development Department of Atomic EnergyDepartment of Atomic Energy Election CommissionElection Commission Finance CommissionFinance Commission  Ministry of Agriculture &amp; Farmers WelfareMinistry of Agriculture &amp; Farmers Welfare Ministry of Agro &amp; Rural IndustriesMinistry of Agro &amp; Rural Industries Ministry of Chemicals and FertilizersMinistry of Chemicals and Fertilizers Ministry of Civil AviationMinistry of Civil Aviation Ministry of CoalMinistry of Coal Ministry of Commerce &amp; IndustryMinistry of Commerce &amp; Industry Ministry of CommunicationsMinistry of Communications Ministry of Company AffairsMinistry of Company Affairs Ministry of Consumer Affairs, Food &amp; Public DistributionMinistry of Consumer Affairs, Food &amp; Public Distribution Ministry of CooperationMinistry of Cooperation Ministry of Corporate AffairsMinistry of Corporate Affairs Ministry of CultureMinistry of Culture Ministry of DefenceMinistry of Defence Ministry of Development of North-East RegionMinistry of Development of North-East Region Ministry of DisinvestmentMinistry of Disinvestment Ministry of Drinking Water &amp; SanitationMinistry of Drinking Water &amp; Sanitation Ministry of Earth SciencesMinistry of Earth Sciences Ministry of EducationMinistry of Education Ministry of Electronics &amp; ITMinistry of Electronics &amp; IT Ministry of Environment, Forest and Climate ChangeMinistry of Environment, Forest and Climate Change Ministry of External AffairsMinistry of External Affairs Ministry of FinanceMinistry of Finance Ministry of Fisheries, Animal Husbandry &amp; DairyingMinistry of Fisheries, Animal Husbandry &amp; Dairying Ministry of Food Processing IndustriesMinistry of Food Processing Industries Ministry of Health and Family WelfareMinistry of Health and Family Welfare Ministry of Heavy IndustriesMinistry of Heavy Industries  Ministry of Home AffairsMinistry of Home Affairs Ministry of Housing &amp; Urban AffairsMinistry of Housing &amp; Urban Affairs Ministry of Information &amp; BroadcastingMinistry of Information &amp; Broadcasting Ministry of Jal ShaktiMinistry of Jal Shakti Ministry of Labour &amp; EmploymentMinistry of Labour &amp; Employment Ministry of Law and JusticeMinistry of Law and Justice Ministry of Micro,Small &amp; Medium EnterprisesMinistry of Micro,Small &amp; Medium Enterprises Ministry of MinesMinistry of Mines  Ministry of Minority AffairsMinistry of Minority Affairs Ministry of New and Renewable EnergyMinistry of New and Renewable Energy  Ministry of Overseas Indian AffairsMinistry of Overseas Indian Affairs Ministry of Panchayati RajMinistry of Panchayati Raj Ministry of Parliamentary AffairsMinistry of Parliamentary Affairs Ministry of Personnel, Public Grievances &amp; PensionsMinistry of Personnel, Public Grievances &amp; Pensions Ministry of Petroleum &amp; Natural GasMinistry of Petroleum &amp; Natural Gas Ministry of PlanningMinistry of Planning Ministry of PowerMinistry of Power Ministry of RailwaysMinistry of Railways Ministry of Road Transport &amp; HighwaysMinistry of Road Transport &amp; Highways Ministry of Rural DevelopmentMinistry of Rural Development Ministry of Science &amp; TechnologyMinistry of Science &amp; Technology Ministry of Ports, Shipping and WaterwaysMinistry of Ports, Shipping and Waterways Ministry of Skill Development and EntrepreneurshipMinistry of Skill Development and Entrepreneurship Ministry of Social Justice &amp; EmpowermentMinistry of Social Justice &amp; Empowerment Ministry of Statistics &amp; Programme ImplementationMinistry of Statistics &amp; Programme Implementation Ministry of SteelMinistry of Steel Ministry of Surface TransportMinistry of Surface Transport Ministry of TextilesMinistry of Textiles Ministry of TourismMinistry of Tourism Ministry of Tribal AffairsMinistry of Tribal Affairs Ministry of Urban DevelopmentMinistry of Urban Development Ministry of Water Resources, River Development and Ganga RejuvenationMinistry of Water Resources, River Development and Ganga Rejuvenation Ministry of Women and Child DevelopmentMinistry of Women and Child Development Ministry of Youth Affairs and SportsMinistry of Youth Affairs and Sports NITI AayogNITI Aayog PM SpeechPM Speech EAC-PMEAC-PM UPSCUPSC Special Service and FeaturesSpecial Service and Features PIB HeadquartersPIB Headquarters Office of Principal Scientific Advisor to GoIOffice of Principal Scientific Advisor to GoI National Financial Reporting AuthorityNational Financial Reporting Authority Competition Commission of IndiaCompetition Commission of India IFSC AuthorityIFSC Authority National Security Council SecretariatNational Security Council Secretariat  </p>\\n<p>Date: </p>\\n<p>17 AllAll 11 22 33 44 55 66 77 88 99 1010 1111 1212 1313 1414 1515 1616 1717 1818 1919 2020 2121 2222 2323 2424 2525 2626 2727 2828 2929 3030 3131 </p>\\n<p>September JanuaryJanuary FebruaryFebruary MarchMarch AprilApril MayMay JuneJune JulyJuly AugustAugust SeptemberSeptember OctoberOctober NovemberNovember DecemberDecember </p>\\n<p>2023 20232023 20222022 20212021 20202020 20192019 20182018 20172017 </p>\\n<p>Displaying 22 Press Releases </p>\\n<ul><li><h3>Vice President\\'s Secretariat</h3><ul><li><a href=\"https://pib.gov.in/PressReleasePage.aspx?PRID=1958149\">Vice-President hoists the national flag at the Gaja Dwar of the New Parliament Building </a></li><li><a href=\"https://pib.gov.in/PressReleasePage.aspx?PRID=1958099\">Vice President greets Prime Minister on his Birthday </a></li></ul></li></ul>\\n<ul><li><h3>Prime Minister\\'s Office</h3><ul><li><a href=\"https://pib.gov.in/PressReleasePage.aspx?PRID=1958274\">Prime Minister extends best wishes on Marathwada Liberation Day </a></li><li><a href=\"https://pib.gov.in/PressReleasePage.aspx?PRID=1958272\">PM pays obeisance to Bhagwan Vishwakarma on the occasion of Vishwakarma Jayanti </a></li><li><a href=\"https://pib.gov.in/PressReleasePage.aspx?PRID=1958219\">Text of PM&rsquo;s address at the dedication of Yashobhoomi to the Nation &amp; launch of PM Vishwakarma Scheme </a></li><li><a href=\"https://pib.gov.in/PressReleasePage.aspx?PRID=1958199\">PM inaugurates extension of Airport Metro Express Line Station from Dwarka Sector 21 to &lsquo;Yashobhoomi Dwarka Sector 25&rsquo; </a></li><li><a href=\"https://pib.gov.in/PressReleasePage.aspx?PRID=1958169\">PM dedicates Phase 1 of India International Convention and Expo Centre - &lsquo;Yashobhoomi&rsquo; to the nation in New Delhi </a></li><li><a href=\"https://pib.gov.in/PressReleasePage.aspx?PRID=1958095\">PM greets people on Vishwakarma Jayanti </a></li><li><a href=\"https://pib.gov.in/PressReleasePage.aspx?PRID=1958094\">Prime Minister condoles the demise of eminent author and Odisha Chief Minister&rsquo;s sister, Smt. Gita Mehta </a></li></ul></li></ul>\\n<ul><li><h3>Ministry of Commerce &amp; Industry</h3><ul><li><a href=\"https://pib.gov.in/PressReleasePage.aspx?PRID=1958188\">PM dedicates to the nation Yashobhoomi, Phase 1 of India International Convention and Expo Centre at Dwarka, launches PM Vishwakarma Yojna for artisans </a></li></ul></li></ul>\\n<ul><li><h3>Ministry of Defence</h3><ul><li><a href=\"https://pib.gov.in/PressReleasePage.aspx?PRID=1958261\">Indian Coast Guard conducts International Coastal Clean-up Day &ndash; 2023 across coastal states and UTs </a></li></ul></li></ul>\\n<ul><li><h3>Ministry of Earth Sciences</h3><ul><li><a href=\"https://pib.gov.in/PressReleasePage.aspx?PRID=1958223\">Swachh Sagar Surkashit Sagar - mega beach clean-up drives by Ministry of Earth Sciences at 79 locations on International Coastal Cleanup Day. </a></li></ul></li></ul>\\n<ul><li><h3>Ministry of Environment, Forest and Climate Change</h3><ul><li><a href=\"https://pib.gov.in/PressReleasePage.aspx?PRID=1958158\">Commemorating one year of successful implementation of Project Cheetah in India </a></li></ul></li></ul>\\n<ul><li><h3>Ministry of Finance</h3><ul><li><a href=\"https://pib.gov.in/PressReleasePage.aspx?PRID=1958258\">Raipur in Chhattisgarh to host 4th meeting of the G20 Framework Working Group from September 18-19 2023 </a></li></ul></li></ul>\\n<ul><li><h3>Ministry of Fisheries, Animal Husbandry &amp; Dairying</h3><ul><li><a href=\"https://pib.gov.in/PressReleasePage.aspx?PRID=1958203\">Prime Minister Shri Narendra Modi launches PM Vishwakarma Scheme at New Delhi today </a></li></ul></li></ul>\\n<ul><li><h3>Ministry of Health and Family Welfare</h3><ul><li><a href=\"https://pib.gov.in/PressReleasePage.aspx?PRID=1958206\"> On the start of Sewa Pakhwada, Dr. RML Hospital inaugurates India&rsquo;s first dedicated OPD for Transgenders </a></li></ul></li></ul>',\n",
       " 'text': \"Ministry :\\nAll Ministry Cabinet Committee on Economic Affairs (CCEA)Cabinet Committee on Economic Affairs (CCEA) Cabinet SecretariatCabinet Secretariat Cabinet Committee on InfrastructureCabinet Committee on Infrastructure Cabinet Committee on PriceCabinet Committee on Price Cabinet Committee on InvestmentCabinet Committee on Investment AYUSHAYUSH Other Cabinet CommitteesOther Cabinet Committees Department of SpaceDepartment of Space Department of Ocean DevelopmentDepartment of Ocean Development Department of Atomic EnergyDepartment of Atomic Energy Election CommissionElection Commission Finance CommissionFinance Commission Ministry of Agriculture & Farmers WelfareMinistry of Agriculture & Farmers Welfare Ministry of Agro & Rural IndustriesMinistry of Agro & Rural Industries Ministry of Chemicals and FertilizersMinistry of Chemicals and Fertilizers Ministry of Civil AviationMinistry of Civil Aviation Ministry of CoalMinistry of Coal Ministry of Commerce & IndustryMinistry of Commerce & Industry Ministry of CommunicationsMinistry of Communications Ministry of Company AffairsMinistry of Company Affairs Ministry of Consumer Affairs, Food & Public DistributionMinistry of Consumer Affairs, Food & Public Distribution Ministry of CooperationMinistry of Cooperation Ministry of Corporate AffairsMinistry of Corporate Affairs Ministry of CultureMinistry of Culture Ministry of DefenceMinistry of Defence Ministry of Development of North-East RegionMinistry of Development of North-East Region Ministry of DisinvestmentMinistry of Disinvestment Ministry of Drinking Water & SanitationMinistry of Drinking Water & Sanitation Ministry of Earth SciencesMinistry of Earth Sciences Ministry of EducationMinistry of Education Ministry of Electronics & ITMinistry of Electronics & IT Ministry of Environment, Forest and Climate ChangeMinistry of Environment, Forest and Climate Change Ministry of External AffairsMinistry of External Affairs Ministry of FinanceMinistry of Finance Ministry of Fisheries, Animal Husbandry & DairyingMinistry of Fisheries, Animal Husbandry & Dairying Ministry of Food Processing IndustriesMinistry of Food Processing Industries Ministry of Health and Family WelfareMinistry of Health and Family Welfare Ministry of Heavy IndustriesMinistry of Heavy Industries Ministry of Home AffairsMinistry of Home Affairs Ministry of Housing & Urban AffairsMinistry of Housing & Urban Affairs Ministry of Information & BroadcastingMinistry of Information & Broadcasting Ministry of Jal ShaktiMinistry of Jal Shakti Ministry of Labour & EmploymentMinistry of Labour & Employment Ministry of Law and JusticeMinistry of Law and Justice Ministry of Micro,Small & Medium EnterprisesMinistry of Micro,Small & Medium Enterprises Ministry of MinesMinistry of Mines Ministry of Minority AffairsMinistry of Minority Affairs Ministry of New and Renewable EnergyMinistry of New and Renewable Energy Ministry of Overseas Indian AffairsMinistry of Overseas Indian Affairs Ministry of Panchayati RajMinistry of Panchayati Raj Ministry of Parliamentary AffairsMinistry of Parliamentary Affairs Ministry of Personnel, Public Grievances & PensionsMinistry of Personnel, Public Grievances & Pensions Ministry of Petroleum & Natural GasMinistry of Petroleum & Natural Gas Ministry of PlanningMinistry of Planning Ministry of PowerMinistry of Power Ministry of RailwaysMinistry of Railways Ministry of Road Transport & HighwaysMinistry of Road Transport & Highways Ministry of Rural DevelopmentMinistry of Rural Development Ministry of Science & TechnologyMinistry of Science & Technology Ministry of Ports, Shipping and WaterwaysMinistry of Ports, Shipping and Waterways Ministry of Skill Development and EntrepreneurshipMinistry of Skill Development and Entrepreneurship Ministry of Social Justice & EmpowermentMinistry of Social Justice & Empowerment Ministry of Statistics & Programme ImplementationMinistry of Statistics & Programme Implementation Ministry of SteelMinistry of Steel Ministry of Surface TransportMinistry of Surface Transport Ministry of TextilesMinistry of Textiles Ministry of TourismMinistry of Tourism Ministry of Tribal AffairsMinistry of Tribal Affairs Ministry of Urban DevelopmentMinistry of Urban Development Ministry of Water Resources, River Development and Ganga RejuvenationMinistry of Water Resources, River Development and Ganga Rejuvenation Ministry of Women and Child DevelopmentMinistry of Women and Child Development Ministry of Youth Affairs and SportsMinistry of Youth Affairs and Sports NITI AayogNITI Aayog PM SpeechPM Speech EAC-PMEAC-PM UPSCUPSC Special Service and FeaturesSpecial Service and Features PIB HeadquartersPIB Headquarters Office of Principal Scientific Advisor to GoIOffice of Principal Scientific Advisor to GoI National Financial Reporting AuthorityNational Financial Reporting Authority Competition Commission of IndiaCompetition Commission of India IFSC AuthorityIFSC Authority National Security Council SecretariatNational Security Council Secretariat\\nDate:\\n17 AllAll 11 22 33 44 55 66 77 88 99 1010 1111 1212 1313 1414 1515 1616 1717 1818 1919 2020 2121 2222 2323 2424 2525 2626 2727 2828 2929 3030 3131\\nSeptember JanuaryJanuary FebruaryFebruary MarchMarch AprilApril MayMay JuneJune JulyJuly AugustAugust SeptemberSeptember OctoberOctober NovemberNovember DecemberDecember\\n2023 20232023 20222022 20212021 20202020 20192019 20182018 20172017\\nDisplaying 22 Press Releases\\nVice President's Secretariat\\nVice-President hoists the national flag at the Gaja Dwar of the New Parliament Building\\nVice President greets Prime Minister on his Birthday\\nPrime Minister's Office\\nPrime Minister extends best wishes on Marathwada Liberation Day\\nPM pays obeisance to Bhagwan Vishwakarma on the occasion of Vishwakarma Jayanti\\nText of PM’s address at the dedication of Yashobhoomi to the Nation & launch of PM Vishwakarma Scheme\\nPM inaugurates extension of Airport Metro Express Line Station from Dwarka Sector 21 to ‘Yashobhoomi Dwarka Sector 25’\\nPM dedicates Phase 1 of India International Convention and Expo Centre - ‘Yashobhoomi’ to the nation in New Delhi\\nPM greets people on Vishwakarma Jayanti\\nPrime Minister condoles the demise of eminent author and Odisha Chief Minister’s sister, Smt. Gita Mehta\\nMinistry of Commerce & Industry\\nPM dedicates to the nation Yashobhoomi, Phase 1 of India International Convention and Expo Centre at Dwarka, launches PM Vishwakarma Yojna for artisans\\nMinistry of Defence\\nIndian Coast Guard conducts International Coastal Clean-up Day – 2023 across coastal states and UTs\\nMinistry of Earth Sciences\\nSwachh Sagar Surkashit Sagar - mega beach clean-up drives by Ministry of Earth Sciences at 79 locations on International Coastal Cleanup Day.\\nMinistry of Environment, Forest and Climate Change\\nCommemorating one year of successful implementation of Project Cheetah in India\\nMinistry of Finance\\nRaipur in Chhattisgarh to host 4th meeting of the G20 Framework Working Group from September 18-19 2023\\nMinistry of Fisheries, Animal Husbandry & Dairying\\nPrime Minister Shri Narendra Modi launches PM Vishwakarma Scheme at New Delhi today\\nMinistry of Health and Family Welfare\\nOn the start of Sewa Pakhwada, Dr. RML Hospital inaugurates India’s first dedicated OPD for Transgenders\"}"
      ]
     },
     "execution_count": 95,
     "metadata": {},
     "output_type": "execute_result"
    }
   ],
   "source": [
    "data[\"objects\"][0]"
   ]
  },
  {
   "cell_type": "code",
   "execution_count": 96,
   "id": "68a039ad",
   "metadata": {},
   "outputs": [
    {
     "data": {
      "text/plain": [
       "list"
      ]
     },
     "execution_count": 96,
     "metadata": {},
     "output_type": "execute_result"
    }
   ],
   "source": [
    "type(item)"
   ]
  },
  {
   "cell_type": "code",
   "execution_count": 97,
   "id": "98129cf2",
   "metadata": {},
   "outputs": [
    {
     "data": {
      "text/plain": [
       "'Press Information Bureau'"
      ]
     },
     "execution_count": 97,
     "metadata": {},
     "output_type": "execute_result"
    }
   ],
   "source": [
    "item[0][\"title\"]"
   ]
  },
  {
   "cell_type": "code",
   "execution_count": 98,
   "id": "0dfb3a94",
   "metadata": {},
   "outputs": [
    {
     "data": {
      "text/plain": [
       "dict"
      ]
     },
     "execution_count": 98,
     "metadata": {},
     "output_type": "execute_result"
    }
   ],
   "source": [
    "type(item[0])"
   ]
  },
  {
   "cell_type": "code",
   "execution_count": 99,
   "id": "330e3a2c",
   "metadata": {},
   "outputs": [
    {
     "ename": "NameError",
     "evalue": "name 'i' is not defined",
     "output_type": "error",
     "traceback": [
      "\u001b[1;31m---------------------------------------------------------------------------\u001b[0m",
      "\u001b[1;31mNameError\u001b[0m                                 Traceback (most recent call last)",
      "Input \u001b[1;32mIn [99]\u001b[0m, in \u001b[0;36m<cell line: 1>\u001b[1;34m()\u001b[0m\n\u001b[1;32m----> 1\u001b[0m \u001b[43mi\u001b[49m\u001b[38;5;241m.\u001b[39mkeys()\n",
      "\u001b[1;31mNameError\u001b[0m: name 'i' is not defined"
     ]
    }
   ],
   "source": [
    "i.keys()"
   ]
  },
  {
   "cell_type": "code",
   "execution_count": 100,
   "id": "9e91ebd6",
   "metadata": {},
   "outputs": [
    {
     "data": {
      "text/plain": [
       "[{'score': 0.8212187886238098,\n",
       "  'sentiment': 0,\n",
       "  'count': 1,\n",
       "  'label': 'Press Information Bureau',\n",
       "  'uri': 'https://diffbot.com/entity/EColQ6ntmPj-qrs9cYmmETw',\n",
       "  'rdfTypes': ['http://dbpedia.org/ontology/Organisation']}]"
      ]
     },
     "execution_count": 100,
     "metadata": {},
     "output_type": "execute_result"
    }
   ],
   "source": [
    "item[0][\"tags\"]"
   ]
  },
  {
   "cell_type": "code",
   "execution_count": 101,
   "id": "08568b90",
   "metadata": {},
   "outputs": [
    {
     "data": {
      "text/plain": [
       "'article'"
      ]
     },
     "execution_count": 101,
     "metadata": {},
     "output_type": "execute_result"
    }
   ],
   "source": [
    "item[0][\"type\"]"
   ]
  },
  {
   "cell_type": "code",
   "execution_count": 102,
   "id": "e2f5275a",
   "metadata": {},
   "outputs": [
    {
     "data": {
      "text/plain": [
       "\"Ministry :\\nAll Ministry Cabinet Committee on Economic Affairs (CCEA)Cabinet Committee on Economic Affairs (CCEA) Cabinet SecretariatCabinet Secretariat Cabinet Committee on InfrastructureCabinet Committee on Infrastructure Cabinet Committee on PriceCabinet Committee on Price Cabinet Committee on InvestmentCabinet Committee on Investment AYUSHAYUSH Other Cabinet CommitteesOther Cabinet Committees Department of SpaceDepartment of Space Department of Ocean DevelopmentDepartment of Ocean Development Department of Atomic EnergyDepartment of Atomic Energy Election CommissionElection Commission Finance CommissionFinance Commission Ministry of Agriculture & Farmers WelfareMinistry of Agriculture & Farmers Welfare Ministry of Agro & Rural IndustriesMinistry of Agro & Rural Industries Ministry of Chemicals and FertilizersMinistry of Chemicals and Fertilizers Ministry of Civil AviationMinistry of Civil Aviation Ministry of CoalMinistry of Coal Ministry of Commerce & IndustryMinistry of Commerce & Industry Ministry of CommunicationsMinistry of Communications Ministry of Company AffairsMinistry of Company Affairs Ministry of Consumer Affairs, Food & Public DistributionMinistry of Consumer Affairs, Food & Public Distribution Ministry of CooperationMinistry of Cooperation Ministry of Corporate AffairsMinistry of Corporate Affairs Ministry of CultureMinistry of Culture Ministry of DefenceMinistry of Defence Ministry of Development of North-East RegionMinistry of Development of North-East Region Ministry of DisinvestmentMinistry of Disinvestment Ministry of Drinking Water & SanitationMinistry of Drinking Water & Sanitation Ministry of Earth SciencesMinistry of Earth Sciences Ministry of EducationMinistry of Education Ministry of Electronics & ITMinistry of Electronics & IT Ministry of Environment, Forest and Climate ChangeMinistry of Environment, Forest and Climate Change Ministry of External AffairsMinistry of External Affairs Ministry of FinanceMinistry of Finance Ministry of Fisheries, Animal Husbandry & DairyingMinistry of Fisheries, Animal Husbandry & Dairying Ministry of Food Processing IndustriesMinistry of Food Processing Industries Ministry of Health and Family WelfareMinistry of Health and Family Welfare Ministry of Heavy IndustriesMinistry of Heavy Industries Ministry of Home AffairsMinistry of Home Affairs Ministry of Housing & Urban AffairsMinistry of Housing & Urban Affairs Ministry of Information & BroadcastingMinistry of Information & Broadcasting Ministry of Jal ShaktiMinistry of Jal Shakti Ministry of Labour & EmploymentMinistry of Labour & Employment Ministry of Law and JusticeMinistry of Law and Justice Ministry of Micro,Small & Medium EnterprisesMinistry of Micro,Small & Medium Enterprises Ministry of MinesMinistry of Mines Ministry of Minority AffairsMinistry of Minority Affairs Ministry of New and Renewable EnergyMinistry of New and Renewable Energy Ministry of Overseas Indian AffairsMinistry of Overseas Indian Affairs Ministry of Panchayati RajMinistry of Panchayati Raj Ministry of Parliamentary AffairsMinistry of Parliamentary Affairs Ministry of Personnel, Public Grievances & PensionsMinistry of Personnel, Public Grievances & Pensions Ministry of Petroleum & Natural GasMinistry of Petroleum & Natural Gas Ministry of PlanningMinistry of Planning Ministry of PowerMinistry of Power Ministry of RailwaysMinistry of Railways Ministry of Road Transport & HighwaysMinistry of Road Transport & Highways Ministry of Rural DevelopmentMinistry of Rural Development Ministry of Science & TechnologyMinistry of Science & Technology Ministry of Ports, Shipping and WaterwaysMinistry of Ports, Shipping and Waterways Ministry of Skill Development and EntrepreneurshipMinistry of Skill Development and Entrepreneurship Ministry of Social Justice & EmpowermentMinistry of Social Justice & Empowerment Ministry of Statistics & Programme ImplementationMinistry of Statistics & Programme Implementation Ministry of SteelMinistry of Steel Ministry of Surface TransportMinistry of Surface Transport Ministry of TextilesMinistry of Textiles Ministry of TourismMinistry of Tourism Ministry of Tribal AffairsMinistry of Tribal Affairs Ministry of Urban DevelopmentMinistry of Urban Development Ministry of Water Resources, River Development and Ganga RejuvenationMinistry of Water Resources, River Development and Ganga Rejuvenation Ministry of Women and Child DevelopmentMinistry of Women and Child Development Ministry of Youth Affairs and SportsMinistry of Youth Affairs and Sports NITI AayogNITI Aayog PM SpeechPM Speech EAC-PMEAC-PM UPSCUPSC Special Service and FeaturesSpecial Service and Features PIB HeadquartersPIB Headquarters Office of Principal Scientific Advisor to GoIOffice of Principal Scientific Advisor to GoI National Financial Reporting AuthorityNational Financial Reporting Authority Competition Commission of IndiaCompetition Commission of India IFSC AuthorityIFSC Authority National Security Council SecretariatNational Security Council Secretariat\\nDate:\\n17 AllAll 11 22 33 44 55 66 77 88 99 1010 1111 1212 1313 1414 1515 1616 1717 1818 1919 2020 2121 2222 2323 2424 2525 2626 2727 2828 2929 3030 3131\\nSeptember JanuaryJanuary FebruaryFebruary MarchMarch AprilApril MayMay JuneJune JulyJuly AugustAugust SeptemberSeptember OctoberOctober NovemberNovember DecemberDecember\\n2023 20232023 20222022 20212021 20202020 20192019 20182018 20172017\\nDisplaying 22 Press Releases\\nVice President's Secretariat\\nVice-President hoists the national flag at the Gaja Dwar of the New Parliament Building\\nVice President greets Prime Minister on his Birthday\\nPrime Minister's Office\\nPrime Minister extends best wishes on Marathwada Liberation Day\\nPM pays obeisance to Bhagwan Vishwakarma on the occasion of Vishwakarma Jayanti\\nText of PM’s address at the dedication of Yashobhoomi to the Nation & launch of PM Vishwakarma Scheme\\nPM inaugurates extension of Airport Metro Express Line Station from Dwarka Sector 21 to ‘Yashobhoomi Dwarka Sector 25’\\nPM dedicates Phase 1 of India International Convention and Expo Centre - ‘Yashobhoomi’ to the nation in New Delhi\\nPM greets people on Vishwakarma Jayanti\\nPrime Minister condoles the demise of eminent author and Odisha Chief Minister’s sister, Smt. Gita Mehta\\nMinistry of Commerce & Industry\\nPM dedicates to the nation Yashobhoomi, Phase 1 of India International Convention and Expo Centre at Dwarka, launches PM Vishwakarma Yojna for artisans\\nMinistry of Defence\\nIndian Coast Guard conducts International Coastal Clean-up Day – 2023 across coastal states and UTs\\nMinistry of Earth Sciences\\nSwachh Sagar Surkashit Sagar - mega beach clean-up drives by Ministry of Earth Sciences at 79 locations on International Coastal Cleanup Day.\\nMinistry of Environment, Forest and Climate Change\\nCommemorating one year of successful implementation of Project Cheetah in India\\nMinistry of Finance\\nRaipur in Chhattisgarh to host 4th meeting of the G20 Framework Working Group from September 18-19 2023\\nMinistry of Fisheries, Animal Husbandry & Dairying\\nPrime Minister Shri Narendra Modi launches PM Vishwakarma Scheme at New Delhi today\\nMinistry of Health and Family Welfare\\nOn the start of Sewa Pakhwada, Dr. RML Hospital inaugurates India’s first dedicated OPD for Transgenders\""
      ]
     },
     "execution_count": 102,
     "metadata": {},
     "output_type": "execute_result"
    }
   ],
   "source": [
    "item[0][\"text\"]"
   ]
  },
  {
   "cell_type": "code",
   "execution_count": null,
   "id": "0b00273c",
   "metadata": {},
   "outputs": [],
   "source": []
  },
  {
   "cell_type": "code",
   "execution_count": 135,
   "id": "fd8aeac9",
   "metadata": {},
   "outputs": [
    {
     "name": "stdout",
     "output_type": "stream",
     "text": [
      "Title - Vice-President hoists the national flag at the Gaja Dwar of the New Parliament Building\n",
      "\n",
      "Article -  VP describes it as a \"historic moment & a milestone development\"\n",
      "Bharat is witnessing epochal change - Vice-President\n",
      "\"The world is in total recognition of might, power and contribution of Bharat\" - Vice President\n",
      "Heralding a new beginning, from one glorious legacy to a new chapter in Bharat’s Amrit Kaal, the Vice-President & Chairman, Rajya Sabha, Shri Jagdeep Dhankhar hoisted the national flag at the Gaja Dwar of the New Parliament Building today. Speaker of Lok Sabha, Shri Om Birla also graced the occasion.\n",
      "Describing it as a \"historic moment & a milestone development,\" the Vice-President said that Bharat is witnessing epochal change and the world is in total recognition of might, power and contribution of Bharat.\n",
      "\"We are living in times where we are witnessing development & achievements which we never dreamt of. Our ground reality today is being reflected globally in the most affirmative manner,\" he added while speaking to media.\n",
      "Union ministers, Members of Parliament across the political spectrum, Secretary Generals of Rajya Sabha & Lok Sabha were also present to witness this historic moment.\n",
      "***\n",
      "MS/RC\n",
      "(Release ID: 1958149) Visitor Counter : 596\n"
     ]
    }
   ],
   "source": [
    "import requests\n",
    "import json\n",
    "\n",
    "# Replace 'YOUR_API_KEY' with your actual Diffbot API key\n",
    "api_key = '3142fab5eb8554f36dc522b2f9a5fae3'\n",
    "api_url = 'https://api.diffbot.com/v3/article'\n",
    "\n",
    "# URL of the web page you want to extract data from\n",
    "url = 'https://pib.gov.in/PressReleasePage.aspx?PRID=1958149'\n",
    "\n",
    "# Create the request headers with your API key\n",
    "headers = {'Content-Type': 'application/json'}\n",
    "params = {'token': api_key, 'url': url}\n",
    "\n",
    "# Send the request to Diffbot's API\n",
    "response = requests.get(api_url, params=params, headers=headers)\n",
    "\n",
    "# Check for a successful response\n",
    "if response.status_code == 200:\n",
    "    # Parse the JSON response\n",
    "    data = json.loads(response.text)\n",
    "#     print(type(data))\n",
    "\n",
    "    \n",
    "    # Access and process the extracted data fields\n",
    "#     title = data['title']\n",
    "    title = data['objects'][0]['title']\n",
    "    article = data['objects'][0]['text']\n",
    "    # ... (access other relevant fields)\n",
    "\n",
    "    # Perform further processing or storage of the data as needed\n",
    "else:\n",
    "    print(f\"Failed to fetch data. Status code: {response.status_code}\")\n",
    "    \n",
    "print(\"Title -\", title)\n",
    "print()\n",
    "print(\"Article - \", article)"
   ]
  },
  {
   "cell_type": "code",
   "execution_count": 125,
   "id": "16fbcf87",
   "metadata": {},
   "outputs": [
    {
     "name": "stdout",
     "output_type": "stream",
     "text": [
      "Hi..\n",
      "Hi..\n",
      "Hi..\n",
      "Hi..\n",
      "Hi..\n",
      "Hi..\n",
      "Hi..\n"
     ]
    },
    {
     "ename": "KeyboardInterrupt",
     "evalue": "",
     "output_type": "error",
     "traceback": [
      "\u001b[1;31m---------------------------------------------------------------------------\u001b[0m",
      "\u001b[1;31mKeyboardInterrupt\u001b[0m                         Traceback (most recent call last)",
      "Input \u001b[1;32mIn [125]\u001b[0m, in \u001b[0;36m<cell line: 11>\u001b[1;34m()\u001b[0m\n\u001b[0;32m     10\u001b[0m \u001b[38;5;28;01mwhile\u001b[39;00m \u001b[38;5;28;01mTrue\u001b[39;00m:\n\u001b[0;32m     11\u001b[0m     schedule\u001b[38;5;241m.\u001b[39mrun_pending()\n\u001b[1;32m---> 12\u001b[0m     \u001b[43mtime\u001b[49m\u001b[38;5;241;43m.\u001b[39;49m\u001b[43msleep\u001b[49m\u001b[43m(\u001b[49m\u001b[38;5;241;43m1\u001b[39;49m\u001b[43m)\u001b[49m\n",
      "\u001b[1;31mKeyboardInterrupt\u001b[0m: "
     ]
    }
   ],
   "source": [
    "import schedule\n",
    "import time\n",
    "\n",
    "def job():\n",
    "    print(\"Hi..\")\n",
    "\n",
    "#Time\n",
    "schedule.every(5).seconds.do(job)\n",
    "\n",
    "while True:\n",
    "    schedule.run_pending()\n",
    "    time.sleep(1)"
   ]
  },
  {
   "cell_type": "code",
   "execution_count": 123,
   "id": "217f16e3",
   "metadata": {},
   "outputs": [
    {
     "name": "stdout",
     "output_type": "stream",
     "text": [
      "Defaulting to user installation because normal site-packages is not writeable\n",
      "Collecting schedule\n",
      "  Downloading schedule-1.2.0-py2.py3-none-any.whl (11 kB)\n",
      "Installing collected packages: schedule\n",
      "Successfully installed schedule-1.2.0\n",
      "Note: you may need to restart the kernel to use updated packages.\n"
     ]
    }
   ],
   "source": [
    "pip install schedule"
   ]
  },
  {
   "cell_type": "code",
   "execution_count": 129,
   "id": "c6a9d7e9",
   "metadata": {},
   "outputs": [
    {
     "ename": "ConnectionError",
     "evalue": "HTTPSConnectionPool(host='pib.gov.in', port=443): Max retries exceeded with url: /allRel.aspx (Caused by NewConnectionError('<urllib3.connection.HTTPSConnection object at 0x0000017280DE1EE0>: Failed to establish a new connection: [WinError 10065] A socket operation was attempted to an unreachable host'))",
     "output_type": "error",
     "traceback": [
      "\u001b[1;31m---------------------------------------------------------------------------\u001b[0m",
      "\u001b[1;31mOSError\u001b[0m                                   Traceback (most recent call last)",
      "File \u001b[1;32mC:\\ProgramData\\Anaconda3\\lib\\site-packages\\urllib3\\connection.py:174\u001b[0m, in \u001b[0;36mHTTPConnection._new_conn\u001b[1;34m(self)\u001b[0m\n\u001b[0;32m    173\u001b[0m \u001b[38;5;28;01mtry\u001b[39;00m:\n\u001b[1;32m--> 174\u001b[0m     conn \u001b[38;5;241m=\u001b[39m connection\u001b[38;5;241m.\u001b[39mcreate_connection(\n\u001b[0;32m    175\u001b[0m         (\u001b[38;5;28mself\u001b[39m\u001b[38;5;241m.\u001b[39m_dns_host, \u001b[38;5;28mself\u001b[39m\u001b[38;5;241m.\u001b[39mport), \u001b[38;5;28mself\u001b[39m\u001b[38;5;241m.\u001b[39mtimeout, \u001b[38;5;241m*\u001b[39m\u001b[38;5;241m*\u001b[39mextra_kw\n\u001b[0;32m    176\u001b[0m     )\n\u001b[0;32m    178\u001b[0m \u001b[38;5;28;01mexcept\u001b[39;00m SocketTimeout:\n",
      "File \u001b[1;32mC:\\ProgramData\\Anaconda3\\lib\\site-packages\\urllib3\\util\\connection.py:95\u001b[0m, in \u001b[0;36mcreate_connection\u001b[1;34m(address, timeout, source_address, socket_options)\u001b[0m\n\u001b[0;32m     94\u001b[0m \u001b[38;5;28;01mif\u001b[39;00m err \u001b[38;5;129;01mis\u001b[39;00m \u001b[38;5;129;01mnot\u001b[39;00m \u001b[38;5;28;01mNone\u001b[39;00m:\n\u001b[1;32m---> 95\u001b[0m     \u001b[38;5;28;01mraise\u001b[39;00m err\n\u001b[0;32m     97\u001b[0m \u001b[38;5;28;01mraise\u001b[39;00m socket\u001b[38;5;241m.\u001b[39merror(\u001b[38;5;124m\"\u001b[39m\u001b[38;5;124mgetaddrinfo returns an empty list\u001b[39m\u001b[38;5;124m\"\u001b[39m)\n",
      "File \u001b[1;32mC:\\ProgramData\\Anaconda3\\lib\\site-packages\\urllib3\\util\\connection.py:85\u001b[0m, in \u001b[0;36mcreate_connection\u001b[1;34m(address, timeout, source_address, socket_options)\u001b[0m\n\u001b[0;32m     84\u001b[0m     sock\u001b[38;5;241m.\u001b[39mbind(source_address)\n\u001b[1;32m---> 85\u001b[0m \u001b[43msock\u001b[49m\u001b[38;5;241;43m.\u001b[39;49m\u001b[43mconnect\u001b[49m\u001b[43m(\u001b[49m\u001b[43msa\u001b[49m\u001b[43m)\u001b[49m\n\u001b[0;32m     86\u001b[0m \u001b[38;5;28;01mreturn\u001b[39;00m sock\n",
      "\u001b[1;31mOSError\u001b[0m: [WinError 10065] A socket operation was attempted to an unreachable host",
      "\nDuring handling of the above exception, another exception occurred:\n",
      "\u001b[1;31mNewConnectionError\u001b[0m                        Traceback (most recent call last)",
      "File \u001b[1;32mC:\\ProgramData\\Anaconda3\\lib\\site-packages\\urllib3\\connectionpool.py:703\u001b[0m, in \u001b[0;36mHTTPConnectionPool.urlopen\u001b[1;34m(self, method, url, body, headers, retries, redirect, assert_same_host, timeout, pool_timeout, release_conn, chunked, body_pos, **response_kw)\u001b[0m\n\u001b[0;32m    702\u001b[0m \u001b[38;5;66;03m# Make the request on the httplib connection object.\u001b[39;00m\n\u001b[1;32m--> 703\u001b[0m httplib_response \u001b[38;5;241m=\u001b[39m \u001b[38;5;28;43mself\u001b[39;49m\u001b[38;5;241;43m.\u001b[39;49m\u001b[43m_make_request\u001b[49m\u001b[43m(\u001b[49m\n\u001b[0;32m    704\u001b[0m \u001b[43m    \u001b[49m\u001b[43mconn\u001b[49m\u001b[43m,\u001b[49m\n\u001b[0;32m    705\u001b[0m \u001b[43m    \u001b[49m\u001b[43mmethod\u001b[49m\u001b[43m,\u001b[49m\n\u001b[0;32m    706\u001b[0m \u001b[43m    \u001b[49m\u001b[43murl\u001b[49m\u001b[43m,\u001b[49m\n\u001b[0;32m    707\u001b[0m \u001b[43m    \u001b[49m\u001b[43mtimeout\u001b[49m\u001b[38;5;241;43m=\u001b[39;49m\u001b[43mtimeout_obj\u001b[49m\u001b[43m,\u001b[49m\n\u001b[0;32m    708\u001b[0m \u001b[43m    \u001b[49m\u001b[43mbody\u001b[49m\u001b[38;5;241;43m=\u001b[39;49m\u001b[43mbody\u001b[49m\u001b[43m,\u001b[49m\n\u001b[0;32m    709\u001b[0m \u001b[43m    \u001b[49m\u001b[43mheaders\u001b[49m\u001b[38;5;241;43m=\u001b[39;49m\u001b[43mheaders\u001b[49m\u001b[43m,\u001b[49m\n\u001b[0;32m    710\u001b[0m \u001b[43m    \u001b[49m\u001b[43mchunked\u001b[49m\u001b[38;5;241;43m=\u001b[39;49m\u001b[43mchunked\u001b[49m\u001b[43m,\u001b[49m\n\u001b[0;32m    711\u001b[0m \u001b[43m\u001b[49m\u001b[43m)\u001b[49m\n\u001b[0;32m    713\u001b[0m \u001b[38;5;66;03m# If we're going to release the connection in ``finally:``, then\u001b[39;00m\n\u001b[0;32m    714\u001b[0m \u001b[38;5;66;03m# the response doesn't need to know about the connection. Otherwise\u001b[39;00m\n\u001b[0;32m    715\u001b[0m \u001b[38;5;66;03m# it will also try to release it and we'll have a double-release\u001b[39;00m\n\u001b[0;32m    716\u001b[0m \u001b[38;5;66;03m# mess.\u001b[39;00m\n",
      "File \u001b[1;32mC:\\ProgramData\\Anaconda3\\lib\\site-packages\\urllib3\\connectionpool.py:386\u001b[0m, in \u001b[0;36mHTTPConnectionPool._make_request\u001b[1;34m(self, conn, method, url, timeout, chunked, **httplib_request_kw)\u001b[0m\n\u001b[0;32m    385\u001b[0m \u001b[38;5;28;01mtry\u001b[39;00m:\n\u001b[1;32m--> 386\u001b[0m     \u001b[38;5;28;43mself\u001b[39;49m\u001b[38;5;241;43m.\u001b[39;49m\u001b[43m_validate_conn\u001b[49m\u001b[43m(\u001b[49m\u001b[43mconn\u001b[49m\u001b[43m)\u001b[49m\n\u001b[0;32m    387\u001b[0m \u001b[38;5;28;01mexcept\u001b[39;00m (SocketTimeout, BaseSSLError) \u001b[38;5;28;01mas\u001b[39;00m e:\n\u001b[0;32m    388\u001b[0m     \u001b[38;5;66;03m# Py2 raises this as a BaseSSLError, Py3 raises it as socket timeout.\u001b[39;00m\n",
      "File \u001b[1;32mC:\\ProgramData\\Anaconda3\\lib\\site-packages\\urllib3\\connectionpool.py:1040\u001b[0m, in \u001b[0;36mHTTPSConnectionPool._validate_conn\u001b[1;34m(self, conn)\u001b[0m\n\u001b[0;32m   1039\u001b[0m \u001b[38;5;28;01mif\u001b[39;00m \u001b[38;5;129;01mnot\u001b[39;00m \u001b[38;5;28mgetattr\u001b[39m(conn, \u001b[38;5;124m\"\u001b[39m\u001b[38;5;124msock\u001b[39m\u001b[38;5;124m\"\u001b[39m, \u001b[38;5;28;01mNone\u001b[39;00m):  \u001b[38;5;66;03m# AppEngine might not have  `.sock`\u001b[39;00m\n\u001b[1;32m-> 1040\u001b[0m     \u001b[43mconn\u001b[49m\u001b[38;5;241;43m.\u001b[39;49m\u001b[43mconnect\u001b[49m\u001b[43m(\u001b[49m\u001b[43m)\u001b[49m\n\u001b[0;32m   1042\u001b[0m \u001b[38;5;28;01mif\u001b[39;00m \u001b[38;5;129;01mnot\u001b[39;00m conn\u001b[38;5;241m.\u001b[39mis_verified:\n",
      "File \u001b[1;32mC:\\ProgramData\\Anaconda3\\lib\\site-packages\\urllib3\\connection.py:358\u001b[0m, in \u001b[0;36mHTTPSConnection.connect\u001b[1;34m(self)\u001b[0m\n\u001b[0;32m    356\u001b[0m \u001b[38;5;28;01mdef\u001b[39;00m \u001b[38;5;21mconnect\u001b[39m(\u001b[38;5;28mself\u001b[39m):\n\u001b[0;32m    357\u001b[0m     \u001b[38;5;66;03m# Add certificate verification\u001b[39;00m\n\u001b[1;32m--> 358\u001b[0m     \u001b[38;5;28mself\u001b[39m\u001b[38;5;241m.\u001b[39msock \u001b[38;5;241m=\u001b[39m conn \u001b[38;5;241m=\u001b[39m \u001b[38;5;28;43mself\u001b[39;49m\u001b[38;5;241;43m.\u001b[39;49m\u001b[43m_new_conn\u001b[49m\u001b[43m(\u001b[49m\u001b[43m)\u001b[49m\n\u001b[0;32m    359\u001b[0m     hostname \u001b[38;5;241m=\u001b[39m \u001b[38;5;28mself\u001b[39m\u001b[38;5;241m.\u001b[39mhost\n",
      "File \u001b[1;32mC:\\ProgramData\\Anaconda3\\lib\\site-packages\\urllib3\\connection.py:186\u001b[0m, in \u001b[0;36mHTTPConnection._new_conn\u001b[1;34m(self)\u001b[0m\n\u001b[0;32m    185\u001b[0m \u001b[38;5;28;01mexcept\u001b[39;00m SocketError \u001b[38;5;28;01mas\u001b[39;00m e:\n\u001b[1;32m--> 186\u001b[0m     \u001b[38;5;28;01mraise\u001b[39;00m NewConnectionError(\n\u001b[0;32m    187\u001b[0m         \u001b[38;5;28mself\u001b[39m, \u001b[38;5;124m\"\u001b[39m\u001b[38;5;124mFailed to establish a new connection: \u001b[39m\u001b[38;5;132;01m%s\u001b[39;00m\u001b[38;5;124m\"\u001b[39m \u001b[38;5;241m%\u001b[39m e\n\u001b[0;32m    188\u001b[0m     )\n\u001b[0;32m    190\u001b[0m \u001b[38;5;28;01mreturn\u001b[39;00m conn\n",
      "\u001b[1;31mNewConnectionError\u001b[0m: <urllib3.connection.HTTPSConnection object at 0x0000017280DE1EE0>: Failed to establish a new connection: [WinError 10065] A socket operation was attempted to an unreachable host",
      "\nDuring handling of the above exception, another exception occurred:\n",
      "\u001b[1;31mMaxRetryError\u001b[0m                             Traceback (most recent call last)",
      "File \u001b[1;32mC:\\ProgramData\\Anaconda3\\lib\\site-packages\\requests\\adapters.py:440\u001b[0m, in \u001b[0;36mHTTPAdapter.send\u001b[1;34m(self, request, stream, timeout, verify, cert, proxies)\u001b[0m\n\u001b[0;32m    439\u001b[0m \u001b[38;5;28;01mif\u001b[39;00m \u001b[38;5;129;01mnot\u001b[39;00m chunked:\n\u001b[1;32m--> 440\u001b[0m     resp \u001b[38;5;241m=\u001b[39m \u001b[43mconn\u001b[49m\u001b[38;5;241;43m.\u001b[39;49m\u001b[43murlopen\u001b[49m\u001b[43m(\u001b[49m\n\u001b[0;32m    441\u001b[0m \u001b[43m        \u001b[49m\u001b[43mmethod\u001b[49m\u001b[38;5;241;43m=\u001b[39;49m\u001b[43mrequest\u001b[49m\u001b[38;5;241;43m.\u001b[39;49m\u001b[43mmethod\u001b[49m\u001b[43m,\u001b[49m\n\u001b[0;32m    442\u001b[0m \u001b[43m        \u001b[49m\u001b[43murl\u001b[49m\u001b[38;5;241;43m=\u001b[39;49m\u001b[43murl\u001b[49m\u001b[43m,\u001b[49m\n\u001b[0;32m    443\u001b[0m \u001b[43m        \u001b[49m\u001b[43mbody\u001b[49m\u001b[38;5;241;43m=\u001b[39;49m\u001b[43mrequest\u001b[49m\u001b[38;5;241;43m.\u001b[39;49m\u001b[43mbody\u001b[49m\u001b[43m,\u001b[49m\n\u001b[0;32m    444\u001b[0m \u001b[43m        \u001b[49m\u001b[43mheaders\u001b[49m\u001b[38;5;241;43m=\u001b[39;49m\u001b[43mrequest\u001b[49m\u001b[38;5;241;43m.\u001b[39;49m\u001b[43mheaders\u001b[49m\u001b[43m,\u001b[49m\n\u001b[0;32m    445\u001b[0m \u001b[43m        \u001b[49m\u001b[43mredirect\u001b[49m\u001b[38;5;241;43m=\u001b[39;49m\u001b[38;5;28;43;01mFalse\u001b[39;49;00m\u001b[43m,\u001b[49m\n\u001b[0;32m    446\u001b[0m \u001b[43m        \u001b[49m\u001b[43massert_same_host\u001b[49m\u001b[38;5;241;43m=\u001b[39;49m\u001b[38;5;28;43;01mFalse\u001b[39;49;00m\u001b[43m,\u001b[49m\n\u001b[0;32m    447\u001b[0m \u001b[43m        \u001b[49m\u001b[43mpreload_content\u001b[49m\u001b[38;5;241;43m=\u001b[39;49m\u001b[38;5;28;43;01mFalse\u001b[39;49;00m\u001b[43m,\u001b[49m\n\u001b[0;32m    448\u001b[0m \u001b[43m        \u001b[49m\u001b[43mdecode_content\u001b[49m\u001b[38;5;241;43m=\u001b[39;49m\u001b[38;5;28;43;01mFalse\u001b[39;49;00m\u001b[43m,\u001b[49m\n\u001b[0;32m    449\u001b[0m \u001b[43m        \u001b[49m\u001b[43mretries\u001b[49m\u001b[38;5;241;43m=\u001b[39;49m\u001b[38;5;28;43mself\u001b[39;49m\u001b[38;5;241;43m.\u001b[39;49m\u001b[43mmax_retries\u001b[49m\u001b[43m,\u001b[49m\n\u001b[0;32m    450\u001b[0m \u001b[43m        \u001b[49m\u001b[43mtimeout\u001b[49m\u001b[38;5;241;43m=\u001b[39;49m\u001b[43mtimeout\u001b[49m\n\u001b[0;32m    451\u001b[0m \u001b[43m    \u001b[49m\u001b[43m)\u001b[49m\n\u001b[0;32m    453\u001b[0m \u001b[38;5;66;03m# Send the request.\u001b[39;00m\n\u001b[0;32m    454\u001b[0m \u001b[38;5;28;01melse\u001b[39;00m:\n",
      "File \u001b[1;32mC:\\ProgramData\\Anaconda3\\lib\\site-packages\\urllib3\\connectionpool.py:785\u001b[0m, in \u001b[0;36mHTTPConnectionPool.urlopen\u001b[1;34m(self, method, url, body, headers, retries, redirect, assert_same_host, timeout, pool_timeout, release_conn, chunked, body_pos, **response_kw)\u001b[0m\n\u001b[0;32m    783\u001b[0m     e \u001b[38;5;241m=\u001b[39m ProtocolError(\u001b[38;5;124m\"\u001b[39m\u001b[38;5;124mConnection aborted.\u001b[39m\u001b[38;5;124m\"\u001b[39m, e)\n\u001b[1;32m--> 785\u001b[0m retries \u001b[38;5;241m=\u001b[39m \u001b[43mretries\u001b[49m\u001b[38;5;241;43m.\u001b[39;49m\u001b[43mincrement\u001b[49m\u001b[43m(\u001b[49m\n\u001b[0;32m    786\u001b[0m \u001b[43m    \u001b[49m\u001b[43mmethod\u001b[49m\u001b[43m,\u001b[49m\u001b[43m \u001b[49m\u001b[43murl\u001b[49m\u001b[43m,\u001b[49m\u001b[43m \u001b[49m\u001b[43merror\u001b[49m\u001b[38;5;241;43m=\u001b[39;49m\u001b[43me\u001b[49m\u001b[43m,\u001b[49m\u001b[43m \u001b[49m\u001b[43m_pool\u001b[49m\u001b[38;5;241;43m=\u001b[39;49m\u001b[38;5;28;43mself\u001b[39;49m\u001b[43m,\u001b[49m\u001b[43m \u001b[49m\u001b[43m_stacktrace\u001b[49m\u001b[38;5;241;43m=\u001b[39;49m\u001b[43msys\u001b[49m\u001b[38;5;241;43m.\u001b[39;49m\u001b[43mexc_info\u001b[49m\u001b[43m(\u001b[49m\u001b[43m)\u001b[49m\u001b[43m[\u001b[49m\u001b[38;5;241;43m2\u001b[39;49m\u001b[43m]\u001b[49m\n\u001b[0;32m    787\u001b[0m \u001b[43m\u001b[49m\u001b[43m)\u001b[49m\n\u001b[0;32m    788\u001b[0m retries\u001b[38;5;241m.\u001b[39msleep()\n",
      "File \u001b[1;32mC:\\ProgramData\\Anaconda3\\lib\\site-packages\\urllib3\\util\\retry.py:592\u001b[0m, in \u001b[0;36mRetry.increment\u001b[1;34m(self, method, url, response, error, _pool, _stacktrace)\u001b[0m\n\u001b[0;32m    591\u001b[0m \u001b[38;5;28;01mif\u001b[39;00m new_retry\u001b[38;5;241m.\u001b[39mis_exhausted():\n\u001b[1;32m--> 592\u001b[0m     \u001b[38;5;28;01mraise\u001b[39;00m MaxRetryError(_pool, url, error \u001b[38;5;129;01mor\u001b[39;00m ResponseError(cause))\n\u001b[0;32m    594\u001b[0m log\u001b[38;5;241m.\u001b[39mdebug(\u001b[38;5;124m\"\u001b[39m\u001b[38;5;124mIncremented Retry for (url=\u001b[39m\u001b[38;5;124m'\u001b[39m\u001b[38;5;132;01m%s\u001b[39;00m\u001b[38;5;124m'\u001b[39m\u001b[38;5;124m): \u001b[39m\u001b[38;5;132;01m%r\u001b[39;00m\u001b[38;5;124m\"\u001b[39m, url, new_retry)\n",
      "\u001b[1;31mMaxRetryError\u001b[0m: HTTPSConnectionPool(host='pib.gov.in', port=443): Max retries exceeded with url: /allRel.aspx (Caused by NewConnectionError('<urllib3.connection.HTTPSConnection object at 0x0000017280DE1EE0>: Failed to establish a new connection: [WinError 10065] A socket operation was attempted to an unreachable host'))",
      "\nDuring handling of the above exception, another exception occurred:\n",
      "\u001b[1;31mConnectionError\u001b[0m                           Traceback (most recent call last)",
      "Input \u001b[1;32mIn [129]\u001b[0m, in \u001b[0;36m<cell line: 8>\u001b[1;34m()\u001b[0m\n\u001b[0;32m      5\u001b[0m url \u001b[38;5;241m=\u001b[39m \u001b[38;5;124m\"\u001b[39m\u001b[38;5;124mhttps://pib.gov.in/allRel.aspx\u001b[39m\u001b[38;5;124m\"\u001b[39m\n\u001b[0;32m      7\u001b[0m \u001b[38;5;66;03m# Send an HTTP GET request to the URL\u001b[39;00m\n\u001b[1;32m----> 8\u001b[0m response \u001b[38;5;241m=\u001b[39m \u001b[43mrequests\u001b[49m\u001b[38;5;241;43m.\u001b[39;49m\u001b[43mget\u001b[49m\u001b[43m(\u001b[49m\u001b[43murl\u001b[49m\u001b[43m)\u001b[49m\n\u001b[0;32m     10\u001b[0m \u001b[38;5;66;03m# Check if the request was successful (status code 200)\u001b[39;00m\n\u001b[0;32m     11\u001b[0m \u001b[38;5;28;01mif\u001b[39;00m response\u001b[38;5;241m.\u001b[39mstatus_code \u001b[38;5;241m==\u001b[39m \u001b[38;5;241m200\u001b[39m:\n\u001b[0;32m     12\u001b[0m     \u001b[38;5;66;03m# Parse the HTML content of the page using BeautifulSoup\u001b[39;00m\n",
      "File \u001b[1;32mC:\\ProgramData\\Anaconda3\\lib\\site-packages\\requests\\api.py:75\u001b[0m, in \u001b[0;36mget\u001b[1;34m(url, params, **kwargs)\u001b[0m\n\u001b[0;32m     64\u001b[0m \u001b[38;5;28;01mdef\u001b[39;00m \u001b[38;5;21mget\u001b[39m(url, params\u001b[38;5;241m=\u001b[39m\u001b[38;5;28;01mNone\u001b[39;00m, \u001b[38;5;241m*\u001b[39m\u001b[38;5;241m*\u001b[39mkwargs):\n\u001b[0;32m     65\u001b[0m     \u001b[38;5;124mr\u001b[39m\u001b[38;5;124;03m\"\"\"Sends a GET request.\u001b[39;00m\n\u001b[0;32m     66\u001b[0m \n\u001b[0;32m     67\u001b[0m \u001b[38;5;124;03m    :param url: URL for the new :class:`Request` object.\u001b[39;00m\n\u001b[1;32m   (...)\u001b[0m\n\u001b[0;32m     72\u001b[0m \u001b[38;5;124;03m    :rtype: requests.Response\u001b[39;00m\n\u001b[0;32m     73\u001b[0m \u001b[38;5;124;03m    \"\"\"\u001b[39;00m\n\u001b[1;32m---> 75\u001b[0m     \u001b[38;5;28;01mreturn\u001b[39;00m request(\u001b[38;5;124m'\u001b[39m\u001b[38;5;124mget\u001b[39m\u001b[38;5;124m'\u001b[39m, url, params\u001b[38;5;241m=\u001b[39mparams, \u001b[38;5;241m*\u001b[39m\u001b[38;5;241m*\u001b[39mkwargs)\n",
      "File \u001b[1;32mC:\\ProgramData\\Anaconda3\\lib\\site-packages\\requests\\api.py:61\u001b[0m, in \u001b[0;36mrequest\u001b[1;34m(method, url, **kwargs)\u001b[0m\n\u001b[0;32m     57\u001b[0m \u001b[38;5;66;03m# By using the 'with' statement we are sure the session is closed, thus we\u001b[39;00m\n\u001b[0;32m     58\u001b[0m \u001b[38;5;66;03m# avoid leaving sockets open which can trigger a ResourceWarning in some\u001b[39;00m\n\u001b[0;32m     59\u001b[0m \u001b[38;5;66;03m# cases, and look like a memory leak in others.\u001b[39;00m\n\u001b[0;32m     60\u001b[0m \u001b[38;5;28;01mwith\u001b[39;00m sessions\u001b[38;5;241m.\u001b[39mSession() \u001b[38;5;28;01mas\u001b[39;00m session:\n\u001b[1;32m---> 61\u001b[0m     \u001b[38;5;28;01mreturn\u001b[39;00m session\u001b[38;5;241m.\u001b[39mrequest(method\u001b[38;5;241m=\u001b[39mmethod, url\u001b[38;5;241m=\u001b[39murl, \u001b[38;5;241m*\u001b[39m\u001b[38;5;241m*\u001b[39mkwargs)\n",
      "File \u001b[1;32mC:\\ProgramData\\Anaconda3\\lib\\site-packages\\requests\\sessions.py:529\u001b[0m, in \u001b[0;36mSession.request\u001b[1;34m(self, method, url, params, data, headers, cookies, files, auth, timeout, allow_redirects, proxies, hooks, stream, verify, cert, json)\u001b[0m\n\u001b[0;32m    524\u001b[0m send_kwargs \u001b[38;5;241m=\u001b[39m {\n\u001b[0;32m    525\u001b[0m     \u001b[38;5;124m'\u001b[39m\u001b[38;5;124mtimeout\u001b[39m\u001b[38;5;124m'\u001b[39m: timeout,\n\u001b[0;32m    526\u001b[0m     \u001b[38;5;124m'\u001b[39m\u001b[38;5;124mallow_redirects\u001b[39m\u001b[38;5;124m'\u001b[39m: allow_redirects,\n\u001b[0;32m    527\u001b[0m }\n\u001b[0;32m    528\u001b[0m send_kwargs\u001b[38;5;241m.\u001b[39mupdate(settings)\n\u001b[1;32m--> 529\u001b[0m resp \u001b[38;5;241m=\u001b[39m \u001b[38;5;28mself\u001b[39m\u001b[38;5;241m.\u001b[39msend(prep, \u001b[38;5;241m*\u001b[39m\u001b[38;5;241m*\u001b[39msend_kwargs)\n\u001b[0;32m    531\u001b[0m \u001b[38;5;28;01mreturn\u001b[39;00m resp\n",
      "File \u001b[1;32mC:\\ProgramData\\Anaconda3\\lib\\site-packages\\requests\\sessions.py:645\u001b[0m, in \u001b[0;36mSession.send\u001b[1;34m(self, request, **kwargs)\u001b[0m\n\u001b[0;32m    642\u001b[0m start \u001b[38;5;241m=\u001b[39m preferred_clock()\n\u001b[0;32m    644\u001b[0m \u001b[38;5;66;03m# Send the request\u001b[39;00m\n\u001b[1;32m--> 645\u001b[0m r \u001b[38;5;241m=\u001b[39m adapter\u001b[38;5;241m.\u001b[39msend(request, \u001b[38;5;241m*\u001b[39m\u001b[38;5;241m*\u001b[39mkwargs)\n\u001b[0;32m    647\u001b[0m \u001b[38;5;66;03m# Total elapsed time of the request (approximately)\u001b[39;00m\n\u001b[0;32m    648\u001b[0m elapsed \u001b[38;5;241m=\u001b[39m preferred_clock() \u001b[38;5;241m-\u001b[39m start\n",
      "File \u001b[1;32mC:\\ProgramData\\Anaconda3\\lib\\site-packages\\requests\\adapters.py:519\u001b[0m, in \u001b[0;36mHTTPAdapter.send\u001b[1;34m(self, request, stream, timeout, verify, cert, proxies)\u001b[0m\n\u001b[0;32m    515\u001b[0m     \u001b[38;5;28;01mif\u001b[39;00m \u001b[38;5;28misinstance\u001b[39m(e\u001b[38;5;241m.\u001b[39mreason, _SSLError):\n\u001b[0;32m    516\u001b[0m         \u001b[38;5;66;03m# This branch is for urllib3 v1.22 and later.\u001b[39;00m\n\u001b[0;32m    517\u001b[0m         \u001b[38;5;28;01mraise\u001b[39;00m SSLError(e, request\u001b[38;5;241m=\u001b[39mrequest)\n\u001b[1;32m--> 519\u001b[0m     \u001b[38;5;28;01mraise\u001b[39;00m \u001b[38;5;167;01mConnectionError\u001b[39;00m(e, request\u001b[38;5;241m=\u001b[39mrequest)\n\u001b[0;32m    521\u001b[0m \u001b[38;5;28;01mexcept\u001b[39;00m ClosedPoolError \u001b[38;5;28;01mas\u001b[39;00m e:\n\u001b[0;32m    522\u001b[0m     \u001b[38;5;28;01mraise\u001b[39;00m \u001b[38;5;167;01mConnectionError\u001b[39;00m(e, request\u001b[38;5;241m=\u001b[39mrequest)\n",
      "\u001b[1;31mConnectionError\u001b[0m: HTTPSConnectionPool(host='pib.gov.in', port=443): Max retries exceeded with url: /allRel.aspx (Caused by NewConnectionError('<urllib3.connection.HTTPSConnection object at 0x0000017280DE1EE0>: Failed to establish a new connection: [WinError 10065] A socket operation was attempted to an unreachable host'))"
     ]
    }
   ],
   "source": [
    "import requests\n",
    "from bs4 import BeautifulSoup\n",
    "\n",
    "# URL of the page to scrape\n",
    "url = \"https://pib.gov.in/allRel.aspx\"\n",
    "\n",
    "# Send an HTTP GET request to the URL\n",
    "response = requests.get(url)\n",
    "\n",
    "# Check if the request was successful (status code 200)\n",
    "if response.status_code == 200:\n",
    "    # Parse the HTML content of the page using BeautifulSoup\n",
    "    soup = BeautifulSoup(response.text, \"html.parser\")\n",
    "\n",
    "    # Find the press release elements (adjust the selectors based on the HTML structure)\n",
    "    press_release_elements = soup.find_all(\"div\", class_=\"release\")\n",
    "\n",
    "    # Initialize a list to store the extracted press release data\n",
    "    press_releases = []\n",
    "\n",
    "    # Iterate through the press release elements\n",
    "    for release_element in press_release_elements:\n",
    "        # Extract relevant information (title, date, content, etc.)\n",
    "        title = release_element.find(\"h5\").text.strip()\n",
    "        date = release_element.find(\"span\", class_=\"date\").text.strip()\n",
    "        content = release_element.find(\"div\", class_=\"content\").text.strip()\n",
    "\n",
    "        # Store the extracted data in a dictionary\n",
    "        press_release = {\n",
    "            \"title\": title,\n",
    "            \"date\": date,\n",
    "            \"content\": content\n",
    "        }\n",
    "\n",
    "        # Append the press release data to the list\n",
    "        press_releases.append(press_release)\n",
    "    print(title)\n",
    "    print(press_releases)\n",
    "    # Print the extracted press releases\n",
    "    for idx, release in enumerate(press_releases, start=1):\n",
    "        print(f\"Press Release {idx}:\")\n",
    "        print(f\"Title: {release['title']}\")\n",
    "        print(f\"Date: {release['date']}\")\n",
    "        print(f\"Content: {release['content']}\")\n",
    "        print(\"-\" * 50)\n",
    "\n",
    "else:\n",
    "    print(f\"Failed to retrieve the page. Status Code: {response.status_code}\")\n"
   ]
  },
  {
   "cell_type": "code",
   "execution_count": 130,
   "id": "d7878643",
   "metadata": {},
   "outputs": [
    {
     "name": "stdout",
     "output_type": "stream",
     "text": [
      "Defaulting to user installation because normal site-packages is not writeable\n",
      "Requirement already satisfied: scrapy in c:\\programdata\\anaconda3\\lib\\site-packages (2.6.1)\n",
      "Requirement already satisfied: cryptography>=2.0 in c:\\programdata\\anaconda3\\lib\\site-packages (from scrapy) (3.4.8)\n",
      "Requirement already satisfied: zope.interface>=4.1.3 in c:\\programdata\\anaconda3\\lib\\site-packages (from scrapy) (5.4.0)\n",
      "Requirement already satisfied: w3lib>=1.17.0 in c:\\programdata\\anaconda3\\lib\\site-packages (from scrapy) (1.21.0)\n",
      "Requirement already satisfied: cssselect>=0.9.1 in c:\\programdata\\anaconda3\\lib\\site-packages (from scrapy) (1.1.0)\n",
      "Requirement already satisfied: setuptools in c:\\programdata\\anaconda3\\lib\\site-packages (from scrapy) (61.2.0)Note: you may need to restart the kernel to use updated packages.\n",
      "\n",
      "Requirement already satisfied: tldextract in c:\\programdata\\anaconda3\\lib\\site-packages (from scrapy) (3.2.0)\n",
      "Requirement already satisfied: pyOpenSSL>=16.2.0 in c:\\programdata\\anaconda3\\lib\\site-packages (from scrapy) (21.0.0)\n",
      "Requirement already satisfied: lxml>=3.5.0 in c:\\programdata\\anaconda3\\lib\\site-packages (from scrapy) (4.8.0)\n",
      "Requirement already satisfied: PyDispatcher>=2.0.5 in c:\\programdata\\anaconda3\\lib\\site-packages (from scrapy) (2.0.5)\n",
      "Requirement already satisfied: Twisted>=17.9.0 in c:\\programdata\\anaconda3\\lib\\site-packages (from scrapy) (22.2.0)\n",
      "Requirement already satisfied: queuelib>=1.4.2 in c:\\programdata\\anaconda3\\lib\\site-packages (from scrapy) (1.5.0)\n",
      "Requirement already satisfied: service-identity>=16.0.0 in c:\\programdata\\anaconda3\\lib\\site-packages (from scrapy) (18.1.0)\n",
      "Requirement already satisfied: itemadapter>=0.1.0 in c:\\programdata\\anaconda3\\lib\\site-packages (from scrapy) (0.3.0)\n",
      "Requirement already satisfied: parsel>=1.5.0 in c:\\programdata\\anaconda3\\lib\\site-packages (from scrapy) (1.6.0)\n",
      "Requirement already satisfied: protego>=0.1.15 in c:\\programdata\\anaconda3\\lib\\site-packages (from scrapy) (0.1.16)\n",
      "Requirement already satisfied: itemloaders>=1.0.1 in c:\\programdata\\anaconda3\\lib\\site-packages (from scrapy) (1.0.4)\n",
      "Requirement already satisfied: cffi>=1.12 in c:\\programdata\\anaconda3\\lib\\site-packages (from cryptography>=2.0->scrapy) (1.15.0)\n",
      "Requirement already satisfied: pycparser in c:\\programdata\\anaconda3\\lib\\site-packages (from cffi>=1.12->cryptography>=2.0->scrapy) (2.21)\n",
      "Requirement already satisfied: jmespath>=0.9.5 in c:\\programdata\\anaconda3\\lib\\site-packages (from itemloaders>=1.0.1->scrapy) (0.10.0)\n",
      "Requirement already satisfied: six>=1.6.0 in c:\\programdata\\anaconda3\\lib\\site-packages (from parsel>=1.5.0->scrapy) (1.16.0)\n",
      "Requirement already satisfied: pyasn1 in c:\\programdata\\anaconda3\\lib\\site-packages (from service-identity>=16.0.0->scrapy) (0.4.8)\n",
      "Requirement already satisfied: pyasn1-modules in c:\\programdata\\anaconda3\\lib\\site-packages (from service-identity>=16.0.0->scrapy) (0.2.8)\n",
      "Requirement already satisfied: attrs>=16.0.0 in c:\\programdata\\anaconda3\\lib\\site-packages (from service-identity>=16.0.0->scrapy) (21.4.0)\n",
      "Requirement already satisfied: Automat>=0.8.0 in c:\\programdata\\anaconda3\\lib\\site-packages (from Twisted>=17.9.0->scrapy) (20.2.0)\n",
      "Requirement already satisfied: constantly>=15.1 in c:\\programdata\\anaconda3\\lib\\site-packages (from Twisted>=17.9.0->scrapy) (15.1.0)\n",
      "Requirement already satisfied: hyperlink>=17.1.1 in c:\\programdata\\anaconda3\\lib\\site-packages (from Twisted>=17.9.0->scrapy) (21.0.0)\n",
      "Requirement already satisfied: typing-extensions>=3.6.5 in c:\\programdata\\anaconda3\\lib\\site-packages (from Twisted>=17.9.0->scrapy) (4.1.1)\n",
      "Requirement already satisfied: twisted-iocpsupport<2,>=1.0.2 in c:\\programdata\\anaconda3\\lib\\site-packages (from Twisted>=17.9.0->scrapy) (1.0.2)\n",
      "Requirement already satisfied: incremental>=21.3.0 in c:\\programdata\\anaconda3\\lib\\site-packages (from Twisted>=17.9.0->scrapy) (21.3.0)\n",
      "Requirement already satisfied: idna>=2.5 in c:\\programdata\\anaconda3\\lib\\site-packages (from hyperlink>=17.1.1->Twisted>=17.9.0->scrapy) (3.3)\n",
      "Requirement already satisfied: requests-file>=1.4 in c:\\programdata\\anaconda3\\lib\\site-packages (from tldextract->scrapy) (1.5.1)\n",
      "Requirement already satisfied: filelock>=3.0.8 in c:\\programdata\\anaconda3\\lib\\site-packages (from tldextract->scrapy) (3.6.0)\n",
      "Requirement already satisfied: requests>=2.1.0 in c:\\programdata\\anaconda3\\lib\\site-packages (from tldextract->scrapy) (2.27.1)\n",
      "Requirement already satisfied: certifi>=2017.4.17 in c:\\programdata\\anaconda3\\lib\\site-packages (from requests>=2.1.0->tldextract->scrapy) (2021.10.8)\n",
      "Requirement already satisfied: urllib3<1.27,>=1.21.1 in c:\\programdata\\anaconda3\\lib\\site-packages (from requests>=2.1.0->tldextract->scrapy) (1.26.9)\n",
      "Requirement already satisfied: charset-normalizer~=2.0.0 in c:\\programdata\\anaconda3\\lib\\site-packages (from requests>=2.1.0->tldextract->scrapy) (2.0.4)\n"
     ]
    }
   ],
   "source": [
    "pip install scrapy\n"
   ]
  },
  {
   "cell_type": "code",
   "execution_count": 132,
   "id": "f01f2b5b",
   "metadata": {},
   "outputs": [],
   "source": [
    "import scrapy as scrapy"
   ]
  },
  {
   "cell_type": "code",
   "execution_count": 133,
   "id": "115f7c1a",
   "metadata": {},
   "outputs": [
    {
     "ename": "SyntaxError",
     "evalue": "invalid syntax (2717889848.py, line 1)",
     "output_type": "error",
     "traceback": [
      "\u001b[1;36m  Input \u001b[1;32mIn [133]\u001b[1;36m\u001b[0m\n\u001b[1;33m    scrapy startproject pib_scraper\u001b[0m\n\u001b[1;37m           ^\u001b[0m\n\u001b[1;31mSyntaxError\u001b[0m\u001b[1;31m:\u001b[0m invalid syntax\n"
     ]
    }
   ],
   "source": [
    "scrapy startproject pib_scraper\n"
   ]
  },
  {
   "cell_type": "code",
   "execution_count": 134,
   "id": "9dbc5a4f",
   "metadata": {},
   "outputs": [
    {
     "ename": "SyntaxError",
     "evalue": "invalid syntax (3946608170.py, line 1)",
     "output_type": "error",
     "traceback": [
      "\u001b[1;36m  Input \u001b[1;32mIn [134]\u001b[1;36m\u001b[0m\n\u001b[1;33m    scrapy genspider pib_spider pib.gov.in\u001b[0m\n\u001b[1;37m           ^\u001b[0m\n\u001b[1;31mSyntaxError\u001b[0m\u001b[1;31m:\u001b[0m invalid syntax\n"
     ]
    }
   ],
   "source": [
    "scrapy genspider pib_spider pib.gov.in\n"
   ]
  },
  {
   "cell_type": "code",
   "execution_count": null,
   "id": "00f74a82",
   "metadata": {},
   "outputs": [],
   "source": []
  }
 ],
 "metadata": {
  "kernelspec": {
   "display_name": "Python 3 (ipykernel)",
   "language": "python",
   "name": "python3"
  },
  "language_info": {
   "codemirror_mode": {
    "name": "ipython",
    "version": 3
   },
   "file_extension": ".py",
   "mimetype": "text/x-python",
   "name": "python",
   "nbconvert_exporter": "python",
   "pygments_lexer": "ipython3",
   "version": "3.9.12"
  }
 },
 "nbformat": 4,
 "nbformat_minor": 5
}
